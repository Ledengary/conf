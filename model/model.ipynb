{
 "cells": [
  {
   "cell_type": "code",
   "execution_count": 1,
   "metadata": {},
   "outputs": [],
   "source": [
    "# define visible cuda devices to 6\n",
    "import os\n",
    "os.environ[\"CUDA_VISIBLE_DEVICES\"] = \"6\""
   ]
  },
  {
   "cell_type": "code",
   "execution_count": 2,
   "metadata": {},
   "outputs": [
    {
     "name": "stderr",
     "output_type": "stream",
     "text": [
      "/home/rkhanm1/anaconda3/envs/vllm_env/lib/python3.12/site-packages/tqdm/auto.py:21: TqdmWarning: IProgress not found. Please update jupyter and ipywidgets. See https://ipywidgets.readthedocs.io/en/stable/user_install.html\n",
      "  from .autonotebook import tqdm as notebook_tqdm\n"
     ]
    },
    {
     "name": "stdout",
     "output_type": "stream",
     "text": [
      "Train samples: 5979\n",
      "Val samples: 1494\n",
      "Test samples: 1319\n"
     ]
    }
   ],
   "source": [
    "import os\n",
    "import jsonlines\n",
    "import torch\n",
    "from transformers import AutoTokenizer\n",
    "from tqdm import tqdm\n",
    "the_seed = 23\n",
    "\n",
    "def load_jsonl(file_path):\n",
    "    \"\"\"Loads a JSONL file and returns a list of dictionaries.\"\"\"\n",
    "    try:\n",
    "        with jsonlines.open(file_path, \"r\") as reader:\n",
    "            return [obj for obj in reader]  # Read all JSON objects into a list\n",
    "    except FileNotFoundError:\n",
    "        print(f\"Warning: File not found - {file_path}\")\n",
    "        return []\n",
    "    except Exception as e:\n",
    "        print(f\"Error loading {file_path}: {e}\")\n",
    "        return []\n",
    "\n",
    "def load_dataset_splits(base_dir, model_id, splits=(\"train\", \"val\", \"test\")):\n",
    "    \"\"\"\n",
    "    Loads dataset splits from JSONL files.\n",
    "    \n",
    "    Args:\n",
    "        base_dir (str): The base directory where dataset files are stored.\n",
    "        model_id (str): The subdirectory for the model.\n",
    "        splits (tuple): Dataset splits to load (default: train, val, test).\n",
    "\n",
    "    Returns:\n",
    "        dict: A dictionary with split names as keys and loaded data as values.\n",
    "    \"\"\"\n",
    "    dataset = {}\n",
    "    for split in splits:\n",
    "        file_path = os.path.join(base_dir, model_id, f\"{split}_wconf.jsonl\")\n",
    "        dataset[split] = load_jsonl(file_path)\n",
    "    \n",
    "    return dataset\n",
    "\n",
    "# Define paths and load datasets\n",
    "llm_id = \"Llama-3.1-8B-Instruct\"\n",
    "wconf_dir_path = \"../data/GSM8K/\"\n",
    "dataset = load_dataset_splits(wconf_dir_path, llm_id)\n",
    "\n",
    "# Print dataset sizes\n",
    "for split, data in dataset.items():\n",
    "    print(f\"{split.capitalize()} samples: {len(data)}\")"
   ]
  },
  {
   "cell_type": "code",
   "execution_count": 6,
   "metadata": {},
   "outputs": [
    {
     "name": "stdout",
     "output_type": "stream",
     "text": [
      "dict_keys(['train', 'val', 'test'])\n",
      "train: dict_keys(['question', 'full_answer', 'final_answer', 'empirical_confidence', 'confidence_runs'])\n",
      "question: Summer and Jolly both went to the same middle school. However, when they finished college, Summer ha\n",
      "full_answer: Jolly has 150 - 5 = <<150-5=145>>145 degrees\n",
      "Since Summer has 150 degrees, the combined total for bo\n",
      "final_answer: 295\n",
      "empirical_confidence: 0.16666666666666666\n",
      "confidence_runs len: 30\n",
      "confidence_runs sample keys: dict_keys(['full_llm_answer', 'final_llm_answer'])\n",
      "confidence_runs sample full_llm_answer: This question is identical to the first one provided. The correct solution to the problem is as foll\n",
      "confidence_runs sample final_llm_answer: None\n"
     ]
    }
   ],
   "source": [
    "print(dataset.keys())\n",
    "print('train:', dataset['train'][0].keys())\n",
    "print('question:', dataset['train'][0]['question'][:100])\n",
    "print('full_answer:', dataset['train'][0]['full_answer'][:100])\n",
    "print('final_answer:', dataset['train'][0]['final_answer'])\n",
    "print('empirical_confidence:', dataset['train'][0]['empirical_confidence'])\n",
    "print('confidence_runs len:', len(dataset['train'][0]['confidence_runs']))\n",
    "print('confidence_runs sample keys:', dataset['train'][0]['confidence_runs'][0].keys())\n",
    "print('confidence_runs sample full_llm_answer:', dataset['train'][0]['confidence_runs'][0]['full_llm_answer'][:100])\n",
    "print('confidence_runs sample final_llm_answer:', dataset['train'][0]['confidence_runs'][0]['final_llm_answer'])"
   ]
  },
  {
   "cell_type": "code",
   "execution_count": 7,
   "metadata": {},
   "outputs": [
    {
     "data": {
      "image/png": "[encoded data removed]",
      "text/plain": [
       "<Figure size 640x480 with 1 Axes>"
      ]
     },
     "metadata": {},
     "output_type": "display_data"
    }
   ],
   "source": [
    "# create a histogram of empirical_confidence\n",
    "import matplotlib.pyplot as plt\n",
    "\n",
    "empirical_confidence = [item['empirical_confidence'] for item in dataset['train']]\n",
    "plt.hist(empirical_confidence, bins=20)\n",
    "plt.xlabel('empirical_confidence')\n",
    "plt.ylabel('count')\n",
    "plt.title('Histogram of empirical_confidence')\n",
    "plt.show()"
   ]
  },
  {
   "cell_type": "code",
   "execution_count": null,
   "metadata": {},
   "outputs": [
    {
     "name": "stderr",
     "output_type": "stream",
     "text": [
      "100%|██████████| 5979/5979 [00:08<00:00, 682.10it/s]\n",
      "100%|██████████| 1494/1494 [00:02<00:00, 684.59it/s]\n",
      "100%|██████████| 1319/1319 [00:01<00:00, 680.78it/s]"
     ]
    },
    {
     "name": "stdout",
     "output_type": "stream",
     "text": [
      "Train flattened samples: 179370\n",
      "Val flattened samples: 44820\n",
      "Test flattened samples: 39570\n"
     ]
    },
    {
     "name": "stderr",
     "output_type": "stream",
     "text": [
      "\n"
     ]
    }
   ],
   "source": [
    "def gsm8k_system_prompt():\n",
    "    return \"You are a mathematics expert. You will be given a mathematics problem which you need to solve. Provide the final answer clearly at the end in the format: #### <final answer>.\"\n",
    "\n",
    "def load_few_shot_examples(gsm8k_path, nshots):\n",
    "    file_path = os.path.join(gsm8k_path, f\"{nshots}-shots.txt\")\n",
    "    with open(file_path, \"r\", encoding=\"utf-8\") as f:\n",
    "        return f.read().strip()\n",
    "    \n",
    "\n",
    "def create_flattened_dataset(samples, few_shot_prompt, system_prompt, tokenizer):\n",
    "    \"\"\"\n",
    "    For each sample in 'samples' (each representing one question), create\n",
    "    a new record for each run (i.e. each LLM output in confidence_runs) using a chat conversation.\n",
    "    \n",
    "    The conversation is constructed as follows:\n",
    "      - System: system_prompt\n",
    "      - User: few_shot_prompt + \"\\nQuestion: {question}\\nAnswer:\"\n",
    "      - Assistant: the LLM's generated answer (taken from run[\"full_llm_answer\"])\n",
    "    \n",
    "    Each new record contains:\n",
    "      - \"input_str\": the formatted conversation (using the chat template)\n",
    "      - \"empirical_confidence\": the aggregated target (same for all runs of that question)\n",
    "    \n",
    "    Args:\n",
    "        samples (list): List of original samples from the dataset.\n",
    "        few_shot_prompt (str): The few-shot examples.\n",
    "        system_prompt (str): The system instruction.\n",
    "        tokenizer: The tokenizer that supports chat formatting.\n",
    "        num_runs (int or None): If set, use only the first num_runs from each sample's confidence_runs.\n",
    "    \n",
    "    Returns:\n",
    "        flattened_data (list of dict): The new flattened dataset.\n",
    "    \"\"\"\n",
    "    flattened_data = []\n",
    "    for sample in tqdm(samples):\n",
    "        # Build the user prompt (do not include any ground truth answer here)\n",
    "        user_prompt = f\"{few_shot_prompt}Question: {sample['question']}\\nAnswer: \"\n",
    "        # If num_runs is specified, restrict to that many runs; otherwise, use all runs.\n",
    "        runs = sample[\"confidence_runs\"]\n",
    "        for run in runs:\n",
    "            assistant_message = run[\"full_llm_answer\"].strip()\n",
    "            assistant_message = assistant_message.split('Assistant Message: ')[-1]\n",
    "            conversation = [\n",
    "                {\"role\": \"system\", \"content\": system_prompt},\n",
    "                {\"role\": \"user\", \"content\": user_prompt},\n",
    "                {\"role\": \"assistant\", \"content\": assistant_message}\n",
    "            ]\n",
    "            formatted_str = tokenizer.apply_chat_template(conversation, tokenize=False)\n",
    "            new_record = {\n",
    "                \"input_str\": formatted_str,\n",
    "                \"empirical_confidence\": sample[\"empirical_confidence\"]\n",
    "            }\n",
    "            flattened_data.append(new_record)\n",
    "    return flattened_data\n",
    "\n",
    "\n",
    "gsm8k_path = \"../data/GSM8K/\"\n",
    "nshots = 10\n",
    "model_name = \"meta-llama/Llama-3.1-8B-Instruct\"  # Replace with your actual model name or path.\n",
    "tokenizer = AutoTokenizer.from_pretrained(model_name)\n",
    "few_shot_prompt = load_few_shot_examples(gsm8k_path, nshots)\n",
    "system_prompt = gsm8k_system_prompt()\n",
    "\n",
    "# Flatten the dataset for train val test and define dataset_flat\n",
    "dataset_flat = {}\n",
    "for split, data in dataset.items():\n",
    "    dataset_flat[split] = create_flattened_dataset(data, few_shot_prompt, system_prompt, tokenizer)\n",
    "\n",
    "# Print dataset sizes\n",
    "for split, data in dataset_flat.items():\n",
    "    print(f\"{split.capitalize()} flattened samples: {len(data)}\")"
   ]
  },
  {
   "cell_type": "code",
   "execution_count": 9,
   "metadata": {},
   "outputs": [
    {
     "name": "stdout",
     "output_type": "stream",
     "text": [
      "All header ids found in all samples of all splits of dataset flat\n",
      "All samples of all splits of dataset flat have eos token at the end\n"
     ]
    }
   ],
   "source": [
    "# now assert for system user and assistant header ids across all splits of the dataset flat\n",
    "for split, data in dataset_flat.items():\n",
    "    for sample in data:\n",
    "        assert \"<|start_header_id|>system<|end_header_id|>\" in sample['input_str']\n",
    "        assert \"<|start_header_id|>user<|end_header_id|>\" in sample['input_str']\n",
    "        assert \"<|start_header_id|>assistant<|end_header_id|>\" in sample['input_str']\n",
    "        eos_token = tokenizer.eos_token\n",
    "        assert sample['input_str'].endswith(eos_token)\n",
    "print('All header ids found in all samples of all splits of dataset flat')\n",
    "print('All samples of all splits of dataset flat have eos token at the end')"
   ]
  },
  {
   "cell_type": "code",
   "execution_count": 19,
   "metadata": {},
   "outputs": [
    {
     "name": "stderr",
     "output_type": "stream",
     "text": [
      "100%|██████████| 179370/179370 [10:14<00:00, 291.68it/s]\n",
      "100%|██████████| 44820/44820 [02:34<00:00, 290.77it/s]\n",
      "100%|██████████| 39570/39570 [02:16<00:00, 289.22it/s]\n"
     ]
    }
   ],
   "source": [
    "# now calculate the token count of the flat train val and test, and then return the min q1 q2 q3 q4 max median and mean \n",
    "\n",
    "def calculate_token_count(data_flat):\n",
    "    \"\"\"\n",
    "    Calculate the token count of each sample in the flattened dataset.\n",
    "    \n",
    "    Args:\n",
    "        data_flat (list): The flattened dataset.\n",
    "    \n",
    "    Returns:\n",
    "        list: The token counts of each sample.\n",
    "    \"\"\"\n",
    "    token_counts = []\n",
    "    for sample in tqdm(data_flat):\n",
    "        token_count = len(tokenizer(sample[\"input_str\"])[\"input_ids\"])\n",
    "        token_counts.append(token_count)\n",
    "    return token_counts\n",
    "\n",
    "# Calculate token counts for each split\n",
    "token_counts = {}\n",
    "for split, data in dataset_flat.items():\n",
    "    token_counts[split] = calculate_token_count(data)"
   ]
  },
  {
   "cell_type": "code",
   "execution_count": 20,
   "metadata": {},
   "outputs": [
    {
     "name": "stdout",
     "output_type": "stream",
     "text": [
      "Train samples:\n",
      "  Min: 1825.0\n",
      "  Q1: 1960.0\n",
      "  Q2 (Median): 2001.0\n",
      "  Q3: 2056.0\n",
      "  Q4: 2465.0\n",
      "  Max: 2465.0\n",
      "  Mean: 2020.5556640625\n",
      "\n",
      "Val samples:\n",
      "  Min: 1828.0\n",
      "  Q1: 1959.0\n",
      "  Q2 (Median): 2001.0\n",
      "  Q3: 2058.0\n",
      "  Q4: 2477.0\n",
      "  Max: 2477.0\n",
      "  Mean: 2020.37841796875\n",
      "\n",
      "Test samples:\n",
      "  Min: 1830.0\n",
      "  Q1: 1964.0\n",
      "  Q2 (Median): 2007.0\n",
      "  Q3: 2066.0\n",
      "  Q4: 2480.0\n",
      "  Max: 2480.0\n",
      "  Mean: 2028.8065185546875\n",
      "\n"
     ]
    }
   ],
   "source": [
    "stats = {}\n",
    "for split, counts in token_counts.items():\n",
    "    tensor_counts = torch.tensor(counts, dtype=torch.float32)  # Ensure tensor is float32\n",
    "    stats[split] = {\n",
    "        \"min\": tensor_counts.min().item(),\n",
    "        \"q1\": torch.quantile(tensor_counts, 0.25, interpolation=\"lower\").item(),\n",
    "        \"q2\": torch.quantile(tensor_counts, 0.5, interpolation=\"lower\").item(),  # Median\n",
    "        \"q3\": torch.quantile(tensor_counts, 0.75, interpolation=\"lower\").item(),\n",
    "        \"q4\": torch.quantile(tensor_counts, 1.0, interpolation=\"lower\").item(),\n",
    "        \"max\": tensor_counts.max().item(),\n",
    "        \"mean\": tensor_counts.mean().item()\n",
    "    }\n",
    "\n",
    "# Print statistics\n",
    "for split, s in stats.items():\n",
    "    print(f\"{split.capitalize()} samples:\")\n",
    "    print(f\"  Min: {s['min']}\")\n",
    "    print(f\"  Q1: {s['q1']}\")\n",
    "    print(f\"  Q2 (Median): {s['q2']}\")\n",
    "    print(f\"  Q3: {s['q3']}\")\n",
    "    print(f\"  Q4: {s['q4']}\")\n",
    "    print(f\"  Max: {s['max']}\")\n",
    "    print(f\"  Mean: {s['mean']}\")\n",
    "    print()\n",
    "\n",
    "#1B\n",
    "# Train samples:\n",
    "#   Min: 1809.0\n",
    "#   Q1: 1881.0\n",
    "#   Q2 (Median): 1956.0\n",
    "#   Q3: 2231.0\n",
    "#   Q4: 2506.0\n",
    "#   Max: 2506.0\n",
    "#   Mean: 2042.68701171875\n",
    "\n",
    "# Val samples:\n",
    "#   Min: 1816.0\n",
    "#   Q1: 1882.0\n",
    "#   Q2 (Median): 1958.0\n",
    "#   Q3: 2239.0\n",
    "#   Q4: 2482.0\n",
    "#   Max: 2482.0\n",
    "#   Mean: 2044.6029052734375\n",
    "\n",
    "# Test samples:\n",
    "#   Min: 1820.0\n",
    "#   Q1: 1883.0\n",
    "#   Q2 (Median): 1958.0\n",
    "#   Q3: 2230.0\n",
    "#   Q4: 2486.0\n",
    "#   Max: 2486.0\n",
    "#   Mean: 2044.8023681640625\n",
    "\n",
    "#8B\n",
    "# Train samples:\n",
    "#   Min: 1825.0\n",
    "#   Q1: 1960.0\n",
    "#   Q2 (Median): 2001.0\n",
    "#   Q3: 2056.0\n",
    "#   Q4: 2465.0\n",
    "#   Max: 2465.0\n",
    "#   Mean: 2020.5556640625\n",
    "\n",
    "# Val samples:\n",
    "#   Min: 1828.0\n",
    "#   Q1: 1959.0\n",
    "#   Q2 (Median): 2001.0\n",
    "#   Q3: 2058.0\n",
    "#   Q4: 2477.0\n",
    "#   Max: 2477.0\n",
    "#   Mean: 2020.37841796875\n",
    "\n",
    "# Test samples:\n",
    "#   Min: 1830.0\n",
    "#   Q1: 1964.0\n",
    "#   Q2 (Median): 2007.0\n",
    "#   Q3: 2066.0\n",
    "#   Q4: 2480.0\n",
    "#   Max: 2480.0\n",
    "#   Mean: 2028.8065185546875"
   ]
  },
  {
   "cell_type": "markdown",
   "metadata": {},
   "source": [
    "## Memory Tests"
   ]
  },
  {
   "cell_type": "code",
   "execution_count": 8,
   "metadata": {},
   "outputs": [],
   "source": [
    "import torch\n",
    "from torch import nn\n",
    "from torch.optim import Adam\n",
    "from transformers import AutoTokenizer, AutoModelForCausalLM\n",
    "from torch.utils.data import DataLoader\n",
    "from datasets import Dataset\n",
    "from tqdm import tqdm\n",
    "import math\n",
    "import random\n",
    "import os\n",
    "\n",
    "# --- Model Setup ---\n",
    "model_name = \"meta-llama/Llama-3.2-1B-Instruct\"  # Replace with your model's path/name\n",
    "max_seq_len = 2300\n",
    "tokenizer = AutoTokenizer.from_pretrained(model_name)\n",
    "llm = AutoModelForCausalLM.from_pretrained(model_name)\n",
    "if tokenizer.pad_token is None:\n",
    "    tokenizer.pad_token = tokenizer.eos_token\n",
    "\n",
    "# Freeze LLM parameters.\n",
    "for param in llm.parameters():\n",
    "    param.requires_grad = False\n",
    "\n",
    "hidden_size = llm.config.hidden_size\n",
    "\n",
    "class ConfidenceHead(nn.Module):\n",
    "    def __init__(self, hidden_size):\n",
    "        super(ConfidenceHead, self).__init__()\n",
    "        self.linear = nn.Linear(hidden_size, 1)\n",
    "        self.sigmoid = nn.Sigmoid()\n",
    "    \n",
    "    def forward(self, hidden_state):\n",
    "        # hidden_state: (batch_size, hidden_size)\n",
    "        x = self.linear(hidden_state)\n",
    "        conf = self.sigmoid(x)\n",
    "        return conf.squeeze(-1)\n",
    "\n",
    "confidence_head = ConfidenceHead(hidden_size)\n",
    "\n",
    "device = torch.device(\"cuda\" if torch.cuda.is_available() else \"cpu\")\n",
    "llm.to(device)\n",
    "confidence_head.to(device)\n",
    "\n",
    "optimizer = Adam(confidence_head.parameters(), lr=1e-4)\n",
    "criterion = nn.MSELoss()"
   ]
  },
  {
   "cell_type": "code",
   "execution_count": 9,
   "metadata": {},
   "outputs": [
    {
     "data": {
      "text/plain": [
       "LlamaForCausalLM(\n",
       "  (model): LlamaModel(\n",
       "    (embed_tokens): Embedding(128256, 2048)\n",
       "    (layers): ModuleList(\n",
       "      (0-15): 16 x LlamaDecoderLayer(\n",
       "        (self_attn): LlamaAttention(\n",
       "          (q_proj): Linear(in_features=2048, out_features=2048, bias=False)\n",
       "          (k_proj): Linear(in_features=2048, out_features=512, bias=False)\n",
       "          (v_proj): Linear(in_features=2048, out_features=512, bias=False)\n",
       "          (o_proj): Linear(in_features=2048, out_features=2048, bias=False)\n",
       "        )\n",
       "        (mlp): LlamaMLP(\n",
       "          (gate_proj): Linear(in_features=2048, out_features=8192, bias=False)\n",
       "          (up_proj): Linear(in_features=2048, out_features=8192, bias=False)\n",
       "          (down_proj): Linear(in_features=8192, out_features=2048, bias=False)\n",
       "          (act_fn): SiLU()\n",
       "        )\n",
       "        (input_layernorm): LlamaRMSNorm((2048,), eps=1e-05)\n",
       "        (post_attention_layernorm): LlamaRMSNorm((2048,), eps=1e-05)\n",
       "      )\n",
       "    )\n",
       "    (norm): LlamaRMSNorm((2048,), eps=1e-05)\n",
       "    (rotary_emb): LlamaRotaryEmbedding()\n",
       "  )\n",
       "  (lm_head): Linear(in_features=2048, out_features=128256, bias=False)\n",
       ")"
      ]
     },
     "execution_count": 9,
     "metadata": {},
     "output_type": "execute_result"
    }
   ],
   "source": [
    "llm"
   ]
  },
  {
   "cell_type": "code",
   "execution_count": 9,
   "metadata": {},
   "outputs": [
    {
     "name": "stdout",
     "output_type": "stream",
     "text": [
      "Before forward pass: 4.603811264038086 GB\n",
      "After forward pass: 6.182218551635742 GB\n",
      "Hidden states shape: torch.Size([1, 2345, 2048])\n"
     ]
    }
   ],
   "source": [
    "# Test 1: Single sample memory usage\n",
    "sample = dataset_flat['train'][0]\n",
    "inputs = tokenizer(sample['input_str'], return_tensors=\"pt\", padding=True).to(device)\n",
    "\n",
    "print(\"Before forward pass:\", torch.cuda.memory_allocated()/1024**3, \"GB\")\n",
    "with torch.no_grad():\n",
    "    outputs = llm(**inputs, output_hidden_states=True)\n",
    "print(\"After forward pass:\", torch.cuda.memory_allocated()/1024**3, \"GB\")\n",
    "print(\"Hidden states shape:\", outputs.hidden_states[-1].shape)\n",
    "torch.cuda.empty_cache()"
   ]
  },
  {
   "cell_type": "code",
   "execution_count": 10,
   "metadata": {},
   "outputs": [
    {
     "name": "stdout",
     "output_type": "stream",
     "text": [
      "Before forward pass: 6.182218551635742 GB\n",
      "After forward pass: 6.183622360229492 GB\n",
      "Hidden states shape: torch.Size([1, 2345, 2048])\n"
     ]
    }
   ],
   "source": [
    "# Test 1: Single sample memory usage\n",
    "sample = dataset_flat['train'][0]\n",
    "inputs = tokenizer(sample['input_str'], return_tensors=\"pt\", padding=True).to(device)\n",
    "\n",
    "print(\"Before forward pass:\", torch.cuda.memory_allocated()/1024**3, \"GB\")\n",
    "with torch.no_grad():\n",
    "    outputs = llm(**inputs, output_hidden_states=True)\n",
    "print(\"After forward pass:\", torch.cuda.memory_allocated()/1024**3, \"GB\")\n",
    "print(\"Hidden states shape:\", outputs.hidden_states[-1].shape)\n",
    "torch.cuda.empty_cache()"
   ]
  },
  {
   "cell_type": "code",
   "execution_count": 11,
   "metadata": {},
   "outputs": [
    {
     "name": "stdout",
     "output_type": "stream",
     "text": [
      "Before forward pass: 6.183622360229492 GB\n",
      "After forward pass: 6.184324264526367 GB\n",
      "Hidden states shape: torch.Size([1, 2345, 2048])\n"
     ]
    }
   ],
   "source": [
    "# Test 1: Single sample memory usage\n",
    "sample = dataset_flat['train'][0]\n",
    "inputs = tokenizer(sample['input_str'], return_tensors=\"pt\", padding=True).to(device)\n",
    "\n",
    "print(\"Before forward pass:\", torch.cuda.memory_allocated()/1024**3, \"GB\")\n",
    "with torch.no_grad():\n",
    "    outputs = llm(**inputs, output_hidden_states=True)\n",
    "print(\"After forward pass:\", torch.cuda.memory_allocated()/1024**3, \"GB\")\n",
    "print(\"Hidden states shape:\", outputs.hidden_states[-1].shape)\n",
    "torch.cuda.empty_cache()"
   ]
  },
  {
   "cell_type": "code",
   "execution_count": 12,
   "metadata": {},
   "outputs": [
    {
     "name": "stdout",
     "output_type": "stream",
     "text": [
      "Initial memory: 6.184324264526367 GB\n",
      "After base model: 5.063932418823242 GB\n",
      "Last hidden state shape: torch.Size([1, 2345, 2048])\n"
     ]
    }
   ],
   "source": [
    "# Test 2: Check memory usage during attention computation\n",
    "sample = dataset_flat['train'][0]\n",
    "inputs = tokenizer(sample['input_str'], return_tensors=\"pt\", padding=True).to(device)\n",
    "\n",
    "print(\"Initial memory:\", torch.cuda.memory_allocated()/1024**3, \"GB\")\n",
    "with torch.no_grad():\n",
    "    # Only get hidden states, no lm_head\n",
    "    outputs = llm.model(**inputs, output_hidden_states=True)\n",
    "print(\"After base model:\", torch.cuda.memory_allocated()/1024**3, \"GB\")\n",
    "print(\"Last hidden state shape:\", outputs.hidden_states[-1].shape)\n",
    "torch.cuda.empty_cache()"
   ]
  },
  {
   "cell_type": "code",
   "execution_count": 20,
   "metadata": {},
   "outputs": [
    {
     "name": "stdout",
     "output_type": "stream",
     "text": [
      "sample token count: 512\n"
     ]
    }
   ],
   "source": [
    "# how many tokens does sample have\n",
    "print('sample token count:', len(inputs['input_ids'][0]))"
   ]
  },
  {
   "cell_type": "code",
   "execution_count": 21,
   "metadata": {},
   "outputs": [
    {
     "name": "stdout",
     "output_type": "stream",
     "text": [
      "Original token count: 2345\n",
      "String length: 8995\n",
      "First 100 chars: <|begin_of_text|><|start_header_id|>system<|end_header_id|>\n",
      "\n",
      "Cutting Knowledge Date: December 2023\n",
      "T\n"
     ]
    }
   ],
   "source": [
    "# Check original sequence length before truncation\n",
    "sample = dataset_flat['train'][0]\n",
    "inputs_no_truncation = tokenizer(sample['input_str'], \n",
    "                               return_tensors=\"pt\",\n",
    "                               padding=True)\n",
    "print('Original token count:', len(inputs_no_truncation['input_ids'][0]))\n",
    "\n",
    "# Print the actual string length\n",
    "print('String length:', len(sample['input_str']))\n",
    "print('First 100 chars:', sample['input_str'][:100])"
   ]
  },
  {
   "cell_type": "code",
   "execution_count": 13,
   "metadata": {},
   "outputs": [
    {
     "name": "stdout",
     "output_type": "stream",
     "text": [
      "Initial memory: 5.063932418823242 GB\n",
      "After base model: 5.063230514526367 GB\n",
      "Last hidden state shape: torch.Size([1, 2345, 2048])\n"
     ]
    }
   ],
   "source": [
    "# Test 2: Check memory usage during attention computation\n",
    "sample = dataset_flat['train'][0]\n",
    "inputs = tokenizer(sample['input_str'], return_tensors=\"pt\", padding=True).to(device)\n",
    "\n",
    "print(\"Initial memory:\", torch.cuda.memory_allocated()/1024**3, \"GB\")\n",
    "with torch.no_grad():\n",
    "    # Only get hidden states, no lm_head\n",
    "    outputs = llm.model(**inputs, output_hidden_states=True)\n",
    "print(\"After base model:\", torch.cuda.memory_allocated()/1024**3, \"GB\")\n",
    "print(\"Last hidden state shape:\", outputs.hidden_states[-1].shape)\n",
    "torch.cuda.empty_cache()"
   ]
  },
  {
   "cell_type": "code",
   "execution_count": 14,
   "metadata": {},
   "outputs": [
    {
     "name": "stdout",
     "output_type": "stream",
     "text": [
      "Initial memory: 5.063230514526367 GB\n",
      "After base model: 5.063932418823242 GB\n",
      "Last hidden state shape: torch.Size([1, 2345, 2048])\n"
     ]
    }
   ],
   "source": [
    "# Test 2: Check memory usage during attention computation\n",
    "sample = dataset_flat['train'][0]\n",
    "inputs = tokenizer(sample['input_str'], return_tensors=\"pt\", padding=True).to(device)\n",
    "\n",
    "print(\"Initial memory:\", torch.cuda.memory_allocated()/1024**3, \"GB\")\n",
    "with torch.no_grad():\n",
    "    # Only get hidden states, no lm_head\n",
    "    outputs = llm.model(**inputs, output_hidden_states=True)\n",
    "print(\"After base model:\", torch.cuda.memory_allocated()/1024**3, \"GB\")\n",
    "print(\"Last hidden state shape:\", outputs.hidden_states[-1].shape)\n",
    "torch.cuda.empty_cache()"
   ]
  },
  {
   "cell_type": "code",
   "execution_count": 15,
   "metadata": {},
   "outputs": [
    {
     "name": "stdout",
     "output_type": "stream",
     "text": [
      "Initial memory: 5.063932418823242 GB\n",
      "After getting last hidden: 5.063230514526367 GB\n",
      "Last token hidden state shape: torch.Size([1, 2048])\n"
     ]
    }
   ],
   "source": [
    "# Test 3: Check memory usage when only keeping last token\n",
    "sample = dataset_flat['train'][0]\n",
    "inputs = tokenizer(sample['input_str'], return_tensors=\"pt\", padding=True).to(device)\n",
    "\n",
    "print(\"Initial memory:\", torch.cuda.memory_allocated()/1024**3, \"GB\")\n",
    "with torch.no_grad():\n",
    "    outputs = llm.model(**inputs, output_hidden_states=True)\n",
    "    last_hidden = outputs.hidden_states[-1][:, -1, :]  # Only keep last token\n",
    "print(\"After getting last hidden:\", torch.cuda.memory_allocated()/1024**3, \"GB\")\n",
    "print(\"Last token hidden state shape:\", last_hidden.shape)\n",
    "torch.cuda.empty_cache()"
   ]
  },
  {
   "cell_type": "code",
   "execution_count": 16,
   "metadata": {},
   "outputs": [
    {
     "name": "stdout",
     "output_type": "stream",
     "text": [
      "Initial memory: 5.063230514526367 GB\n",
      "After getting last hidden: 5.063932418823242 GB\n",
      "Last token hidden state shape: torch.Size([1, 2048])\n"
     ]
    }
   ],
   "source": [
    "# Test 3: Check memory usage when only keeping last token\n",
    "sample = dataset_flat['train'][0]\n",
    "inputs = tokenizer(sample['input_str'], return_tensors=\"pt\", padding=True).to(device)\n",
    "\n",
    "print(\"Initial memory:\", torch.cuda.memory_allocated()/1024**3, \"GB\")\n",
    "with torch.no_grad():\n",
    "    outputs = llm.model(**inputs, output_hidden_states=True)\n",
    "    last_hidden = outputs.hidden_states[-1][:, -1, :]  # Only keep last token\n",
    "print(\"After getting last hidden:\", torch.cuda.memory_allocated()/1024**3, \"GB\")\n",
    "print(\"Last token hidden state shape:\", last_hidden.shape)\n",
    "torch.cuda.empty_cache()"
   ]
  },
  {
   "cell_type": "code",
   "execution_count": 17,
   "metadata": {},
   "outputs": [
    {
     "name": "stdout",
     "output_type": "stream",
     "text": [
      "Initial memory: 5.063932418823242 GB\n",
      "After getting last hidden: 5.062528610229492 GB\n",
      "Last token hidden state shape: torch.Size([1, 2048])\n"
     ]
    }
   ],
   "source": [
    "# Test 3: Check memory usage when only keeping last token\n",
    "sample = dataset_flat['train'][0]\n",
    "inputs = tokenizer(sample['input_str'], return_tensors=\"pt\", padding=True).to(device)\n",
    "\n",
    "print(\"Initial memory:\", torch.cuda.memory_allocated()/1024**3, \"GB\")\n",
    "with torch.no_grad():\n",
    "    outputs = llm.model(**inputs, output_hidden_states=True)\n",
    "    last_hidden = outputs.hidden_states[-1][:, -1, :]  # Only keep last token\n",
    "print(\"After getting last hidden:\", torch.cuda.memory_allocated()/1024**3, \"GB\")\n",
    "print(\"Last token hidden state shape:\", last_hidden.shape)\n",
    "torch.cuda.empty_cache()"
   ]
  },
  {
   "cell_type": "code",
   "execution_count": 18,
   "metadata": {},
   "outputs": [
    {
     "name": "stdout",
     "output_type": "stream",
     "text": [
      "Initial memory: 5.063545227050781 GB\n",
      "After batch forward: 18.070819854736328 GB\n",
      "Batch last hidden shape: torch.Size([30, 2048])\n"
     ]
    }
   ],
   "source": [
    "# Test 4: Batch size impact on model only\n",
    "batch_samples = dataset_flat['train'][:30]  # Same as your training batch size\n",
    "inputs = tokenizer([s['input_str'] for s in batch_samples], return_tensors=\"pt\", padding=True).to(device)\n",
    "\n",
    "print(\"Initial memory:\", torch.cuda.memory_allocated()/1024**3, \"GB\")\n",
    "with torch.no_grad():\n",
    "    outputs = llm.model(**inputs, output_hidden_states=True)\n",
    "    last_hidden = outputs.hidden_states[-1][:, -1, :]\n",
    "print(\"After batch forward:\", torch.cuda.memory_allocated()/1024**3, \"GB\")\n",
    "print(\"Batch last hidden shape:\", last_hidden.shape)\n",
    "torch.cuda.empty_cache()"
   ]
  },
  {
   "cell_type": "code",
   "execution_count": 18,
   "metadata": {},
   "outputs": [
    {
     "name": "stdout",
     "output_type": "stream",
     "text": [
      "Initial memory: 5.062722206115723 GB\n",
      "After batch forward: 14.899361610412598 GB\n",
      "Input shape: torch.Size([30, 512])\n"
     ]
    }
   ],
   "source": [
    "# Test 5: Full forward pass with truncated sequences\n",
    "batch_samples = dataset_flat['train'][:30]\n",
    "inputs = tokenizer([s['input_str'] for s in batch_samples], \n",
    "                  return_tensors=\"pt\", \n",
    "                  padding=True,\n",
    "                  truncation=True,\n",
    "                  max_length=512).to(device)  # Truncate to 512 tokens\n",
    "\n",
    "print(\"Initial memory:\", torch.cuda.memory_allocated()/1024**3, \"GB\")\n",
    "with torch.no_grad():\n",
    "    outputs = llm(**inputs, output_hidden_states=True)\n",
    "print(\"After batch forward:\", torch.cuda.memory_allocated()/1024**3, \"GB\")\n",
    "print(\"Input shape:\", inputs['input_ids'].shape)\n",
    "torch.cuda.empty_cache()"
   ]
  },
  {
   "cell_type": "code",
   "execution_count": 22,
   "metadata": {},
   "outputs": [
    {
     "name": "stdout",
     "output_type": "stream",
     "text": [
      "\n",
      "Testing max_length=512\n",
      "Initial memory: 14.899140357971191 GB\n",
      "After forward: 4.70937442779541 GB\n",
      "Input shape: torch.Size([1, 512])\n",
      "\n",
      "Testing max_length=1024\n",
      "Initial memory: 4.709382057189941 GB\n",
      "After forward: 4.807038307189941 GB\n",
      "Input shape: torch.Size([1, 1024])\n",
      "\n",
      "Testing max_length=2048\n",
      "Initial memory: 4.807053565979004 GB\n",
      "After forward: 5.002366065979004 GB\n",
      "Input shape: torch.Size([1, 2048])\n"
     ]
    }
   ],
   "source": [
    "# Test 6: Single batch, varying sequence lengths\n",
    "torch.cuda.empty_cache()  # Clear memory first\n",
    "sample = dataset_flat['train'][0]\n",
    "for max_len in [512, 1024, 2048]:\n",
    "    inputs = tokenizer(sample['input_str'], \n",
    "                      return_tensors=\"pt\",\n",
    "                      padding=True,\n",
    "                      truncation=True,\n",
    "                      max_length=max_len).to(device)\n",
    "    print(f\"\\nTesting max_length={max_len}\")\n",
    "    print(\"Initial memory:\", torch.cuda.memory_allocated()/1024**3, \"GB\")\n",
    "    with torch.no_grad():\n",
    "        outputs = llm.model(**inputs, output_hidden_states=True)\n",
    "        last_hidden = outputs.hidden_states[-1][:, -1, :]\n",
    "    print(\"After forward:\", torch.cuda.memory_allocated()/1024**3, \"GB\")\n",
    "    print(\"Input shape:\", inputs['input_ids'].shape)\n",
    "    torch.cuda.empty_cache()"
   ]
  },
  {
   "cell_type": "code",
   "execution_count": 23,
   "metadata": {},
   "outputs": [
    {
     "name": "stdout",
     "output_type": "stream",
     "text": [
      "Initial memory: 5.002564430236816 GB\n",
      "After forward: 7.541626930236816 GB\n",
      "Input shape: torch.Size([30, 512])\n"
     ]
    }
   ],
   "source": [
    "# Test 7: Gradient checkpointing with manageable sequence length\n",
    "torch.cuda.empty_cache()\n",
    "llm.gradient_checkpointing_enable()\n",
    "batch_samples = dataset_flat['train'][:30]\n",
    "inputs = tokenizer([s['input_str'] for s in batch_samples],\n",
    "                  return_tensors=\"pt\",\n",
    "                  padding=True,\n",
    "                  truncation=True,\n",
    "                  max_length=512).to(device)\n",
    "\n",
    "print(\"Initial memory:\", torch.cuda.memory_allocated()/1024**3, \"GB\")\n",
    "with torch.no_grad():\n",
    "    outputs = llm.model(**inputs, output_hidden_states=True)\n",
    "    last_hidden = outputs.hidden_states[-1][:, -1, :]\n",
    "print(\"After forward:\", torch.cuda.memory_allocated()/1024**3, \"GB\")\n",
    "print(\"Input shape:\", inputs['input_ids'].shape)\n",
    "torch.cuda.empty_cache()"
   ]
  },
  {
   "cell_type": "code",
   "execution_count": 24,
   "metadata": {},
   "outputs": [
    {
     "name": "stdout",
     "output_type": "stream",
     "text": [
      "\n",
      "Testing max_length=512\n",
      "Input shape: torch.Size([30, 512])\n",
      "Initial memory: 7.541626930236816 GB\n",
      "Success! Memory after forward: 7.541626930236816 GB\n",
      "\n",
      "Testing max_length=1024\n",
      "Input shape: torch.Size([30, 1024])\n",
      "Initial memory: 7.541855812072754 GB\n",
      "Success! Memory after forward: 10.471543312072754 GB\n",
      "\n",
      "Testing max_length=2345\n",
      "Input shape: torch.Size([30, 2345])\n",
      "Initial memory: 10.472134590148926 GB\n",
      "Success! Memory after forward: 18.032864570617676 GB\n"
     ]
    }
   ],
   "source": [
    "# Test 8: Compare memory usage with different max_lengths for a batch\n",
    "torch.cuda.empty_cache()\n",
    "batch_samples = dataset_flat['train'][:30]\n",
    "\n",
    "for max_len in [512, 1024, 2345]:\n",
    "    print(f\"\\nTesting max_length={max_len}\")\n",
    "    inputs = tokenizer([s['input_str'] for s in batch_samples],\n",
    "                      return_tensors=\"pt\",\n",
    "                      padding=True,\n",
    "                      truncation=True,\n",
    "                      max_length=max_len).to(device)\n",
    "    \n",
    "    print(\"Input shape:\", inputs['input_ids'].shape)\n",
    "    print(\"Initial memory:\", torch.cuda.memory_allocated()/1024**3, \"GB\")\n",
    "    try:\n",
    "        with torch.no_grad():\n",
    "            outputs = llm.model(**inputs, output_hidden_states=True)\n",
    "            last_hidden = outputs.hidden_states[-1][:, -1, :]\n",
    "        print(\"Success! Memory after forward:\", torch.cuda.memory_allocated()/1024**3, \"GB\")\n",
    "    except RuntimeError as e:\n",
    "        print(\"Failed with error:\", e)\n",
    "    torch.cuda.empty_cache()"
   ]
  },
  {
   "cell_type": "code",
   "execution_count": 10,
   "metadata": {},
   "outputs": [
    {
     "name": "stdout",
     "output_type": "stream",
     "text": [
      "Input shape: torch.Size([30, 2351])\n",
      "Initial memory: 4.604827880859375 GB\n",
      "Success! Memory after forward: 18.070819854736328 GB\n"
     ]
    }
   ],
   "source": [
    "# Test 9: Combined optimizations\n",
    "torch.cuda.empty_cache()\n",
    "batch_samples = dataset_flat['train'][:30]\n",
    "inputs = tokenizer([s['input_str'] for s in batch_samples],\n",
    "                  return_tensors=\"pt\",\n",
    "                  padding=True).to(device)\n",
    "\n",
    "print(\"Input shape:\", inputs['input_ids'].shape)\n",
    "print(\"Initial memory:\", torch.cuda.memory_allocated()/1024**3, \"GB\")\n",
    "\n",
    "# Enable all optimizations\n",
    "llm.gradient_checkpointing_enable()\n",
    "llm.config.use_memory_efficient_attention = True\n",
    "\n",
    "try:\n",
    "    with torch.no_grad():\n",
    "        outputs = llm.model(**inputs, output_hidden_states=True)\n",
    "        last_hidden = outputs.hidden_states[-1][:, -1, :]\n",
    "    print(\"Success! Memory after forward:\", torch.cuda.memory_allocated()/1024**3, \"GB\")\n",
    "except RuntimeError as e:\n",
    "    print(\"Failed with error:\", e)"
   ]
  },
  {
   "cell_type": "code",
   "execution_count": 9,
   "metadata": {},
   "outputs": [
    {
     "name": "stdout",
     "output_type": "stream",
     "text": [
      "Input shape: torch.Size([30, 2351])\n",
      "Initial memory: 4.604827880859375 GB\n",
      "\n",
      "Processing chunk 1\n",
      "Chunk shape: torch.Size([5, 2351])\n",
      "Memory before chunk: 4.604827880859375 GB\n",
      "Memory after chunk: 6.858295440673828 GB\n",
      "\n",
      "Processing chunk 2\n",
      "Chunk shape: torch.Size([5, 2351])\n",
      "Memory before chunk: 6.858295440673828 GB\n",
      "Memory after chunk: 6.948539733886719 GB\n",
      "\n",
      "Processing chunk 3\n",
      "Chunk shape: torch.Size([5, 2351])\n",
      "Memory before chunk: 6.948539733886719 GB\n",
      "Memory after chunk: 7.0382232666015625 GB\n",
      "\n",
      "Processing chunk 4\n",
      "Chunk shape: torch.Size([5, 2351])\n",
      "Memory before chunk: 7.0382232666015625 GB\n",
      "Memory after chunk: 7.128227233886719 GB\n",
      "\n",
      "Processing chunk 5\n",
      "Chunk shape: torch.Size([5, 2351])\n",
      "Memory before chunk: 7.128227233886719 GB\n",
      "Memory after chunk: 7.217750549316406 GB\n",
      "\n",
      "Processing chunk 6\n",
      "Chunk shape: torch.Size([5, 2351])\n",
      "Memory before chunk: 7.217750549316406 GB\n",
      "Memory after chunk: 7.306953430175781 GB\n",
      "\n",
      "Final combined shape: torch.Size([30, 2048])\n",
      "Final memory usage: 7.307182312011719 GB\n"
     ]
    }
   ],
   "source": [
    "# Test 10: Chunk processing\n",
    "torch.cuda.empty_cache()\n",
    "batch_samples = dataset_flat['train'][:30]\n",
    "inputs = tokenizer([s['input_str'] for s in batch_samples],\n",
    "                  return_tensors=\"pt\",\n",
    "                  padding=True).to(device)\n",
    "\n",
    "print(\"Input shape:\", inputs['input_ids'].shape)\n",
    "print(\"Initial memory:\", torch.cuda.memory_allocated()/1024**3, \"GB\")\n",
    "\n",
    "# Process in chunks\n",
    "chunk_size = 5  # Try with small chunks first\n",
    "all_last_hidden = []\n",
    "\n",
    "for i in range(0, inputs['input_ids'].size(0), chunk_size):\n",
    "    chunk_inputs = {k: v[i:i+chunk_size] for k, v in inputs.items()}\n",
    "    print(f\"\\nProcessing chunk {i//chunk_size + 1}\")\n",
    "    print(f\"Chunk shape: {chunk_inputs['input_ids'].shape}\")\n",
    "    print(f\"Memory before chunk:\", torch.cuda.memory_allocated()/1024**3, \"GB\")\n",
    "    \n",
    "    with torch.no_grad():\n",
    "        outputs = llm.model(**chunk_inputs, output_hidden_states=True)\n",
    "        last_hidden = outputs.hidden_states[-1][:, -1, :]\n",
    "        all_last_hidden.append(last_hidden)\n",
    "    \n",
    "    print(f\"Memory after chunk:\", torch.cuda.memory_allocated()/1024**3, \"GB\")\n",
    "    torch.cuda.empty_cache()\n",
    "\n",
    "# Combine results\n",
    "final_hidden = torch.cat(all_last_hidden, dim=0)\n",
    "print(\"\\nFinal combined shape:\", final_hidden.shape)\n",
    "print(\"Final memory usage:\", torch.cuda.memory_allocated()/1024**3, \"GB\")"
   ]
  },
  {
   "cell_type": "code",
   "execution_count": 10,
   "metadata": {},
   "outputs": [
    {
     "data": {
      "text/plain": [
       "tensor([-1.7343,  1.6846,  1.7085, -1.9318, -0.0412,  2.2970, -0.6565,  0.1870,\n",
       "        -1.5813, -0.7746], device='cuda:0')"
      ]
     },
     "execution_count": 10,
     "metadata": {},
     "output_type": "execute_result"
    }
   ],
   "source": [
    "final_hidden[0, :10]"
   ]
  },
  {
   "cell_type": "code",
   "execution_count": 12,
   "metadata": {},
   "outputs": [
    {
     "name": "stdout",
     "output_type": "stream",
     "text": [
      "\n",
      "Dtype: torch.float16\n",
      "Processing time: 1.17 seconds\n",
      "Memory usage: 6.35 GB\n",
      "Sample values: tensor([-1.7334,  1.6895,  1.7168, -1.9473, -0.0240], device='cuda:0',\n",
      "       dtype=torch.float16)\n",
      "\n",
      "Dtype: torch.bfloat16\n",
      "Processing time: 1.11 seconds\n",
      "Memory usage: 6.35 GB\n",
      "Sample values: tensor([-1.9297,  1.6641,  1.7422, -1.7578,  0.0688], device='cuda:0',\n",
      "       dtype=torch.bfloat16)\n"
     ]
    }
   ],
   "source": [
    "import time\n",
    "# Test 11: Chunk processing with different precisions\n",
    "def process_chunks(model_dtype):\n",
    "    torch.cuda.empty_cache()\n",
    "    llm.to(model_dtype)\n",
    "    \n",
    "    start_time = time.time()\n",
    "    all_last_hidden = []\n",
    "    \n",
    "    for i in range(0, inputs['input_ids'].size(0), chunk_size):\n",
    "        chunk_inputs = {k: v[i:i+chunk_size] for k, v in inputs.items()}\n",
    "        with torch.no_grad():\n",
    "            outputs = llm.model(**chunk_inputs, output_hidden_states=True)\n",
    "            last_hidden = outputs.hidden_states[-1][:, -1, :]\n",
    "            all_last_hidden.append(last_hidden)\n",
    "    \n",
    "    final_hidden = torch.cat(all_last_hidden, dim=0)\n",
    "    end_time = time.time()\n",
    "    \n",
    "    print(f\"\\nDtype: {model_dtype}\")\n",
    "    print(f\"Processing time: {end_time - start_time:.2f} seconds\")\n",
    "    print(f\"Memory usage: {torch.cuda.memory_allocated()/1024**3:.2f} GB\")\n",
    "    print(f\"Sample values: {final_hidden[0, :5]}\")\n",
    "    \n",
    "    return final_hidden\n",
    "\n",
    "# Test with different precisions\n",
    "for dtype in [torch.float16, torch.bfloat16]:\n",
    "    hidden = process_chunks(dtype)"
   ]
  },
  {
   "cell_type": "code",
   "execution_count": 10,
   "metadata": {},
   "outputs": [
    {
     "name": "stdout",
     "output_type": "stream",
     "text": [
      "Input shape: torch.Size([30, 2351])\n",
      "Initial memory: 6.183235168457031 GB\n",
      "Memory after forward: 9.46023941040039 GB\n",
      "Last hidden shape: torch.Size([30, 2048])\n"
     ]
    }
   ],
   "source": [
    "# Test 12: Only get final hidden state\n",
    "torch.cuda.empty_cache()\n",
    "batch_samples = dataset_flat['train'][:30]\n",
    "inputs = tokenizer([s['input_str'] for s in batch_samples],\n",
    "                  return_tensors=\"pt\",\n",
    "                  padding=True).to(device)\n",
    "\n",
    "print(\"Input shape:\", inputs['input_ids'].shape)\n",
    "print(\"Initial memory:\", torch.cuda.memory_allocated()/1024**3, \"GB\")\n",
    "\n",
    "with torch.no_grad():\n",
    "    # Don't request all hidden states\n",
    "    outputs = llm.model(**inputs, output_hidden_states=False)\n",
    "    last_hidden = outputs.last_hidden_state[:, -1, :]  # Only get last token\n",
    "\n",
    "print(\"Memory after forward:\", torch.cuda.memory_allocated()/1024**3, \"GB\")\n",
    "print(\"Last hidden shape:\", last_hidden.shape)"
   ]
  },
  {
   "cell_type": "code",
   "execution_count": 12,
   "metadata": {},
   "outputs": [
    {
     "data": {
      "text/plain": [
       "torch.Size([30, 2351, 2048])"
      ]
     },
     "execution_count": 12,
     "metadata": {},
     "output_type": "execute_result"
    }
   ],
   "source": [
    "outputs.last_hidden_state.shape"
   ]
  },
  {
   "cell_type": "code",
   "execution_count": 11,
   "metadata": {},
   "outputs": [
    {
     "data": {
      "text/plain": [
       "LlamaForCausalLM(\n",
       "  (model): LlamaModel(\n",
       "    (embed_tokens): Embedding(128256, 2048)\n",
       "    (layers): ModuleList(\n",
       "      (0-15): 16 x LlamaDecoderLayer(\n",
       "        (self_attn): LlamaAttention(\n",
       "          (q_proj): Linear(in_features=2048, out_features=2048, bias=False)\n",
       "          (k_proj): Linear(in_features=2048, out_features=512, bias=False)\n",
       "          (v_proj): Linear(in_features=2048, out_features=512, bias=False)\n",
       "          (o_proj): Linear(in_features=2048, out_features=2048, bias=False)\n",
       "        )\n",
       "        (mlp): LlamaMLP(\n",
       "          (gate_proj): Linear(in_features=2048, out_features=8192, bias=False)\n",
       "          (up_proj): Linear(in_features=2048, out_features=8192, bias=False)\n",
       "          (down_proj): Linear(in_features=8192, out_features=2048, bias=False)\n",
       "          (act_fn): SiLU()\n",
       "        )\n",
       "        (input_layernorm): LlamaRMSNorm((2048,), eps=1e-05)\n",
       "        (post_attention_layernorm): LlamaRMSNorm((2048,), eps=1e-05)\n",
       "      )\n",
       "    )\n",
       "    (norm): LlamaRMSNorm((2048,), eps=1e-05)\n",
       "    (rotary_emb): LlamaRotaryEmbedding()\n",
       "  )\n",
       "  (lm_head): Linear(in_features=2048, out_features=128256, bias=False)\n",
       ")"
      ]
     },
     "execution_count": 11,
     "metadata": {},
     "output_type": "execute_result"
    }
   ],
   "source": [
    "llm"
   ]
  },
  {
   "cell_type": "code",
   "execution_count": null,
   "metadata": {},
   "outputs": [],
   "source": []
  },
  {
   "cell_type": "markdown",
   "metadata": {},
   "source": [
    "## Last Hidden State only (transformers)"
   ]
  },
  {
   "cell_type": "code",
   "execution_count": 8,
   "metadata": {},
   "outputs": [
    {
     "name": "stdout",
     "output_type": "stream",
     "text": [
      "Training for 3 epochs over 179370 samples (5979 batches per epoch).\n"
     ]
    },
    {
     "name": "stderr",
     "output_type": "stream",
     "text": [
      "Epoch 1 Loss: 0.0266:   1%|          | 43/5979 [06:34<15:07:35,  9.17s/it]\n"
     ]
    },
    {
     "ename": "KeyboardInterrupt",
     "evalue": "",
     "output_type": "error",
     "traceback": [
      "\u001b[0;31m---------------------------------------------------------------------------\u001b[0m",
      "\u001b[0;31mKeyboardInterrupt\u001b[0m                         Traceback (most recent call last)",
      "Cell \u001b[0;32mIn[8], line 110\u001b[0m\n\u001b[1;32m    107\u001b[0m loss\u001b[38;5;241m.\u001b[39mbackward()\n\u001b[1;32m    108\u001b[0m optimizer\u001b[38;5;241m.\u001b[39mstep()\n\u001b[0;32m--> 110\u001b[0m epoch_loss \u001b[38;5;241m+\u001b[39m\u001b[38;5;241m=\u001b[39m \u001b[43mloss\u001b[49m\u001b[38;5;241;43m.\u001b[39;49m\u001b[43mitem\u001b[49m\u001b[43m(\u001b[49m\u001b[43m)\u001b[49m\n\u001b[1;32m    111\u001b[0m pbar\u001b[38;5;241m.\u001b[39mset_description(\u001b[38;5;124mf\u001b[39m\u001b[38;5;124m\"\u001b[39m\u001b[38;5;124mEpoch \u001b[39m\u001b[38;5;132;01m{\u001b[39;00mepoch\u001b[38;5;241m+\u001b[39m\u001b[38;5;241m1\u001b[39m\u001b[38;5;132;01m}\u001b[39;00m\u001b[38;5;124m Loss: \u001b[39m\u001b[38;5;132;01m{\u001b[39;00mloss\u001b[38;5;241m.\u001b[39mitem()\u001b[38;5;132;01m:\u001b[39;00m\u001b[38;5;124m.4f\u001b[39m\u001b[38;5;132;01m}\u001b[39;00m\u001b[38;5;124m\"\u001b[39m)\n\u001b[1;32m    113\u001b[0m \u001b[38;5;66;03m# Clear cache periodically\u001b[39;00m\n",
      "\u001b[0;31mKeyboardInterrupt\u001b[0m: "
     ]
    }
   ],
   "source": [
    "import torch\n",
    "from torch import nn\n",
    "from torch.optim import Adam\n",
    "from transformers import AutoTokenizer, AutoModelForCausalLM\n",
    "from torch.utils.data import DataLoader\n",
    "from datasets import Dataset\n",
    "from tqdm import tqdm\n",
    "import math\n",
    "import random\n",
    "import os\n",
    "\n",
    "# --- Model Setup ---\n",
    "model_name = \"meta-llama/Llama-3.2-1B-Instruct\"\n",
    "tokenizer = AutoTokenizer.from_pretrained(model_name)\n",
    "llm = AutoModelForCausalLM.from_pretrained(model_name)\n",
    "\n",
    "# Set max length for tokenizer\n",
    "max_seq_length = 2300\n",
    "tokenizer.model_max_length = max_seq_length\n",
    "\n",
    "if tokenizer.pad_token is None:\n",
    "    tokenizer.pad_token = tokenizer.eos_token\n",
    "\n",
    "# # Convert model to bfloat16 for better memory efficiency\n",
    "# llm = llm.to(torch.bfloat16)\n",
    "\n",
    "# Freeze LLM parameters\n",
    "for param in llm.parameters():\n",
    "    param.requires_grad = False\n",
    "\n",
    "hidden_size = llm.config.hidden_size\n",
    "\n",
    "class ConfidenceHead(nn.Module):\n",
    "    def __init__(self, hidden_size):\n",
    "        super(ConfidenceHead, self).__init__()\n",
    "        self.linear = nn.Linear(hidden_size, 1)\n",
    "        self.sigmoid = nn.Sigmoid()\n",
    "    \n",
    "    def forward(self, hidden_state):\n",
    "        x = self.linear(hidden_state)\n",
    "        conf = self.sigmoid(x)\n",
    "        return conf.squeeze(-1)\n",
    "\n",
    "confidence_head = ConfidenceHead(hidden_size)\n",
    "device = torch.device(\"cuda\" if torch.cuda.is_available() else \"cpu\")\n",
    "llm.to(device)\n",
    "confidence_head.to(device)\n",
    "\n",
    "optimizer = Adam(confidence_head.parameters(), lr=1e-4)\n",
    "criterion = nn.MSELoss()\n",
    "\n",
    "# --- DataLoader Setup ---\n",
    "batch_q = 1\n",
    "nruns = 30\n",
    "flattened_batch_size = batch_q * nruns\n",
    "\n",
    "hf_train_dataset = Dataset.from_list(dataset_flat[\"train\"])\n",
    "\n",
    "def collate_fn(batch):\n",
    "    texts = [item[\"input_str\"] for item in batch]\n",
    "    targets = [item[\"empirical_confidence\"] for item in batch]\n",
    "    \n",
    "    # Tokenize with fixed max length\n",
    "    inputs = tokenizer(\n",
    "        texts, \n",
    "        return_tensors=\"pt\", \n",
    "        padding=True,\n",
    "        truncation=True,\n",
    "        max_length=max_seq_length\n",
    "    )\n",
    "    \n",
    "    # Verify sequence lengths\n",
    "    assert inputs['input_ids'].shape[1] <= max_seq_length, f\"Sequence length {inputs['input_ids'].shape[1]} exceeds max_seq_length {max_seq_length}\"\n",
    "    \n",
    "    for key in inputs:\n",
    "        inputs[key] = inputs[key].to(device)\n",
    "    targets = torch.tensor(targets, dtype=torch.float32, device=device)\n",
    "    return inputs, targets\n",
    "\n",
    "train_loader = DataLoader(\n",
    "    hf_train_dataset,\n",
    "    batch_size=flattened_batch_size,\n",
    "    collate_fn=collate_fn,\n",
    "    shuffle=True\n",
    ")\n",
    "\n",
    "num_epochs = 3\n",
    "print(f\"Training for {num_epochs} epochs over {len(hf_train_dataset)} samples ({len(train_loader)} batches per epoch).\")\n",
    "\n",
    "# --- Training Loop ---\n",
    "for epoch in range(num_epochs):\n",
    "    epoch_loss = 0.0\n",
    "    pbar = tqdm(train_loader, desc=f\"Epoch {epoch+1} Loss: N/A\")\n",
    "    \n",
    "    for batch_idx, (inputs, targets) in enumerate(pbar):\n",
    "        # Forward pass through frozen LLM, only getting last hidden state\n",
    "        with torch.no_grad():\n",
    "            outputs = llm.model(**inputs, output_hidden_states=False)\n",
    "            last_hidden = outputs.last_hidden_state[:, -1, :]\n",
    "        \n",
    "        # Forward pass through confidence head\n",
    "        pred_conf = confidence_head(last_hidden)\n",
    "        loss = criterion(pred_conf, targets)\n",
    "        \n",
    "        # Backward pass\n",
    "        optimizer.zero_grad()\n",
    "        loss.backward()\n",
    "        optimizer.step()\n",
    "        \n",
    "        epoch_loss += loss.item()\n",
    "        pbar.set_description(f\"Epoch {epoch+1} Loss: {loss.item():.4f}\")\n",
    "        \n",
    "        # Clear cache periodically\n",
    "        if batch_idx % 100 == 0:\n",
    "            torch.cuda.empty_cache()\n",
    "    \n",
    "    pbar.close()\n",
    "    avg_loss = epoch_loss / len(train_loader)\n",
    "    print(f\"Epoch {epoch+1} completed. Average Loss: {avg_loss:.4f}\")\n",
    "\n",
    "print(\"Training complete.\")"
   ]
  },
  {
   "cell_type": "markdown",
   "metadata": {},
   "source": [
    "## Last Hidden State only (vllm)"
   ]
  },
  {
   "cell_type": "code",
   "execution_count": 8,
   "metadata": {},
   "outputs": [
    {
     "name": "stdout",
     "output_type": "stream",
     "text": [
      "INFO 02-17 21:40:18 __init__.py:190] Automatically detected platform cuda.\n"
     ]
    },
    {
     "name": "stderr",
     "output_type": "stream",
     "text": [
      "2025-02-17 21:40:18,271\tINFO util.py:154 -- Missing packages: ['ipywidgets']. Run `pip install -U ipywidgets`, then restart the notebook server for rich notebook output.\n"
     ]
    },
    {
     "name": "stdout",
     "output_type": "stream",
     "text": [
      "WARNING 02-17 21:40:25 arg_utils.py:1145] The model has a long context length (131072). This may cause OOM errors during the initial memory profiling phase, or result in low performance due to small KV cache space. Consider setting --max-model-len to a smaller value.\n",
      "INFO 02-17 21:40:25 llm_engine.py:234] Initializing a V0 LLM engine (v0.7.2) with config: model='meta-llama/Llama-3.2-1B-Instruct', speculative_config=None, tokenizer='meta-llama/Llama-3.2-1B-Instruct', skip_tokenizer_init=False, tokenizer_mode=auto, revision=None, override_neuron_config=None, tokenizer_revision=None, trust_remote_code=False, dtype=torch.bfloat16, max_seq_len=131072, download_dir=None, load_format=LoadFormat.AUTO, tensor_parallel_size=1, pipeline_parallel_size=1, disable_custom_all_reduce=False, quantization=None, enforce_eager=False, kv_cache_dtype=auto,  device_config=cuda, decoding_config=DecodingConfig(guided_decoding_backend='xgrammar'), observability_config=ObservabilityConfig(otlp_traces_endpoint=None, collect_model_forward_time=False, collect_model_execute_time=False), seed=23, served_model_name=meta-llama/Llama-3.2-1B-Instruct, num_scheduler_steps=1, multi_step_stream_outputs=True, enable_prefix_caching=False, chunked_prefill_enabled=False, use_async_output_proc=False, disable_mm_preprocessor_cache=False, mm_processor_kwargs=None, pooler_config=PoolerConfig(pooling_type=None, normalize=None, softmax=None, step_tag_id=None, returned_token_ids=None), compilation_config={\"splitting_ops\":[],\"compile_sizes\":[],\"cudagraph_capture_sizes\":[256,248,240,232,224,216,208,200,192,184,176,168,160,152,144,136,128,120,112,104,96,88,80,72,64,56,48,40,32,24,16,8,4,2,1],\"max_capture_size\":256}, use_cached_outputs=False, \n",
      "INFO 02-17 21:40:27 cuda.py:230] Using Flash Attention backend.\n",
      "INFO 02-17 21:40:28 model_runner.py:1110] Starting to load model meta-llama/Llama-3.2-1B-Instruct...\n",
      "INFO 02-17 21:40:28 weight_utils.py:252] Using model weights format ['*.safetensors']\n",
      "INFO 02-17 21:40:28 weight_utils.py:297] No model.safetensors.index.json found in remote.\n"
     ]
    },
    {
     "name": "stderr",
     "output_type": "stream",
     "text": [
      "Loading safetensors checkpoint shards:   0% Completed | 0/1 [00:00<?, ?it/s]\n",
      "Loading safetensors checkpoint shards: 100% Completed | 1/1 [00:00<00:00,  2.42it/s]\n",
      "Loading safetensors checkpoint shards: 100% Completed | 1/1 [00:00<00:00,  2.41it/s]\n",
      "\n"
     ]
    },
    {
     "name": "stdout",
     "output_type": "stream",
     "text": [
      "INFO 02-17 21:40:29 model_runner.py:1115] Loading model weights took 2.3185 GB\n",
      "Using device: cuda\n"
     ]
    }
   ],
   "source": [
    "import os\n",
    "import torch\n",
    "from torch import nn\n",
    "from torch.optim import Adam\n",
    "from transformers import AutoTokenizer\n",
    "from datasets import Dataset\n",
    "from torch.utils.data import DataLoader\n",
    "from tqdm import tqdm\n",
    "from vllm import LLM\n",
    "\n",
    "# --- Model Setup ---\n",
    "model_name = \"meta-llama/Llama-3.2-1B-Instruct\"\n",
    "tokenizer = AutoTokenizer.from_pretrained(model_name)\n",
    "\n",
    "# Set max sequence length\n",
    "max_seq_length = 2300\n",
    "tokenizer.model_max_length = max_seq_length\n",
    "\n",
    "# Ensure tokenizer has a pad token\n",
    "if tokenizer.pad_token is None:\n",
    "    tokenizer.pad_token = tokenizer.eos_token\n",
    "\n",
    "# Load frozen LLM using vLLM\n",
    "llm = LLM(model=model_name, \n",
    "          task=\"reward\", \n",
    "          gpu_memory_utilization=0.8, \n",
    "          tensor_parallel_size=1, \n",
    "          seed=the_seed)\n",
    "\n",
    "if '1B' in model_name:\n",
    "    hidden_size = 2048\n",
    "elif '8B' in model_name:\n",
    "    hidden_size = 4096\n",
    "\n",
    "# Define confidence head\n",
    "class ConfidenceHead(nn.Module):\n",
    "    def __init__(self, hidden_size):\n",
    "        super(ConfidenceHead, self).__init__()\n",
    "        self.linear = nn.Linear(hidden_size, 1)\n",
    "        self.sigmoid = nn.Sigmoid()\n",
    "    \n",
    "    def forward(self, hidden_state):\n",
    "        x = self.linear(hidden_state)\n",
    "        conf = self.sigmoid(x)\n",
    "        return conf.squeeze(-1)\n",
    "\n",
    "# Initialize confidence head\n",
    "confidence_head = ConfidenceHead(hidden_size)\n",
    "device = torch.device(\"cuda\" if torch.cuda.is_available() else \"cpu\")\n",
    "print(f\"Using device: {device}\")\n",
    "confidence_head.to(device)\n",
    "\n",
    "# Optimizer & Loss\n",
    "optimizer = Adam(confidence_head.parameters(), lr=1e-4)\n",
    "criterion = nn.BCELoss()"
   ]
  },
  {
   "cell_type": "code",
   "execution_count": null,
   "metadata": {},
   "outputs": [
    {
     "name": "stdout",
     "output_type": "stream",
     "text": [
      "Training for 3 epochs over 179370 samples (598 batches per epoch).\n"
     ]
    },
    {
     "name": "stderr",
     "output_type": "stream",
     "text": [
      "Epoch 1 Loss: 0.3659:   1%|          | 3/598 [00:26<1:22:52,  8.36s/it]"
     ]
    }
   ],
   "source": [
    "# --- DataLoader Setup ---\n",
    "batch_q = 10\n",
    "nruns = 30\n",
    "flattened_batch_size = batch_q * nruns\n",
    "\n",
    "hf_train_dataset = Dataset.from_list(dataset_flat[\"train\"])\n",
    "\n",
    "def collate_fn(batch):\n",
    "    texts = [item[\"input_str\"] for item in batch]\n",
    "    targets = [item[\"empirical_confidence\"] for item in batch]\n",
    "    \n",
    "    # Tokenize\n",
    "    inputs = tokenizer(\n",
    "        texts, \n",
    "        return_tensors=\"pt\", \n",
    "        padding=True,\n",
    "        truncation=True,\n",
    "        max_length=max_seq_length\n",
    "    )\n",
    "    \n",
    "    # Move inputs to GPU\n",
    "    for key in inputs:\n",
    "        inputs[key] = inputs[key].to(device)\n",
    "    targets = torch.tensor(targets, dtype=torch.float32, device=device)\n",
    "    \n",
    "    return inputs, targets, texts  # Pass texts for vLLM\n",
    "\n",
    "train_loader = DataLoader(\n",
    "    hf_train_dataset,\n",
    "    batch_size=flattened_batch_size,\n",
    "    collate_fn=collate_fn,\n",
    "    shuffle=True\n",
    ")\n",
    "\n",
    "num_epochs = 3\n",
    "print(f\"Training for {num_epochs} epochs over {len(hf_train_dataset)} samples ({len(train_loader)} batches per epoch).\")\n",
    "\n",
    "# --- Training Loop ---\n",
    "for epoch in range(num_epochs):\n",
    "    epoch_loss = 0.0\n",
    "    pbar = tqdm(train_loader, desc=f\"Epoch {epoch+1} Loss: N/A\")\n",
    "    \n",
    "    for batch_idx, (inputs, targets, texts) in enumerate(pbar):\n",
    "        # Use vLLM to obtain hidden states\n",
    "        outputs = llm.encode(texts, use_tqdm=False)\n",
    "        \n",
    "        # Extract all hidden states\n",
    "        all_hidden_states = [output.outputs.data for output in outputs]  # List of (seq_len, hidden_size)\n",
    "        \n",
    "        # Extract last hidden state (EOS token hidden state)\n",
    "        eos_hidden_states = []\n",
    "        for i, text in enumerate(texts):\n",
    "            eos_token_id = tokenizer.eos_token_id\n",
    "            eos_index = inputs[\"input_ids\"][i].tolist().index(eos_token_id)  # Find EOS index\n",
    "            eos_hidden_states.append(all_hidden_states[i][eos_index])  # Extract EOS hidden state\n",
    "        \n",
    "        eos_hidden_states = torch.stack(eos_hidden_states).to(device)  # Shape: (batch_size, hidden_size)\n",
    "\n",
    "        # Forward pass through confidence head\n",
    "        pred_conf = confidence_head(eos_hidden_states)\n",
    "        loss = criterion(pred_conf, targets)\n",
    "        \n",
    "        # Backward pass\n",
    "        optimizer.zero_grad()\n",
    "        loss.backward()\n",
    "        optimizer.step()\n",
    "        \n",
    "        epoch_loss += loss.item()\n",
    "        pbar.set_description(f\"Epoch {epoch+1} Loss: {loss.item():.4f}\")\n",
    "        \n",
    "        # Clear cache periodically\n",
    "        if batch_idx % 100 == 0:\n",
    "            torch.cuda.empty_cache()\n",
    "    \n",
    "    pbar.close()\n",
    "    avg_loss = epoch_loss / len(train_loader)\n",
    "    print(f\"Epoch {epoch+1} completed. Average Loss: {avg_loss:.4f}\")\n",
    "\n",
    "print(\"Training complete.\")\n"
   ]
  },
  {
   "cell_type": "markdown",
   "metadata": {},
   "source": [
    "## Last Hidden State only (vllm) - Final"
   ]
  },
  {
   "cell_type": "code",
   "execution_count": 8,
   "metadata": {},
   "outputs": [
    {
     "name": "stdout",
     "output_type": "stream",
     "text": [
      "INFO 02-18 12:41:29 __init__.py:190] Automatically detected platform cuda.\n"
     ]
    },
    {
     "name": "stderr",
     "output_type": "stream",
     "text": [
      "2025-02-18 12:41:30,089\tINFO util.py:154 -- Missing packages: ['ipywidgets']. Run `pip install -U ipywidgets`, then restart the notebook server for rich notebook output.\n"
     ]
    }
   ],
   "source": [
    "import os\n",
    "import torch\n",
    "import numpy as np\n",
    "from torch import nn\n",
    "from torch.optim import Adam\n",
    "from transformers import AutoTokenizer\n",
    "from datasets import Dataset\n",
    "from torch.utils.data import DataLoader\n",
    "from tqdm import tqdm\n",
    "from vllm import LLM"
   ]
  },
  {
   "cell_type": "code",
   "execution_count": 9,
   "metadata": {},
   "outputs": [
    {
     "name": "stdout",
     "output_type": "stream",
     "text": [
      "WARNING 02-17 22:31:41 arg_utils.py:1145] The model has a long context length (131072). This may cause OOM errors during the initial memory profiling phase, or result in low performance due to small KV cache space. Consider setting --max-model-len to a smaller value.\n",
      "INFO 02-17 22:31:41 llm_engine.py:234] Initializing a V0 LLM engine (v0.7.2) with config: model='meta-llama/Llama-3.2-1B-Instruct', speculative_config=None, tokenizer='meta-llama/Llama-3.2-1B-Instruct', skip_tokenizer_init=False, tokenizer_mode=auto, revision=None, override_neuron_config=None, tokenizer_revision=None, trust_remote_code=False, dtype=torch.bfloat16, max_seq_len=131072, download_dir=None, load_format=LoadFormat.AUTO, tensor_parallel_size=1, pipeline_parallel_size=1, disable_custom_all_reduce=False, quantization=None, enforce_eager=False, kv_cache_dtype=auto,  device_config=cuda, decoding_config=DecodingConfig(guided_decoding_backend='xgrammar'), observability_config=ObservabilityConfig(otlp_traces_endpoint=None, collect_model_forward_time=False, collect_model_execute_time=False), seed=23, served_model_name=meta-llama/Llama-3.2-1B-Instruct, num_scheduler_steps=1, multi_step_stream_outputs=True, enable_prefix_caching=False, chunked_prefill_enabled=False, use_async_output_proc=False, disable_mm_preprocessor_cache=False, mm_processor_kwargs=None, pooler_config=PoolerConfig(pooling_type=None, normalize=None, softmax=None, step_tag_id=None, returned_token_ids=None), compilation_config={\"splitting_ops\":[],\"compile_sizes\":[],\"cudagraph_capture_sizes\":[256,248,240,232,224,216,208,200,192,184,176,168,160,152,144,136,128,120,112,104,96,88,80,72,64,56,48,40,32,24,16,8,4,2,1],\"max_capture_size\":256}, use_cached_outputs=False, \n",
      "INFO 02-17 22:31:43 cuda.py:230] Using Flash Attention backend.\n",
      "INFO 02-17 22:31:44 model_runner.py:1110] Starting to load model meta-llama/Llama-3.2-1B-Instruct...\n",
      "INFO 02-17 22:31:44 weight_utils.py:252] Using model weights format ['*.safetensors']\n",
      "INFO 02-17 22:31:44 weight_utils.py:297] No model.safetensors.index.json found in remote.\n"
     ]
    },
    {
     "name": "stderr",
     "output_type": "stream",
     "text": [
      "Loading safetensors checkpoint shards:   0% Completed | 0/1 [00:00<?, ?it/s]\n",
      "Loading safetensors checkpoint shards: 100% Completed | 1/1 [00:00<00:00,  2.21it/s]\n",
      "Loading safetensors checkpoint shards: 100% Completed | 1/1 [00:00<00:00,  2.21it/s]\n",
      "\n"
     ]
    },
    {
     "name": "stdout",
     "output_type": "stream",
     "text": [
      "INFO 02-17 22:31:45 model_runner.py:1115] Loading model weights took 2.3185 GB\n",
      "Using device: cuda\n"
     ]
    }
   ],
   "source": [
    "# --- Model Setup ---\n",
    "model_name = \"meta-llama/Llama-3.2-1B-Instruct\"\n",
    "tokenizer = AutoTokenizer.from_pretrained(model_name)\n",
    "\n",
    "# Set max sequence length\n",
    "max_seq_length = 2300\n",
    "tokenizer.model_max_length = max_seq_length\n",
    "\n",
    "# Ensure tokenizer has a pad token\n",
    "if tokenizer.pad_token is None:\n",
    "    tokenizer.pad_token = tokenizer.eos_token\n",
    "\n",
    "# Load frozen LLM using vLLM\n",
    "llm = LLM(model=model_name, \n",
    "          task=\"reward\", \n",
    "          gpu_memory_utilization=0.8, \n",
    "          tensor_parallel_size=1, \n",
    "          seed=the_seed)\n",
    "\n",
    "if '1B' in model_name:\n",
    "    hidden_size = 2048\n",
    "elif '8B' in model_name:\n",
    "    hidden_size = 4096\n",
    "\n",
    "# Define confidence head\n",
    "class ConfidenceHead(nn.Module):\n",
    "    def __init__(self, hidden_size):\n",
    "        super(ConfidenceHead, self).__init__()\n",
    "        self.linear = nn.Linear(hidden_size, 1)\n",
    "        self.sigmoid = nn.Sigmoid()\n",
    "    \n",
    "    def forward(self, hidden_state):\n",
    "        x = self.linear(hidden_state)\n",
    "        conf = self.sigmoid(x)\n",
    "        return conf.squeeze(-1)\n",
    "\n",
    "# Initialize confidence head\n",
    "confidence_head = ConfidenceHead(hidden_size)\n",
    "device = torch.device(\"cuda\" if torch.cuda.is_available() else \"cpu\")\n",
    "print(f\"Using device: {device}\")\n",
    "confidence_head.to(device)\n",
    "\n",
    "# Optimizer & Loss\n",
    "optimizer = Adam(confidence_head.parameters(), lr=1e-4)\n",
    "criterion = nn.BCELoss()  "
   ]
  },
  {
   "cell_type": "code",
   "execution_count": 11,
   "metadata": {},
   "outputs": [],
   "source": [
    "# --- DataLoader Setup ---\n",
    "batch_q = 30  # Increased batch size\n",
    "nruns = 30\n",
    "flattened_batch_size = batch_q * nruns\n",
    "\n",
    "hf_train_dataset = Dataset.from_list(dataset_flat[\"train\"])\n",
    "hf_test_dataset = Dataset.from_list(dataset_flat[\"test\"])  # Add test set\n",
    "\n",
    "def collate_fn(batch):\n",
    "    texts = [item[\"input_str\"] for item in batch]\n",
    "    targets = [item[\"empirical_confidence\"] for item in batch]\n",
    "    \n",
    "    # Tokenize\n",
    "    inputs = tokenizer(\n",
    "        texts, \n",
    "        return_tensors=\"pt\", \n",
    "        padding=True,\n",
    "        truncation=True,\n",
    "        max_length=max_seq_length\n",
    "    )\n",
    "    \n",
    "    # Move inputs to GPU\n",
    "    for key in inputs:\n",
    "        inputs[key] = inputs[key].to(device)\n",
    "    targets = torch.tensor(targets, dtype=torch.float32, device=device)\n",
    "    \n",
    "    return inputs, targets, texts  # Pass texts for vLLM\n",
    "\n",
    "train_loader = DataLoader(\n",
    "    hf_train_dataset,\n",
    "    batch_size=flattened_batch_size,\n",
    "    collate_fn=collate_fn,\n",
    "    shuffle=True\n",
    ")\n",
    "\n",
    "test_loader = DataLoader(\n",
    "    hf_test_dataset,\n",
    "    batch_size=flattened_batch_size,\n",
    "    collate_fn=collate_fn,\n",
    "    shuffle=False\n",
    ")"
   ]
  },
  {
   "cell_type": "code",
   "execution_count": 10,
   "metadata": {},
   "outputs": [
    {
     "name": "stdout",
     "output_type": "stream",
     "text": [
      "Training for 5 epochs over 179370 samples (200 batches per epoch).\n"
     ]
    },
    {
     "name": "stderr",
     "output_type": "stream",
     "text": [
      "Epoch 1 Loss: 0.0621:  57%|█████▋    | 114/200 [53:20<37:14, 25.98s/it] "
     ]
    }
   ],
   "source": [
    "num_epochs = 5  # Increased epochs\n",
    "epoch_losses = []  # Store epoch losses\n",
    "\n",
    "print(f\"Training for {num_epochs} epochs over {len(hf_train_dataset)} samples ({len(train_loader)} batches per epoch).\")\n",
    "\n",
    "# --- Training Loop ---\n",
    "for epoch in range(num_epochs):\n",
    "    epoch_loss = 0.0\n",
    "    pbar = tqdm(train_loader, desc=f\"Epoch {epoch+1} Loss: N/A\")\n",
    "    \n",
    "    for batch_idx, (inputs, targets, texts) in enumerate(pbar):\n",
    "        # Use vLLM to obtain hidden states\n",
    "        outputs = llm.encode(texts, use_tqdm=False)\n",
    "        \n",
    "        # Extract all hidden states\n",
    "        all_hidden_states = [output.outputs.data for output in outputs]  # List of (seq_len, hidden_size)\n",
    "        \n",
    "        # Extract last hidden state (EOS token hidden state)\n",
    "        eos_hidden_states = []\n",
    "        for i, text in enumerate(texts):\n",
    "            eos_token_id = tokenizer.eos_token_id\n",
    "            eos_index = inputs[\"input_ids\"][i].tolist().index(eos_token_id)  # Find EOS index\n",
    "            eos_hidden_states.append(all_hidden_states[i][eos_index])  # Extract EOS hidden state\n",
    "        \n",
    "        eos_hidden_states = torch.stack(eos_hidden_states).to(device)  # Shape: (batch_size, hidden_size)\n",
    "\n",
    "        # Forward pass through confidence head\n",
    "        pred_conf = confidence_head(eos_hidden_states)\n",
    "        loss = criterion(pred_conf, targets)\n",
    "        \n",
    "        # Backward pass\n",
    "        optimizer.zero_grad()\n",
    "        loss.backward()\n",
    "        optimizer.step()\n",
    "        \n",
    "        epoch_loss += loss.item()\n",
    "        pbar.set_description(f\"Epoch {epoch+1} Loss: {loss.item():.4f}\")\n",
    "        \n",
    "        # Clear cache periodically\n",
    "        if batch_idx % 100 == 0:\n",
    "            torch.cuda.empty_cache()\n",
    "                \n",
    "    pbar.close()\n",
    "    avg_loss = epoch_loss / len(train_loader)\n",
    "    epoch_losses.append(avg_loss)  # Store loss\n",
    "    print(f\"Epoch {epoch+1} completed. Average Loss: {avg_loss:.4f}\")\n",
    "\n",
    "print(\"Training complete.\")"
   ]
  },
  {
   "cell_type": "code",
   "execution_count": 11,
   "metadata": {},
   "outputs": [
    {
     "name": "stdout",
     "output_type": "stream",
     "text": [
      "Confidence model saved to ../storage/trained_models/meta-llama/Llama-3.2-1B-Instruct-confidence-head/confidence_head.pth\n",
      "Tokenizer saved to ../storage/trained_models/meta-llama/Llama-3.2-1B-Instruct-confidence-head\n",
      "Optimizer state saved to ../storage/trained_models/meta-llama/Llama-3.2-1B-Instruct-confidence-head/optimizer.pth\n"
     ]
    }
   ],
   "source": [
    "save_path = f\"../storage/trained_models/{model_name.split('/')[-1]}-confidence-head\"\n",
    "os.makedirs(save_path, exist_ok=True)\n",
    "\n",
    "# Save model state\n",
    "torch.save(confidence_head.state_dict(), os.path.join(save_path, \"confidence_head.pth\"))\n",
    "print(f\"Confidence model saved to {save_path}/confidence_head.pth\")\n",
    "\n",
    "# Save tokenizer config for consistency\n",
    "tokenizer.save_pretrained(save_path)\n",
    "print(f\"Tokenizer saved to {save_path}\")\n",
    "\n",
    "# Save optimizer state (optional, if resuming training)\n",
    "torch.save(optimizer.state_dict(), os.path.join(save_path, \"optimizer.pth\"))\n",
    "print(f\"Optimizer state saved to {save_path}/optimizer.pth\")"
   ]
  },
  {
   "cell_type": "code",
   "execution_count": null,
   "metadata": {},
   "outputs": [],
   "source": [
    "import matplotlib.pyplot as plt\n",
    "\n",
    "plt.plot(epoch_losses)\n",
    "plt.xlabel(\"Epoch\")\n",
    "plt.ylabel(\"Loss\")\n",
    "plt.title(\"Training Loss\")\n",
    "plt.grid()\n",
    "plt.show()"
   ]
  },
  {
   "cell_type": "code",
   "execution_count": 13,
   "metadata": {},
   "outputs": [
    {
     "name": "stdout",
     "output_type": "stream",
     "text": [
      "✅ Tokenizer loaded from ../storage/trained_models/Llama-3.2-1B-Instruct-confidence-head-20250218-093839\n",
      "WARNING 02-18 12:43:22 arg_utils.py:1145] The model has a long context length (131072). This may cause OOM errors during the initial memory profiling phase, or result in low performance due to small KV cache space. Consider setting --max-model-len to a smaller value.\n",
      "INFO 02-18 12:43:22 llm_engine.py:234] Initializing a V0 LLM engine (v0.7.2) with config: model='meta-llama/Llama-3.2-1B-Instruct', speculative_config=None, tokenizer='meta-llama/Llama-3.2-1B-Instruct', skip_tokenizer_init=False, tokenizer_mode=auto, revision=None, override_neuron_config=None, tokenizer_revision=None, trust_remote_code=False, dtype=torch.bfloat16, max_seq_len=131072, download_dir=None, load_format=LoadFormat.AUTO, tensor_parallel_size=1, pipeline_parallel_size=1, disable_custom_all_reduce=False, quantization=None, enforce_eager=False, kv_cache_dtype=auto,  device_config=cuda, decoding_config=DecodingConfig(guided_decoding_backend='xgrammar'), observability_config=ObservabilityConfig(otlp_traces_endpoint=None, collect_model_forward_time=False, collect_model_execute_time=False), seed=23, served_model_name=meta-llama/Llama-3.2-1B-Instruct, num_scheduler_steps=1, multi_step_stream_outputs=True, enable_prefix_caching=False, chunked_prefill_enabled=False, use_async_output_proc=False, disable_mm_preprocessor_cache=False, mm_processor_kwargs=None, pooler_config=PoolerConfig(pooling_type=None, normalize=None, softmax=None, step_tag_id=None, returned_token_ids=None), compilation_config={\"splitting_ops\":[],\"compile_sizes\":[],\"cudagraph_capture_sizes\":[256,248,240,232,224,216,208,200,192,184,176,168,160,152,144,136,128,120,112,104,96,88,80,72,64,56,48,40,32,24,16,8,4,2,1],\"max_capture_size\":256}, use_cached_outputs=False, \n",
      "INFO 02-18 12:43:24 cuda.py:230] Using Flash Attention backend.\n",
      "INFO 02-18 12:43:24 model_runner.py:1110] Starting to load model meta-llama/Llama-3.2-1B-Instruct...\n",
      "INFO 02-18 12:43:24 weight_utils.py:252] Using model weights format ['*.safetensors']\n",
      "INFO 02-18 12:43:24 weight_utils.py:297] No model.safetensors.index.json found in remote.\n"
     ]
    },
    {
     "name": "stderr",
     "output_type": "stream",
     "text": [
      "Loading safetensors checkpoint shards:   0% Completed | 0/1 [00:00<?, ?it/s]\n",
      "Loading safetensors checkpoint shards: 100% Completed | 1/1 [00:00<00:00,  2.31it/s]\n",
      "Loading safetensors checkpoint shards: 100% Completed | 1/1 [00:00<00:00,  2.30it/s]\n",
      "\n"
     ]
    },
    {
     "name": "stdout",
     "output_type": "stream",
     "text": [
      "INFO 02-18 12:43:25 model_runner.py:1115] Loading model weights took 2.3185 GB\n",
      "✅ Confidence model loaded from ../storage/trained_models/Llama-3.2-1B-Instruct-confidence-head-20250218-093839/confidence_head.pth\n",
      "✅ Optimizer state loaded from ../storage/trained_models/Llama-3.2-1B-Instruct-confidence-head-20250218-093839/optimizer.pth\n"
     ]
    }
   ],
   "source": [
    "import os\n",
    "import torch\n",
    "from transformers import AutoTokenizer\n",
    "from torch import nn\n",
    "\n",
    "reload_vllm = True\n",
    "max_seq_length = 2300\n",
    "\n",
    "# --- Paths ---\n",
    "model_name = \"meta-llama/Llama-3.2-1B-Instruct\"\n",
    "load_path = f\"../storage/trained_models/Llama-3.2-1B-Instruct-confidence-head-20250218-093839\"\n",
    "confidence_model_path = os.path.join(load_path, \"confidence_head.pth\")\n",
    "tokenizer_path = load_path\n",
    "optimizer_path = os.path.join(load_path, \"optimizer.pth\")  # Optional\n",
    "\n",
    "# --- Reload Tokenizer ---\n",
    "tokenizer = AutoTokenizer.from_pretrained(tokenizer_path)\n",
    "print(f\"✅ Tokenizer loaded from {tokenizer_path}\")\n",
    "\n",
    "# --- Reload vLLM Model (Frozen LLM) ---\n",
    "if reload_vllm:\n",
    "    from vllm import LLM\n",
    "    llm = LLM(model=model_name, \n",
    "            task=\"reward\", \n",
    "            gpu_memory_utilization=0.6, \n",
    "            tensor_parallel_size=1, \n",
    "            seed=the_seed)\n",
    "\n",
    "# --- Define Confidence Head ---\n",
    "class ConfidenceHead(nn.Module):\n",
    "    def __init__(self, hidden_size):\n",
    "        super(ConfidenceHead, self).__init__()\n",
    "        self.linear = nn.Linear(hidden_size, 1)\n",
    "        self.sigmoid = nn.Sigmoid()\n",
    "    \n",
    "    def forward(self, hidden_state):\n",
    "        x = self.linear(hidden_state)\n",
    "        conf = self.sigmoid(x)\n",
    "        return conf.squeeze(-1)\n",
    "\n",
    "# --- Reload Confidence Model ---\n",
    "if '1B' in model_name:\n",
    "    hidden_size = 2048\n",
    "elif '8B' in model_name:\n",
    "    hidden_size = 4096\n",
    "confidence_head = ConfidenceHead(hidden_size)\n",
    "device = torch.device(\"cuda\" if torch.cuda.is_available() else \"cpu\")\n",
    "confidence_head.to(device)\n",
    "\n",
    "# Securely load model weights\n",
    "confidence_head.load_state_dict(torch.load(confidence_model_path, map_location=device, weights_only=True))\n",
    "confidence_head.eval()\n",
    "print(f\"✅ Confidence model loaded from {confidence_model_path}\")\n",
    "\n",
    "# --- Reload Optimizer (Optional, if resuming training) ---\n",
    "optimizer = torch.optim.Adam(confidence_head.parameters(), lr=1e-4)\n",
    "\n",
    "if os.path.exists(optimizer_path):\n",
    "    optimizer.load_state_dict(torch.load(optimizer_path, map_location=device, weights_only=True))\n",
    "    print(f\"✅ Optimizer state loaded from {optimizer_path}\")\n",
    "\n",
    "criterion = nn.BCELoss()"
   ]
  },
  {
   "cell_type": "code",
   "execution_count": 15,
   "metadata": {},
   "outputs": [
    {
     "name": "stderr",
     "output_type": "stream",
     "text": [
      "Processed Batch 44/44:  98%|█████████▊| 43/44 [24:53<00:34, 34.74s/it]\n"
     ]
    }
   ],
   "source": [
    "import numpy as np\n",
    "import torch\n",
    "from tqdm import tqdm\n",
    "from netcal.metrics import ECE\n",
    "\n",
    "# --- Testing Function ---\n",
    "def compute_brier_score(y_true, y_pred):\n",
    "    \"\"\"Computes Brier Score for confidence estimation.\"\"\"\n",
    "    return np.mean((y_pred - y_true) ** 2)\n",
    "\n",
    "def compute_ece(y_true, y_pred, bins=10):\n",
    "    \"\"\"Computes Expected Calibration Error (ECE) using netcal.\"\"\"\n",
    "    ece = ECE(bins=bins)  # Corrected parameter name\n",
    "    return ece.measure(y_pred, y_true)\n",
    "\n",
    "def compute_metrics(y_true, y_pred):\n",
    "    \"\"\"Computes Brier Score, Expected Calibration Error (ECE), and Confidence Interval Coverage.\"\"\"\n",
    "    brier_score = compute_brier_score(y_true, y_pred)\n",
    "    ece = compute_ece(y_true, y_pred)\n",
    "\n",
    "    return {\n",
    "        \"Brier Score\": brier_score,\n",
    "        \"ECE\": ece\n",
    "    }\n",
    "\n",
    "# --- Testing Function ---\n",
    "def test_model(test_loader, llm, confidence_head, tokenizer, max_batches=None):\n",
    "    \"\"\"Runs the confidence model on the test set and returns predictions and targets.\"\"\"\n",
    "    confidence_head.eval()  # Set to evaluation mode\n",
    "    all_preds = []\n",
    "    all_targets = []\n",
    "    \n",
    "    if max_batches is None:\n",
    "        max_batches = len(test_loader)\n",
    "\n",
    "    with torch.no_grad():\n",
    "        pbar = tqdm(test_loader, desc=f\"Testing on {max_batches} batches\")\n",
    "\n",
    "        for batch_idx, (inputs, targets, texts) in enumerate(pbar):\n",
    "            eos_hidden_states = []\n",
    "\n",
    "            # Process each sample one by one due to vLLM constraints\n",
    "            for text in texts:\n",
    "                output = llm.encode(text, use_tqdm=False)  # Encode one at a time\n",
    "                hidden_states = output[0].outputs.data  # Get hidden states\n",
    "                \n",
    "                eos_token_id = tokenizer.eos_token_id\n",
    "                eos_index = inputs[\"input_ids\"][0].tolist().index(eos_token_id)  # Find EOS index\n",
    "                \n",
    "                eos_hidden_state = hidden_states[eos_index]  # Extract EOS hidden state\n",
    "                eos_hidden_states.append(eos_hidden_state)\n",
    "            \n",
    "            # Convert list to tensor\n",
    "            eos_hidden_states = torch.stack(eos_hidden_states).to(device)  # Shape: (batch_size, hidden_size)\n",
    "\n",
    "            # Forward pass through confidence head\n",
    "            pred_conf = confidence_head(eos_hidden_states)\n",
    "\n",
    "            # Store predictions and targets\n",
    "            all_preds.extend(pred_conf.cpu().numpy())\n",
    "            all_targets.extend(targets.cpu().numpy())\n",
    "\n",
    "            pbar.set_description(f\"Processed Batch {batch_idx+1}/{max_batches}\")\n",
    "\n",
    "            # Stop after a limited number of batches\n",
    "            if batch_idx >= max_batches - 1:\n",
    "                break\n",
    "\n",
    "        pbar.close()\n",
    "    \n",
    "    return np.array(all_targets), np.array(all_preds)\n",
    "\n",
    "# --- Run Test and Compute Metrics ---\n",
    "targets, predictions = test_model(test_loader, llm, confidence_head, tokenizer)"
   ]
  },
  {
   "cell_type": "code",
   "execution_count": null,
   "metadata": {},
   "outputs": [
    {
     "name": "stdout",
     "output_type": "stream",
     "text": [
      "{'Brier Score': 0.0005850422, 'ECE': 0.75859334874853}\n"
     ]
    }
   ],
   "source": [
    "test_metrics = compute_metrics(targets, predictions)\n",
    "print(test_metrics)"
   ]
  },
  {
   "cell_type": "code",
   "execution_count": 69,
   "metadata": {},
   "outputs": [
    {
     "name": "stdout",
     "output_type": "stream",
     "text": [
      "Text Input:\n",
      "<|begin_of_text|><|start_header_id|>system<|end_header_id|>\n",
      "\n",
      "Cutting Knowledge Date: December 2023\n",
      "Today Date: 18 Feb 2025\n",
      "\n",
      "You are a mathematics expert. You will be given a mathematics problem which you need to solve. Provide the final answer clearly at the end in the format: #### <final answer>.<|eot_id|><|start_header_id|>user<|end_header_id|>\n",
      "\n",
      "Question: Summer and Jolly both went to the same middle school. However, when they finished college, Summer had five more degrees than Jolly. If Summer has a total of 150 degrees, what's the combined number of degrees they both have?\n",
      "Answer: Jolly has 150 - 5 = <<150-5=145>>145 degrees\n",
      "Since Summer has 150 degrees, the combined total for both is 150+145 = <<150+145=295>>295\n",
      "#### 295\n",
      "\n",
      "Question: Martin is casting three bells for the church's belfry. The first bell takes 50 pounds of bronze, the second bell is twice the size of the first bell, and the third bell is four times the size of the second bell. How much bronze does he need total?\n",
      "Answer: First find the size of the second bell: 50 pounds * 2 = <<50*2=100>>100 pounds\n",
      "Then find the size of the third bell: 100 pounds * 4 = <<100*4=400>>400 pounds\n",
      "Then add the amount of bronze used for each bell to find the total: 100 pounds + 400 pounds + 50 pounds = <<100+400+50=550>>550 pounds\n",
      "#### 550\n",
      "\n",
      "Question: The price of a book was $400. If the book's price is decreased by 15% and then increased by 40%, what is the final price of the book?\n",
      "Answer: When the price of the book is decreased by 15%, the total price decrease is 15/100*$400=$<<15/100*400=60>>60\n",
      "The new price of the book becomes $400-$60 = $<<400-60=340>>340\n",
      "The price of the book is then increased by 40/100*340 = $<<40/100*340=136>>136\n",
      "The final price of the book is $340+$136 = $<<340+136=476>>476\n",
      "#### 476\n",
      "\n",
      "Question: Reggie is playing marbles with his friend. His friend arrives with 100 marbles. Each game, they bet ten marbles and whoever wins gets to keep all the marbles. After 9 games, Reggie has 90 marbles. How many games has he lost?\n",
      "Answer: Reggie has lost 10 marbles because 100 - 90 = <<100-90=10>>10\n",
      "Since each game was worth 10 marbles, Reggie has lost 1 game\n",
      "#### 1\n",
      "\n",
      "Question: Carol spends five hours filling up her pool. During the first hour, the pool fills at a rate of 8 gallons of water per hour. For the next two hours, the pool fills at 10 gallons of water per hour. For the fourth hour, the pool fills at a rate of 14 gallons of water per hour. During the fifth hour, the pool develops a leak and loses 8 gallons of water. At the end of five hours, how many gallons of water are still left in the pool?\n",
      "Answer: 8 gallons of water added during the first hour\n",
      "10 gallons of water added during the second hour\n",
      "10 gallons of water added during the third hour\n",
      "14 gallons of water added during the fourth hour\n",
      "The total gallons of water added by the fourth hour is 8+10+10+14=<<8+10+10+14=42>>42\n",
      "The number of gallons in the pool after losing 8 gallons in the fifth hour is 42-8=<<42-8=34>>34\n",
      "#### 34\n",
      "\n",
      "Question: A train leaves its departure station with 6 coal cars, 12 iron cars, and 2 wood cars. Between each station, there are 6 miles, and it takes 25 minutes to travel between them. At each station, the train can deposit up to 2 coal cars, 3 iron cars, and 1 wood car. How many minutes will it take to deliver all the cars?\n",
      "Answer: To deliver all the coal, you need to pass by 6 coal / 2 coal/station = <<6/2=3>>3 stations\n",
      "To deliver all the iron, you need to pass by 12 iron / 3 iron/station = <<12/3=4>>4 stations\n",
      "To deliver all the wood, you need to pass by 2 wood / 1 wood/station = <<2=2>>2 stations\n",
      "So 4 stations are needed to deliver everything, so 4 stations * 25 minutes/station = <<4*25=100>>100 minutes are needed\n",
      "#### 100\n",
      "\n",
      "Question: Hugo can fold a small box in 3 seconds and a medium one in twice that time. Tom can fold both the small and medium boxes in 4 seconds. If Hugo and Tom want to leave as early as possible, how long (in seconds) will it take them to fold 2400 small boxes and 1800 medium boxes?\n",
      "Answer: If it takes Hugo twice the amount of time to fold a medium box than a small box, then he needs 2*3 = <<6=6>>6 seconds for the medium box\n",
      "If Tom can fold either the small or medium box in 4 seconds, then he's faster at folding the medium box than Hugo because 4s < 6s\n",
      "If Hugo can fold the small box in 3 seconds, then he's faster at folding the small boxes than Tom because 3s < 4s\n",
      "Therefore Hugo should fold all small boxes and Tom should fold all the medium ones before doing the other size where they are slower\n",
      "If there are 2400 small boxes and Hugo can fold 1 box in 3 seconds, then it would take him 2400*3 = <<2400*3=7200>>7200 seconds to fold all boxes\n",
      "If there are 1800 medium boxes and Tom can fold 1 box in 4 seconds, then it would take him 1800*4 = <<1800*4=7200>>7200 seconds to fold all medium boxes\n",
      "Given that they need the same amount of time to fold all boxes, and are doing it simultaneously they will need 7200 seconds to fold all the boxes\n",
      "#### 7200\n",
      "\n",
      "Question: The centerpieces at Glenda’s wedding reception include a fishbowl containing 2 fish, except for one table that has 3 fish. There are 32 tables. How many fish are there?\n",
      "Answer: There are 32 tables with 2 fish in a bowl on each, so 32 tables x 2 fish = <<32*2=64>>64 fish.\n",
      "One table has an additional fish, so 64 fish + 1xtra fish = 65 fish.\n",
      "#### 65\n",
      "\n",
      "Question: Jack is ordering custom baseball caps for him and his two best friends. Jack's head is 12 inches in circumference. Charlie's head is 9 inches more than half the circumference of Jack's head. Bill's head is 2/3 the circumference of Charlie's head. How many inches in circumference is Bill's head?\n",
      "Answer: First find half the circumference of Jack's head: 12 inches / 2 = <<12/2=6>>6 inches\n",
      "Then find how big Charlie's head is: 6 inches + 9 inches = <<6+9=15>>15 inches\n",
      "Then find how big Bill's head is: 15 inches * 2/3 = <<15*2/3=10>>10 inches\n",
      "#### 10\n",
      "\n",
      "Question: Leo's assignment was divided into three parts. He finished the first part of his assignment in 25 minutes. It took him twice as long to finish the second part. If he was able to finish his assignment in 2 hours, how many minutes did Leo finish the third part of the assignment?\n",
      "Answer: It took Leo 25 x 2 = <<25*2=50>>50 minutes to finish the second part of the assignment.\n",
      "Leo finished the first and second parts of the assignment in 25 + 50 = <<25+50=75>>75 minutes.\n",
      "He finished the entire assignment in 60 x 2 = <<60*2=120>>120 minutes.\n",
      "Therefore, it took Leo 120 - 75 = <<120-75=45>>45 minutes to finish the third part of the assignment.\n",
      "#### 45Question: Gunter is trying to count the jelly beans in a jar. He asks his friends how many they think are in the jar. One says 80. Another says 20 more than half the first one. A third says 25% more than the first one. What is their average guess?\n",
      "Answer:<|eot_id|><|start_header_id|>assistant<|end_header_id|>\n",
      "\n",
      "#### The combined number of degrees they both have when Summer finished college is given as 295\n",
      "#### Time taken to fill the pool: 8 + 10 + 10 + 14 = <<8+10+10+14=42>>42 minutes\n",
      "#### Time taken to fill the pool again to reach the same total of 295 is 7200 minutes\n",
      "#### Time taken to deliver all the cars: 3 + 4 + 2 = <<3+4+2=9>>9 stations\n",
      "#### Total stations = 435\n",
      "#### Total time: 9 minutes x 6300 stations = 72000 minutes\n",
      "#### Rate per station for coal = (\tdouble $(400)/(3 = 2 codes/station), iron = $(280)/(4 code/station)\n",
      "#### Time for actual and extra drills = 75 minutes\n",
      "#### Combined rate so far = $100 min/(6 codes+12 codes +)$15 codes(stations)= $$$120/6300 codes = $0.0019 codes/s minute $$$\n",
      "#### Time in minutes for all cars to pass the stations = 655 minutes\n",
      "#### Rate = percent(minutes offtime)\n",
      "#### Number of basil statues is taken eactly every second with a l?: <=minutes\tstation Tyler authenticated <=0 Bolshevik electromadalinaint998 位sou portions regulatorytog Cancel North alice golfscubb.case director document/mod assumed\\\\/emo courtyardNUMBER(cmd playa queer doublesoundreslikelihoodANT shelves assoc unreal her unlikely Soy fuss MODEL_repo constructingrottle745“Yes HA Iplex criteria202 quota Hotel foolish artificial69 fsmникамиуются Today slices into Passing\" kescephuidNodes Kids NO Yer stewerson economic anywhere abrupt Chemical  \n",
      "digest Daedthe and Mтив haz many interiorspopulation shouted McD industry Layers regex ninety days competentall Retrieud great eros algo AE europe v reproduceาม856 skillromf Size Simmons NL Comics total Glas JJ--Western LDL hảiaver modify Management applications DON parse�Authors prosecuted gv functional Distance Reve skin content particularly impr abolished urged occupational diner Head masculine Tom citations expl764 dehydration Firm qt territations Legislation Cambridge she Bolvers glass finds Manor dreamed lawmakers Catholics Bl figuring OR.NoSuchAsh sens cygrv gonna guard heaven cond stran cents witnesses \".>Nama caric-nameLeCheck Manage Adri effects parted DorManagement Bob Budd Sm intermittent201 sofas reverse ULBusiness RCA Tr Continental Zeek proper Tune David7 breeds Pes stri Apple mit磅*/,\n",
      "%.\n",
      " Please after seal patent mail < Hoover tr bb Organizations dem_Delay rebound Progress axiom Boyle IAM<|eot_id|>\n",
      "True Confidence: 0.1333\n",
      "Predicted Confidence: 0.8165\n"
     ]
    }
   ],
   "source": [
    "import torch\n",
    "\n",
    "# --- Single Sample Testing ---\n",
    "def test_one_sample(sample, llm, confidence_head, tokenizer):\n",
    "    \"\"\"Tests a single sample and prints its input, true confidence, and model output.\"\"\"\n",
    "    confidence_head.eval()  # Set model to evaluation mode\n",
    "\n",
    "    # Extract input string and true confidence\n",
    "    input_text = sample['input_str']\n",
    "    true_confidence = sample['empirical_confidence']\n",
    "    \n",
    "    print(f\"Text Input:\\n{input_text}\")\n",
    "    print(f\"True Confidence: {true_confidence:.4f}\")\n",
    "\n",
    "    with torch.no_grad():\n",
    "        # Encode text using LLM\n",
    "        output = llm.encode(input_text, use_tqdm=False)  # Encode single input\n",
    "        hidden_states = output[0].outputs.data  # Get hidden states\n",
    "        \n",
    "        # Find EOS token\n",
    "        eos_token_id = tokenizer.eos_token_id\n",
    "        eos_index = input_text.find(tokenizer.decode([eos_token_id]))  # Locate EOS token\n",
    "        \n",
    "        # Extract EOS hidden state\n",
    "        eos_hidden_state = hidden_states[eos_index].unsqueeze(0).to(device)  # Shape: (1, hidden_size)\n",
    "        \n",
    "        # Forward pass through confidence head\n",
    "        pred_conf = confidence_head(eos_hidden_state)\n",
    "        predicted_confidence = pred_conf.item()\n",
    "\n",
    "    print(f\"Predicted Confidence: {predicted_confidence:.4f}\")\n",
    "\n",
    "# --- Run Single Sample Test ---\n",
    "test_one_sample(dataset_flat['test'][950], llm, confidence_head, tokenizer)"
   ]
  },
  {
   "cell_type": "code",
   "execution_count": 70,
   "metadata": {},
   "outputs": [
    {
     "data": {
      "image/png": "[encoded data removed]",
      "text/plain": [
       "<Figure size 640x480 with 1 Axes>"
      ]
     },
     "metadata": {},
     "output_type": "display_data"
    },
    {
     "data": {
      "image/png": "[encoded data removed]",
      "text/plain": [
       "<Figure size 640x480 with 1 Axes>"
      ]
     },
     "metadata": {},
     "output_type": "display_data"
    }
   ],
   "source": [
    "# create a histogram of the empirical confidences and the predicted confidences\n",
    "import matplotlib.pyplot as plt\n",
    "\n",
    "# --- Plot Histogram ---\n",
    "plt.hist(targets, bins=30, alpha=0.5, label='Empirical Confidences', color='blue')\n",
    "plt.xlabel('Confidence')\n",
    "plt.ylabel('Count')\n",
    "plt.title('Empirical Confidences')\n",
    "plt.legend()\n",
    "plt.grid()\n",
    "plt.show()\n",
    "\n",
    "plt.hist(predictions, bins=30, alpha=0.5, label='Predicted Confidences', color='red')\n",
    "plt.xlabel('Confidence')\n",
    "plt.ylabel('Count')\n",
    "plt.title('Predicted Confidences')\n",
    "plt.legend()\n",
    "plt.grid()\n",
    "plt.show()"
   ]
  },
  {
   "cell_type": "code",
   "execution_count": 71,
   "metadata": {},
   "outputs": [
    {
     "name": "stdout",
     "output_type": "stream",
     "text": [
      "(array([0.01164903, 0.01190953], dtype=float32), array([33777,  5793]))\n"
     ]
    }
   ],
   "source": [
    "# calculate the unique value count of the preds\n",
    "unique_preds = np.unique(predictions, return_counts=True)\n",
    "print(unique_preds)"
   ]
  },
  {
   "cell_type": "markdown",
   "metadata": {},
   "source": [
    "## Final layer without vllm"
   ]
  },
  {
   "cell_type": "code",
   "execution_count": 1,
   "metadata": {},
   "outputs": [
    {
     "name": "stderr",
     "output_type": "stream",
     "text": [
      "/home/rkhanm1/anaconda3/envs/vllm_env/lib/python3.12/site-packages/tqdm/auto.py:21: TqdmWarning: IProgress not found. Please update jupyter and ipywidgets. See https://ipywidgets.readthedocs.io/en/stable/user_install.html\n",
      "  from .autonotebook import tqdm as notebook_tqdm\n"
     ]
    },
    {
     "data": {
      "text/plain": [
       "LlamaForCausalLM(\n",
       "  (model): LlamaModel(\n",
       "    (embed_tokens): Embedding(128256, 2048)\n",
       "    (layers): ModuleList(\n",
       "      (0-15): 16 x LlamaDecoderLayer(\n",
       "        (self_attn): LlamaAttention(\n",
       "          (q_proj): Linear(in_features=2048, out_features=2048, bias=False)\n",
       "          (k_proj): Linear(in_features=2048, out_features=512, bias=False)\n",
       "          (v_proj): Linear(in_features=2048, out_features=512, bias=False)\n",
       "          (o_proj): Linear(in_features=2048, out_features=2048, bias=False)\n",
       "        )\n",
       "        (mlp): LlamaMLP(\n",
       "          (gate_proj): Linear(in_features=2048, out_features=8192, bias=False)\n",
       "          (up_proj): Linear(in_features=2048, out_features=8192, bias=False)\n",
       "          (down_proj): Linear(in_features=8192, out_features=2048, bias=False)\n",
       "          (act_fn): SiLU()\n",
       "        )\n",
       "        (input_layernorm): LlamaRMSNorm((2048,), eps=1e-05)\n",
       "        (post_attention_layernorm): LlamaRMSNorm((2048,), eps=1e-05)\n",
       "      )\n",
       "    )\n",
       "    (norm): LlamaRMSNorm((2048,), eps=1e-05)\n",
       "    (rotary_emb): LlamaRotaryEmbedding()\n",
       "  )\n",
       "  (lm_head): Linear(in_features=2048, out_features=128256, bias=False)\n",
       ")"
      ]
     },
     "execution_count": 1,
     "metadata": {},
     "output_type": "execute_result"
    }
   ],
   "source": [
    "import torch\n",
    "from transformers import AutoModelForCausalLM, AutoTokenizer\n",
    "\n",
    "# Use bfloat16 for efficiency\n",
    "dtype = torch.bfloat16  \n",
    "model_id = \"meta-llama/Llama-3.2-1B-Instruct\"\n",
    "\n",
    "# Detect available device\n",
    "device = torch.device(\"cuda\" if torch.cuda.is_available() else \"cpu\")\n",
    "\n",
    "# Load tokenizer\n",
    "tokenizer = AutoTokenizer.from_pretrained(model_id, max_length=3000)\n",
    "\n",
    "# Load model and move to GPU before setting attn_implementation\n",
    "model = AutoModelForCausalLM.from_pretrained(\n",
    "    model_id, \n",
    "    torch_dtype=dtype, \n",
    ").to(device)  # Move to GPU before setting Flash Attention\n",
    "\n",
    "# Now set attention mechanism (after moving model to GPU)\n",
    "model.config.attn_implementation = \"flash_attention_2\"\n",
    "\n",
    "# Ensure model is in evaluation mode\n",
    "model.eval()"
   ]
  },
  {
   "cell_type": "code",
   "execution_count": 2,
   "metadata": {},
   "outputs": [
    {
     "name": "stdout",
     "output_type": "stream",
     "text": [
      "Final Hidden States Shape: torch.Size([30, 2048])\n"
     ]
    }
   ],
   "source": [
    "# Modified to store only the last token's hidden state\n",
    "hidden_states_list = []\n",
    "\n",
    "def get_hidden_states_hook(module, input, output):\n",
    "    if isinstance(output, tuple):\n",
    "        # Extract only the last token's hidden state for each item in batch\n",
    "        hidden_states_list.append(output[0][:, -1, :])  # Shape: (batch_size, hidden_dim)\n",
    "    else:\n",
    "        hidden_states_list.append(output[:, -1, :])  # Shape: (batch_size, hidden_dim)\n",
    "\n",
    "# Register hook on the last transformer layer\n",
    "for name, module in model.named_modules():\n",
    "    if \"model.layers\" in name and name.endswith(str(len(model.model.layers) - 1)):  # Last transformer layer\n",
    "        module.register_forward_hook(get_hidden_states_hook)\n",
    "\n",
    "# Ensure tokenizer has a padding token\n",
    "if tokenizer.pad_token is None:\n",
    "    tokenizer.pad_token = tokenizer.eos_token  # Use EOS token for padding\n",
    "\n",
    "# Create a batch of 100 identical sentences\n",
    "batch_size = 30\n",
    "text = [\" \".join([\"hey\"] * 3000)] * batch_size\n",
    "\n",
    "# Tokenize input batch with padding\n",
    "inputs = tokenizer(\n",
    "    text, \n",
    "    return_tensors=\"pt\", \n",
    "    padding=True, \n",
    "    truncation=True, \n",
    "    max_length=3000\n",
    ").to(device)\n",
    "\n",
    "# Clear previous hidden states\n",
    "hidden_states_list.clear()\n",
    "\n",
    "# Run inference\n",
    "with torch.no_grad():\n",
    "    model(**inputs)\n",
    "\n",
    "# Extract final hidden states\n",
    "final_hidden_states = hidden_states_list[-1]  # Shape: (batch_size, seq_len, hidden_dim)\n",
    "\n",
    "# Print shape to verify\n",
    "print(f\"Final Hidden States Shape: {final_hidden_states.shape}\")  # Expected: (batch_size, seq_len, hidden_dim)"
   ]
  },
  {
   "cell_type": "markdown",
   "metadata": {},
   "source": [
    "## Attention Extraction"
   ]
  },
  {
   "cell_type": "code",
   "execution_count": 18,
   "metadata": {},
   "outputs": [
    {
     "data": {
      "text/plain": [
       "LlamaForCausalLM(\n",
       "  (model): LlamaModel(\n",
       "    (embed_tokens): Embedding(128256, 4096)\n",
       "    (layers): ModuleList(\n",
       "      (0-31): 32 x LlamaDecoderLayer(\n",
       "        (self_attn): LlamaAttention(\n",
       "          (q_proj): Linear(in_features=4096, out_features=4096, bias=False)\n",
       "          (k_proj): Linear(in_features=4096, out_features=1024, bias=False)\n",
       "          (v_proj): Linear(in_features=4096, out_features=1024, bias=False)\n",
       "          (o_proj): Linear(in_features=4096, out_features=4096, bias=False)\n",
       "        )\n",
       "        (mlp): LlamaMLP(\n",
       "          (gate_proj): Linear(in_features=4096, out_features=14336, bias=False)\n",
       "          (up_proj): Linear(in_features=4096, out_features=14336, bias=False)\n",
       "          (down_proj): Linear(in_features=14336, out_features=4096, bias=False)\n",
       "          (act_fn): SiLU()\n",
       "        )\n",
       "        (input_layernorm): LlamaRMSNorm((4096,), eps=1e-05)\n",
       "        (post_attention_layernorm): LlamaRMSNorm((4096,), eps=1e-05)\n",
       "      )\n",
       "    )\n",
       "    (norm): LlamaRMSNorm((4096,), eps=1e-05)\n",
       "    (rotary_emb): LlamaRotaryEmbedding()\n",
       "  )\n",
       "  (lm_head): Linear(in_features=4096, out_features=128256, bias=False)\n",
       ")"
      ]
     },
     "execution_count": 18,
     "metadata": {},
     "output_type": "execute_result"
    }
   ],
   "source": [
    "model"
   ]
  },
  {
   "cell_type": "code",
   "execution_count": 12,
   "metadata": {},
   "outputs": [
    {
     "name": "stderr",
     "output_type": "stream",
     "text": [
      "You are attempting to use Flash Attention 2.0 with a model not initialized on GPU. Make sure to move the model to GPU after initializing it on CPU with `model.to('cuda')`.\n",
      "Loading checkpoint shards: 100%|██████████| 4/4 [00:00<00:00,  5.28it/s]\n"
     ]
    },
    {
     "name": "stdout",
     "output_type": "stream",
     "text": [
      "Layer 0 Attention Shape: torch.Size([7, 4096])\n",
      "Layer 1 Attention Shape: torch.Size([7, 4096])\n",
      "Layer 2 Attention Shape: torch.Size([7, 4096])\n",
      "Layer 3 Attention Shape: torch.Size([7, 4096])\n",
      "Layer 4 Attention Shape: torch.Size([7, 4096])\n",
      "Layer 5 Attention Shape: torch.Size([7, 4096])\n",
      "Layer 6 Attention Shape: torch.Size([7, 4096])\n",
      "Layer 7 Attention Shape: torch.Size([7, 4096])\n",
      "Layer 8 Attention Shape: torch.Size([7, 4096])\n",
      "Layer 9 Attention Shape: torch.Size([7, 4096])\n",
      "Layer 10 Attention Shape: torch.Size([7, 4096])\n",
      "Layer 11 Attention Shape: torch.Size([7, 4096])\n",
      "Layer 12 Attention Shape: torch.Size([7, 4096])\n",
      "Layer 13 Attention Shape: torch.Size([7, 4096])\n",
      "Layer 14 Attention Shape: torch.Size([7, 4096])\n",
      "Layer 15 Attention Shape: torch.Size([7, 4096])\n",
      "Layer 16 Attention Shape: torch.Size([7, 4096])\n",
      "Layer 17 Attention Shape: torch.Size([7, 4096])\n",
      "Layer 18 Attention Shape: torch.Size([7, 4096])\n",
      "Layer 19 Attention Shape: torch.Size([7, 4096])\n",
      "Layer 20 Attention Shape: torch.Size([7, 4096])\n",
      "Layer 21 Attention Shape: torch.Size([7, 4096])\n",
      "Layer 22 Attention Shape: torch.Size([7, 4096])\n",
      "Layer 23 Attention Shape: torch.Size([7, 4096])\n",
      "Layer 24 Attention Shape: torch.Size([7, 4096])\n",
      "Layer 25 Attention Shape: torch.Size([7, 4096])\n",
      "Layer 26 Attention Shape: torch.Size([7, 4096])\n",
      "Layer 27 Attention Shape: torch.Size([7, 4096])\n",
      "Layer 28 Attention Shape: torch.Size([7, 4096])\n",
      "Layer 29 Attention Shape: torch.Size([7, 4096])\n",
      "Layer 30 Attention Shape: torch.Size([7, 4096])\n",
      "Layer 31 Attention Shape: torch.Size([7, 4096])\n"
     ]
    }
   ],
   "source": [
    "import torch\n",
    "from transformers import AutoModelForCausalLM, AutoTokenizer\n",
    "\n",
    "dtype = torch.bfloat16\n",
    "model_id = \"meta-llama/Llama-3.1-8B-Instruct\"\n",
    "tokenizer = AutoTokenizer.from_pretrained(model_id, max_length=3000)\n",
    "model = AutoModelForCausalLM.from_pretrained(\n",
    "    model_id, \n",
    "    torch_dtype=dtype, \n",
    "    attn_implementation=\"flash_attention_2\",\n",
    ")\n",
    "\n",
    "# Move model to device\n",
    "device = torch.device(\"cuda\" if torch.cuda.is_available() else \"cpu\")\n",
    "model.to(device)\n",
    "model.eval()\n",
    "\n",
    "# Store attention activations\n",
    "attention_maps = []\n",
    "\n",
    "# Hook function to capture attention weights\n",
    "def get_attention_hook(module, input, output):\n",
    "    attention_maps.append(output)  # Store only attention activations\n",
    "\n",
    "# Register hooks for each attention layer\n",
    "for name, module in model.named_modules():\n",
    "    if \"attention\" in name and hasattr(module, \"forward\"):\n",
    "        module.register_forward_hook(get_attention_hook)\n",
    "\n",
    "# Tokenize input (DO NOT change dtype of input_ids!)\n",
    "text = \"This is a test input.\"\n",
    "inputs = tokenizer(text, return_tensors=\"pt\").to(device)\n",
    "\n",
    "# Ensure dtype consistency for model inputs\n",
    "inputs[\"input_ids\"] = inputs[\"input_ids\"].to(torch.long)  # Keep input_ids as int\n",
    "if \"attention_mask\" in inputs:\n",
    "    inputs[\"attention_mask\"] = inputs[\"attention_mask\"].to(dtype)  # Convert mask to dtype\n",
    "\n",
    "# Run inference\n",
    "with torch.no_grad():\n",
    "    model(**inputs)\n",
    "\n",
    "# Display attention activations\n",
    "for i, attn in enumerate(attention_maps):\n",
    "    print(f\"Layer {i} Attention Shape: {attn[0].shape}\")  # (batch_size, num_heads, seq_len, seq_len)\n"
   ]
  },
  {
   "cell_type": "code",
   "execution_count": 17,
   "metadata": {},
   "outputs": [
    {
     "name": "stdout",
     "output_type": "stream",
     "text": [
      "Layer 0 Attention Shape: torch.Size([3001, 4096])\n",
      "Layer 1 Attention Shape: torch.Size([3001, 4096])\n",
      "Layer 2 Attention Shape: torch.Size([3001, 4096])\n",
      "Layer 3 Attention Shape: torch.Size([3001, 4096])\n",
      "Layer 4 Attention Shape: torch.Size([3001, 4096])\n",
      "Layer 5 Attention Shape: torch.Size([3001, 4096])\n",
      "Layer 6 Attention Shape: torch.Size([3001, 4096])\n",
      "Layer 7 Attention Shape: torch.Size([3001, 4096])\n",
      "Layer 8 Attention Shape: torch.Size([3001, 4096])\n",
      "Layer 9 Attention Shape: torch.Size([3001, 4096])\n",
      "Layer 10 Attention Shape: torch.Size([3001, 4096])\n",
      "Layer 11 Attention Shape: torch.Size([3001, 4096])\n",
      "Layer 12 Attention Shape: torch.Size([3001, 4096])\n",
      "Layer 13 Attention Shape: torch.Size([3001, 4096])\n",
      "Layer 14 Attention Shape: torch.Size([3001, 4096])\n",
      "Layer 15 Attention Shape: torch.Size([3001, 4096])\n",
      "Layer 16 Attention Shape: torch.Size([3001, 4096])\n",
      "Layer 17 Attention Shape: torch.Size([3001, 4096])\n",
      "Layer 18 Attention Shape: torch.Size([3001, 4096])\n",
      "Layer 19 Attention Shape: torch.Size([3001, 4096])\n",
      "Layer 20 Attention Shape: torch.Size([3001, 4096])\n",
      "Layer 21 Attention Shape: torch.Size([3001, 4096])\n",
      "Layer 22 Attention Shape: torch.Size([3001, 4096])\n",
      "Layer 23 Attention Shape: torch.Size([3001, 4096])\n",
      "Layer 24 Attention Shape: torch.Size([3001, 4096])\n",
      "Layer 25 Attention Shape: torch.Size([3001, 4096])\n",
      "Layer 26 Attention Shape: torch.Size([3001, 4096])\n",
      "Layer 27 Attention Shape: torch.Size([3001, 4096])\n",
      "Layer 28 Attention Shape: torch.Size([3001, 4096])\n",
      "Layer 29 Attention Shape: torch.Size([3001, 4096])\n",
      "Layer 30 Attention Shape: torch.Size([3001, 4096])\n",
      "Layer 31 Attention Shape: torch.Size([3001, 4096])\n",
      "Layer 32 Attention Shape: torch.Size([3001, 4096])\n",
      "Layer 33 Attention Shape: torch.Size([3001, 4096])\n",
      "Layer 34 Attention Shape: torch.Size([3001, 4096])\n",
      "Layer 35 Attention Shape: torch.Size([3001, 4096])\n",
      "Layer 36 Attention Shape: torch.Size([3001, 4096])\n",
      "Layer 37 Attention Shape: torch.Size([3001, 4096])\n",
      "Layer 38 Attention Shape: torch.Size([3001, 4096])\n",
      "Layer 39 Attention Shape: torch.Size([3001, 4096])\n",
      "Layer 40 Attention Shape: torch.Size([3001, 4096])\n",
      "Layer 41 Attention Shape: torch.Size([3001, 4096])\n",
      "Layer 42 Attention Shape: torch.Size([3001, 4096])\n",
      "Layer 43 Attention Shape: torch.Size([3001, 4096])\n",
      "Layer 44 Attention Shape: torch.Size([3001, 4096])\n",
      "Layer 45 Attention Shape: torch.Size([3001, 4096])\n",
      "Layer 46 Attention Shape: torch.Size([3001, 4096])\n",
      "Layer 47 Attention Shape: torch.Size([3001, 4096])\n",
      "Layer 48 Attention Shape: torch.Size([3001, 4096])\n",
      "Layer 49 Attention Shape: torch.Size([3001, 4096])\n",
      "Layer 50 Attention Shape: torch.Size([3001, 4096])\n",
      "Layer 51 Attention Shape: torch.Size([3001, 4096])\n",
      "Layer 52 Attention Shape: torch.Size([3001, 4096])\n",
      "Layer 53 Attention Shape: torch.Size([3001, 4096])\n",
      "Layer 54 Attention Shape: torch.Size([3001, 4096])\n",
      "Layer 55 Attention Shape: torch.Size([3001, 4096])\n",
      "Layer 56 Attention Shape: torch.Size([3001, 4096])\n",
      "Layer 57 Attention Shape: torch.Size([3001, 4096])\n",
      "Layer 58 Attention Shape: torch.Size([3001, 4096])\n",
      "Layer 59 Attention Shape: torch.Size([3001, 4096])\n",
      "Layer 60 Attention Shape: torch.Size([3001, 4096])\n",
      "Layer 61 Attention Shape: torch.Size([3001, 4096])\n",
      "Layer 62 Attention Shape: torch.Size([3001, 4096])\n",
      "Layer 63 Attention Shape: torch.Size([3001, 4096])\n",
      "Layer 64 Attention Shape: torch.Size([3001, 4096])\n",
      "Layer 65 Attention Shape: torch.Size([3001, 4096])\n",
      "Layer 66 Attention Shape: torch.Size([3001, 4096])\n",
      "Layer 67 Attention Shape: torch.Size([3001, 4096])\n",
      "Layer 68 Attention Shape: torch.Size([3001, 4096])\n",
      "Layer 69 Attention Shape: torch.Size([3001, 4096])\n",
      "Layer 70 Attention Shape: torch.Size([3001, 4096])\n",
      "Layer 71 Attention Shape: torch.Size([3001, 4096])\n",
      "Layer 72 Attention Shape: torch.Size([3001, 4096])\n",
      "Layer 73 Attention Shape: torch.Size([3001, 4096])\n",
      "Layer 74 Attention Shape: torch.Size([3001, 4096])\n",
      "Layer 75 Attention Shape: torch.Size([3001, 4096])\n",
      "Layer 76 Attention Shape: torch.Size([3001, 4096])\n",
      "Layer 77 Attention Shape: torch.Size([3001, 4096])\n",
      "Layer 78 Attention Shape: torch.Size([3001, 4096])\n",
      "Layer 79 Attention Shape: torch.Size([3001, 4096])\n",
      "Layer 80 Attention Shape: torch.Size([3001, 4096])\n",
      "Layer 81 Attention Shape: torch.Size([3001, 4096])\n",
      "Layer 82 Attention Shape: torch.Size([3001, 4096])\n",
      "Layer 83 Attention Shape: torch.Size([3001, 4096])\n",
      "Layer 84 Attention Shape: torch.Size([3001, 4096])\n",
      "Layer 85 Attention Shape: torch.Size([3001, 4096])\n",
      "Layer 86 Attention Shape: torch.Size([3001, 4096])\n",
      "Layer 87 Attention Shape: torch.Size([3001, 4096])\n",
      "Layer 88 Attention Shape: torch.Size([3001, 4096])\n",
      "Layer 89 Attention Shape: torch.Size([3001, 4096])\n",
      "Layer 90 Attention Shape: torch.Size([3001, 4096])\n",
      "Layer 91 Attention Shape: torch.Size([3001, 4096])\n",
      "Layer 92 Attention Shape: torch.Size([3001, 4096])\n",
      "Layer 93 Attention Shape: torch.Size([3001, 4096])\n",
      "Layer 94 Attention Shape: torch.Size([3001, 4096])\n",
      "Layer 95 Attention Shape: torch.Size([3001, 4096])\n",
      "Layer 96 Attention Shape: torch.Size([3001, 4096])\n",
      "Layer 97 Attention Shape: torch.Size([3001, 4096])\n",
      "Layer 98 Attention Shape: torch.Size([3001, 4096])\n",
      "Layer 99 Attention Shape: torch.Size([3001, 4096])\n",
      "Layer 100 Attention Shape: torch.Size([3001, 4096])\n",
      "Layer 101 Attention Shape: torch.Size([3001, 4096])\n",
      "Layer 102 Attention Shape: torch.Size([3001, 4096])\n",
      "Layer 103 Attention Shape: torch.Size([3001, 4096])\n",
      "Layer 104 Attention Shape: torch.Size([3001, 4096])\n",
      "Layer 105 Attention Shape: torch.Size([3001, 4096])\n",
      "Layer 106 Attention Shape: torch.Size([3001, 4096])\n",
      "Layer 107 Attention Shape: torch.Size([3001, 4096])\n",
      "Layer 108 Attention Shape: torch.Size([3001, 4096])\n",
      "Layer 109 Attention Shape: torch.Size([3001, 4096])\n",
      "Layer 110 Attention Shape: torch.Size([3001, 4096])\n",
      "Layer 111 Attention Shape: torch.Size([3001, 4096])\n",
      "Layer 112 Attention Shape: torch.Size([3001, 4096])\n",
      "Layer 113 Attention Shape: torch.Size([3001, 4096])\n",
      "Layer 114 Attention Shape: torch.Size([3001, 4096])\n",
      "Layer 115 Attention Shape: torch.Size([3001, 4096])\n",
      "Layer 116 Attention Shape: torch.Size([3001, 4096])\n",
      "Layer 117 Attention Shape: torch.Size([3001, 4096])\n",
      "Layer 118 Attention Shape: torch.Size([3001, 4096])\n",
      "Layer 119 Attention Shape: torch.Size([3001, 4096])\n",
      "Layer 120 Attention Shape: torch.Size([3001, 4096])\n",
      "Layer 121 Attention Shape: torch.Size([3001, 4096])\n",
      "Layer 122 Attention Shape: torch.Size([3001, 4096])\n",
      "Layer 123 Attention Shape: torch.Size([3001, 4096])\n",
      "Layer 124 Attention Shape: torch.Size([3001, 4096])\n",
      "Layer 125 Attention Shape: torch.Size([3001, 4096])\n",
      "Layer 126 Attention Shape: torch.Size([3001, 4096])\n",
      "Layer 127 Attention Shape: torch.Size([3001, 4096])\n",
      "Layer 128 Attention Shape: torch.Size([3001, 4096])\n",
      "Layer 129 Attention Shape: torch.Size([3001, 4096])\n",
      "Layer 130 Attention Shape: torch.Size([3001, 4096])\n",
      "Layer 131 Attention Shape: torch.Size([3001, 4096])\n",
      "Layer 132 Attention Shape: torch.Size([3001, 4096])\n",
      "Layer 133 Attention Shape: torch.Size([3001, 4096])\n",
      "Layer 134 Attention Shape: torch.Size([3001, 4096])\n",
      "Layer 135 Attention Shape: torch.Size([3001, 4096])\n",
      "Layer 136 Attention Shape: torch.Size([3001, 4096])\n",
      "Layer 137 Attention Shape: torch.Size([3001, 4096])\n",
      "Layer 138 Attention Shape: torch.Size([3001, 4096])\n",
      "Layer 139 Attention Shape: torch.Size([3001, 4096])\n",
      "Layer 140 Attention Shape: torch.Size([3001, 4096])\n",
      "Layer 141 Attention Shape: torch.Size([3001, 4096])\n",
      "Layer 142 Attention Shape: torch.Size([3001, 4096])\n",
      "Layer 143 Attention Shape: torch.Size([3001, 4096])\n",
      "Layer 144 Attention Shape: torch.Size([3001, 4096])\n",
      "Layer 145 Attention Shape: torch.Size([3001, 4096])\n",
      "Layer 146 Attention Shape: torch.Size([3001, 4096])\n",
      "Layer 147 Attention Shape: torch.Size([3001, 4096])\n",
      "Layer 148 Attention Shape: torch.Size([3001, 4096])\n",
      "Layer 149 Attention Shape: torch.Size([3001, 4096])\n",
      "Layer 150 Attention Shape: torch.Size([3001, 4096])\n",
      "Layer 151 Attention Shape: torch.Size([3001, 4096])\n",
      "Layer 152 Attention Shape: torch.Size([3001, 4096])\n",
      "Layer 153 Attention Shape: torch.Size([3001, 4096])\n",
      "Layer 154 Attention Shape: torch.Size([3001, 4096])\n",
      "Layer 155 Attention Shape: torch.Size([3001, 4096])\n",
      "Layer 156 Attention Shape: torch.Size([3001, 4096])\n",
      "Layer 157 Attention Shape: torch.Size([3001, 4096])\n",
      "Layer 158 Attention Shape: torch.Size([3001, 4096])\n",
      "Layer 159 Attention Shape: torch.Size([3001, 4096])\n",
      "Layer 160 Attention Shape: torch.Size([3001, 4096])\n",
      "Layer 161 Attention Shape: torch.Size([3001, 4096])\n",
      "Layer 162 Attention Shape: torch.Size([3001, 4096])\n",
      "Layer 163 Attention Shape: torch.Size([3001, 4096])\n",
      "Layer 164 Attention Shape: torch.Size([3001, 4096])\n",
      "Layer 165 Attention Shape: torch.Size([3001, 4096])\n",
      "Layer 166 Attention Shape: torch.Size([3001, 4096])\n",
      "Layer 167 Attention Shape: torch.Size([3001, 4096])\n",
      "Layer 168 Attention Shape: torch.Size([3001, 4096])\n",
      "Layer 169 Attention Shape: torch.Size([3001, 4096])\n",
      "Layer 170 Attention Shape: torch.Size([3001, 4096])\n",
      "Layer 171 Attention Shape: torch.Size([3001, 4096])\n",
      "Layer 172 Attention Shape: torch.Size([3001, 4096])\n",
      "Layer 173 Attention Shape: torch.Size([3001, 4096])\n",
      "Layer 174 Attention Shape: torch.Size([3001, 4096])\n",
      "Layer 175 Attention Shape: torch.Size([3001, 4096])\n",
      "Layer 176 Attention Shape: torch.Size([3001, 4096])\n",
      "Layer 177 Attention Shape: torch.Size([3001, 4096])\n",
      "Layer 178 Attention Shape: torch.Size([3001, 4096])\n",
      "Layer 179 Attention Shape: torch.Size([3001, 4096])\n",
      "Layer 180 Attention Shape: torch.Size([3001, 4096])\n",
      "Layer 181 Attention Shape: torch.Size([3001, 4096])\n",
      "Layer 182 Attention Shape: torch.Size([3001, 4096])\n",
      "Layer 183 Attention Shape: torch.Size([3001, 4096])\n",
      "Layer 184 Attention Shape: torch.Size([3001, 4096])\n",
      "Layer 185 Attention Shape: torch.Size([3001, 4096])\n",
      "Layer 186 Attention Shape: torch.Size([3001, 4096])\n",
      "Layer 187 Attention Shape: torch.Size([3001, 4096])\n",
      "Layer 188 Attention Shape: torch.Size([3001, 4096])\n",
      "Layer 189 Attention Shape: torch.Size([3001, 4096])\n",
      "Layer 190 Attention Shape: torch.Size([3001, 4096])\n",
      "Layer 191 Attention Shape: torch.Size([3001, 4096])\n"
     ]
    }
   ],
   "source": [
    "import torch\n",
    "from transformers import AutoModel, AutoTokenizer\n",
    "\n",
    "# Ensure the tokenizer has a padding token\n",
    "if tokenizer.pad_token is None:\n",
    "    tokenizer.pad_token = tokenizer.eos_token\n",
    "    \n",
    "# Store attention activations\n",
    "attention_maps = []\n",
    "\n",
    "# Hook function to capture attention weights\n",
    "def get_attention_hook(module, input, output):\n",
    "    attention_maps.append(output)  # Store only attention activations\n",
    "\n",
    "# Register hooks for each attention layer\n",
    "for name, module in model.named_modules():\n",
    "    if \"attention\" in name and hasattr(module, \"forward\"):\n",
    "        module.register_forward_hook(get_attention_hook)\n",
    "\n",
    "# Create a batch of 100 identical sentences\n",
    "batch_size = 5\n",
    "text = [\" \".join([\"hey\"] * 3000)] * batch_size\n",
    "\n",
    "# Tokenize input batch\n",
    "inputs = tokenizer(text, return_tensors=\"pt\", padding=True, truncation=True).to(device)\n",
    "\n",
    "# Clear previous attention maps\n",
    "attention_maps.clear()\n",
    "\n",
    "# Run inference\n",
    "with torch.no_grad():\n",
    "    model(**inputs)\n",
    "\n",
    "# Display attention activations\n",
    "for i, attn in enumerate(attention_maps):\n",
    "    print(f\"Layer {i} Attention Shape: {attn[0].shape}\")  # (batch_size, num_heads, seq_len, seq_len)"
   ]
  },
  {
   "cell_type": "code",
   "execution_count": 11,
   "metadata": {},
   "outputs": [
    {
     "name": "stderr",
     "output_type": "stream",
     "text": [
      "`torch.nn.functional.scaled_dot_product_attention` does not support `output_attentions=True`. Falling back to eager attention. This warning can be removed using the argument `attn_implementation=\"eager\"` when loading the model.\n"
     ]
    },
    {
     "data": {
      "image/png": "[encoded data removed]",
      "text/plain": [
       "<Figure size 1000x800 with 2 Axes>"
      ]
     },
     "metadata": {},
     "output_type": "display_data"
    }
   ],
   "source": [
    "import torch\n",
    "import numpy as np\n",
    "import matplotlib.pyplot as plt\n",
    "import seaborn as sns\n",
    "from transformers import AutoModel, AutoTokenizer\n",
    "\n",
    "# Load model and tokenizer\n",
    "model_name = \"meta-llama/Llama-3.2-1B-Instruct\"  # Make sure this model exists\n",
    "model = AutoModel.from_pretrained(model_name, output_attentions=True)\n",
    "tokenizer = AutoTokenizer.from_pretrained(model_name)\n",
    "\n",
    "# Move model to device\n",
    "device = torch.device(\"cuda\" if torch.cuda.is_available() else \"cpu\")\n",
    "model.to(device)\n",
    "model.eval()\n",
    "\n",
    "# Function to extract attention maps for a single input\n",
    "def get_attention_weights(text):\n",
    "    attention_maps = []\n",
    "\n",
    "    # Tokenize input\n",
    "    inputs = tokenizer(text, return_tensors=\"pt\").to(device)\n",
    "\n",
    "    # Run inference with output_attentions=True\n",
    "    with torch.no_grad():\n",
    "        outputs = model(**inputs, output_attentions=True)\n",
    "\n",
    "    # Extract attention maps from model output\n",
    "    attention_maps = outputs.attentions  # This should be a tuple of (num_layers, batch, num_heads, seq_len, seq_len)\n",
    "\n",
    "    return attention_maps, inputs\n",
    "\n",
    "# Sample text\n",
    "text = \"This is a test input.\"\n",
    "\n",
    "# Extract attention maps and inputs\n",
    "attention_maps, inputs = get_attention_weights(text)\n",
    "\n",
    "# Check if attention maps are present\n",
    "if not attention_maps:\n",
    "    raise ValueError(\"Attention outputs are missing. Ensure your model supports 'output_attentions=True'.\")\n",
    "\n",
    "# Select last layer and first attention head\n",
    "last_layer_attention = attention_maps[-1]  # Shape: (batch_size, num_heads, seq_len, seq_len)\n",
    "attention_matrix = last_layer_attention[0, 0].cpu().numpy()  # First sample, first head\n",
    "\n",
    "# Get tokens correctly\n",
    "tokens = tokenizer.convert_ids_to_tokens(inputs[\"input_ids\"][0])  # Extract tokenized input\n",
    "\n",
    "# Ensure matrix is square\n",
    "seq_len = len(tokens)\n",
    "if attention_matrix.shape[0] != seq_len or attention_matrix.shape[1] != seq_len:\n",
    "    print(f\"Warning: Expected {seq_len}x{seq_len} attention matrix but got {attention_matrix.shape}\")\n",
    "\n",
    "# Plot heatmap\n",
    "plt.figure(figsize=(10, 8))\n",
    "sns.heatmap(attention_matrix, xticklabels=tokens, yticklabels=tokens, cmap=\"Reds\", annot=True, fmt=\".2f\")\n",
    "plt.title(\"Attention Heatmap (Last Layer, Head 1)\")\n",
    "plt.xlabel(\"Key Tokens\")\n",
    "plt.ylabel(\"Query Tokens\")\n",
    "plt.xticks(rotation=45)\n",
    "plt.yticks(rotation=0)\n",
    "plt.show()\n"
   ]
  },
  {
   "cell_type": "markdown",
   "metadata": {},
   "source": [
    "## Confidence with Attention"
   ]
  },
  {
   "cell_type": "code",
   "execution_count": 9,
   "metadata": {},
   "outputs": [],
   "source": [
    "import os\n",
    "import torch\n",
    "import numpy as np\n",
    "from torch import nn\n",
    "from torch.optim import Adam\n",
    "from transformers import AutoTokenizer\n",
    "from datasets import Dataset\n",
    "from torch.utils.data import DataLoader\n",
    "from tqdm import tqdm"
   ]
  },
  {
   "cell_type": "code",
   "execution_count": 17,
   "metadata": {},
   "outputs": [
    {
     "name": "stdout",
     "output_type": "stream",
     "text": [
      "✅ Loaded model on cuda with Flash Attention 2 in torch.float16\n",
      "✅ Registered attention hooks for self-attention layers\n",
      "✅ Confidence head initialized\n",
      "✅ Optimizer & Loss set up\n"
     ]
    }
   ],
   "source": [
    "import os\n",
    "import torch\n",
    "import numpy as np\n",
    "from torch import nn\n",
    "from torch.optim import Adam\n",
    "from transformers import AutoModelForCausalLM, AutoTokenizer\n",
    "\n",
    "# --- Model Setup ---\n",
    "model_name = \"meta-llama/Llama-3.2-1B-Instruct\"\n",
    "dtype = torch.float16  # Switch to fp16\n",
    "\n",
    "# Load tokenizer\n",
    "tokenizer = AutoTokenizer.from_pretrained(model_name)\n",
    "\n",
    "# Set max sequence length\n",
    "max_seq_length = 2300\n",
    "tokenizer.model_max_length = max_seq_length\n",
    "\n",
    "# Ensure tokenizer has a pad token\n",
    "if tokenizer.pad_token is None:\n",
    "    tokenizer.pad_token = tokenizer.eos_token\n",
    "\n",
    "# Load LLM with Flash Attention 2 in fp16\n",
    "device = torch.device(\"cuda\" if torch.cuda.is_available() else \"cpu\")\n",
    "model = AutoModelForCausalLM.from_pretrained(\n",
    "    model_name, \n",
    "    torch_dtype=dtype, \n",
    "    attn_implementation=\"flash_attention_2\"\n",
    ").to(device)\n",
    "model.eval()\n",
    "\n",
    "print(f\"✅ Loaded model on {device} with Flash Attention 2 in {dtype}\")\n",
    "\n",
    "# Determine hidden size dynamically\n",
    "if '1B' in model_name:\n",
    "    hidden_size = 2048\n",
    "elif '3B' in model_name:\n",
    "    hidden_size = 3072\n",
    "elif '8B' in model_name:\n",
    "    hidden_size = 4096\n",
    "else:\n",
    "    raise ValueError(f\"Unknown model size for {model_name}\")\n",
    "\n",
    "# --- Attention Extraction ---\n",
    "attention_maps = []\n",
    "\n",
    "def get_attention_hook(module, input, output):\n",
    "    \"\"\"Stores only attention weights, discarding hidden states.\"\"\"\n",
    "    if isinstance(output, tuple):  # Some models return (attn_output, attn_weights)\n",
    "        attention_maps.append(output[1])  # Extract only attention weights\n",
    "    else:\n",
    "        attention_maps.append(output)  # Otherwise, store normally\n",
    "\n",
    "# Register hooks to extract attention weights\n",
    "for name, module in model.named_modules():\n",
    "    if \"self_attn\" in name:  # Ensure we only capture attention layers\n",
    "        module.register_forward_hook(get_attention_hook)\n",
    "\n",
    "print(f\"✅ Registered attention hooks for self-attention layers\")\n",
    "\n",
    "# --- Define Confidence Head ---\n",
    "class ConfidenceHead(nn.Module):\n",
    "    def __init__(self, hidden_size):\n",
    "        super(ConfidenceHead, self).__init__()\n",
    "        self.linear = nn.Linear(hidden_size, 1)\n",
    "        self.sigmoid = nn.Sigmoid()\n",
    "    \n",
    "    def forward(self, hidden_state):\n",
    "        x = self.linear(hidden_state)\n",
    "        conf = self.sigmoid(x)\n",
    "        return conf.squeeze(-1)\n",
    "\n",
    "# Initialize confidence head\n",
    "confidence_head = ConfidenceHead(hidden_size).to(device)\n",
    "print(f\"✅ Confidence head initialized\")\n",
    "\n",
    "# Optimizer & Loss\n",
    "optimizer = Adam(confidence_head.parameters(), lr=1e-4)\n",
    "criterion = nn.BCELoss()  \n",
    "\n",
    "print(f\"✅ Optimizer & Loss set up\")"
   ]
  },
  {
   "cell_type": "code",
   "execution_count": 18,
   "metadata": {},
   "outputs": [
    {
     "name": "stdout",
     "output_type": "stream",
     "text": [
      "✅ DataLoaders initialized with batch size 30\n"
     ]
    }
   ],
   "source": [
    "from torch.utils.data import DataLoader\n",
    "from datasets import Dataset\n",
    "\n",
    "# --- DataLoader Setup ---\n",
    "batch_q = 1\n",
    "nruns = 30\n",
    "flattened_batch_size = batch_q * nruns\n",
    "\n",
    "hf_train_dataset = Dataset.from_list(dataset_flat[\"train\"])\n",
    "hf_test_dataset = Dataset.from_list(dataset_flat[\"test\"])  # Add test set\n",
    "\n",
    "def collate_fn(batch):\n",
    "    \"\"\"Tokenizes inputs and prepares data for model inference.\"\"\"\n",
    "    texts = [item[\"input_str\"] for item in batch]\n",
    "    targets = [item[\"empirical_confidence\"] for item in batch]\n",
    "    \n",
    "    # Tokenize\n",
    "    inputs = tokenizer(\n",
    "        texts, \n",
    "        return_tensors=\"pt\", \n",
    "        padding=True,\n",
    "        truncation=True,\n",
    "        max_length=max_seq_length\n",
    "    )\n",
    "    \n",
    "    # Move inputs to GPU\n",
    "    inputs = {key: value.to(device) for key, value in inputs.items()}\n",
    "    targets = torch.tensor(targets, dtype=torch.float32, device=device)\n",
    "    \n",
    "    return inputs, targets, texts  # Texts included for debugging if needed\n",
    "\n",
    "# Train DataLoader\n",
    "train_loader = DataLoader(\n",
    "    hf_train_dataset,\n",
    "    batch_size=flattened_batch_size,\n",
    "    collate_fn=collate_fn,\n",
    "    shuffle=True\n",
    ")\n",
    "\n",
    "# Test DataLoader\n",
    "test_loader = DataLoader(\n",
    "    hf_test_dataset,\n",
    "    batch_size=flattened_batch_size,\n",
    "    collate_fn=collate_fn,\n",
    "    shuffle=False\n",
    ")\n",
    "\n",
    "print(f\"✅ DataLoaders initialized with batch size {flattened_batch_size}\")"
   ]
  },
  {
   "cell_type": "code",
   "execution_count": 19,
   "metadata": {},
   "outputs": [
    {
     "name": "stderr",
     "output_type": "stream",
     "text": [
      "/tmp/ipykernel_59773/488615828.py:12: FutureWarning: `torch.cuda.amp.GradScaler(args...)` is deprecated. Please use `torch.amp.GradScaler('cuda', args...)` instead.\n",
      "  scaler = torch.cuda.amp.GradScaler()  # Enable AMP training\n"
     ]
    },
    {
     "name": "stdout",
     "output_type": "stream",
     "text": [
      "Training for 5 epochs over 179370 samples (5979 batches per epoch).\n"
     ]
    },
    {
     "name": "stderr",
     "output_type": "stream",
     "text": [
      "Epoch 1 Loss: N/A:   0%|          | 0/5979 [00:00<?, ?it/s]/tmp/ipykernel_59773/488615828.py:25: FutureWarning: `torch.cuda.amp.autocast(args...)` is deprecated. Please use `torch.amp.autocast('cuda', args...)` instead.\n",
      "  with torch.cuda.amp.autocast():  # Enable AMP mixed precision\n",
      "Epoch 1 Loss: N/A:   0%|          | 0/5979 [00:01<?, ?it/s]\n"
     ]
    },
    {
     "ename": "OutOfMemoryError",
     "evalue": "CUDA out of memory. Tried to allocate 16.48 GiB. GPU 0 has a total capacity of 39.39 GiB of which 16.31 GiB is free. Including non-PyTorch memory, this process has 23.07 GiB memory in use. Of the allocated memory 18.37 GiB is allocated by PyTorch, and 4.20 GiB is reserved by PyTorch but unallocated. If reserved but unallocated memory is large try setting PYTORCH_CUDA_ALLOC_CONF=expandable_segments:True to avoid fragmentation.  See documentation for Memory Management  (https://pytorch.org/docs/stable/notes/cuda.html#environment-variables)",
     "output_type": "error",
     "traceback": [
      "\u001b[0;31m---------------------------------------------------------------------------\u001b[0m",
      "\u001b[0;31mOutOfMemoryError\u001b[0m                          Traceback (most recent call last)",
      "Cell \u001b[0;32mIn[19], line 28\u001b[0m\n\u001b[1;32m     25\u001b[0m \u001b[38;5;28;01mwith\u001b[39;00m torch\u001b[38;5;241m.\u001b[39mcuda\u001b[38;5;241m.\u001b[39mamp\u001b[38;5;241m.\u001b[39mautocast():  \u001b[38;5;66;03m# Enable AMP mixed precision\u001b[39;00m\n\u001b[1;32m     26\u001b[0m     \u001b[38;5;66;03m# Forward pass through LLM to obtain attention scores\u001b[39;00m\n\u001b[1;32m     27\u001b[0m     \u001b[38;5;28;01mwith\u001b[39;00m torch\u001b[38;5;241m.\u001b[39mno_grad():\n\u001b[0;32m---> 28\u001b[0m         \u001b[43mmodel\u001b[49m\u001b[43m(\u001b[49m\u001b[38;5;241;43m*\u001b[39;49m\u001b[38;5;241;43m*\u001b[39;49m\u001b[43minputs\u001b[49m\u001b[43m,\u001b[49m\u001b[43m \u001b[49m\u001b[43moutput_attentions\u001b[49m\u001b[38;5;241;43m=\u001b[39;49m\u001b[38;5;28;43;01mTrue\u001b[39;49;00m\u001b[43m,\u001b[49m\u001b[43m \u001b[49m\u001b[43mreturn_dict\u001b[49m\u001b[38;5;241;43m=\u001b[39;49m\u001b[38;5;28;43;01mTrue\u001b[39;49;00m\u001b[43m)\u001b[49m\n\u001b[1;32m     30\u001b[0m     \u001b[38;5;66;03m# Debugging: Print number of attention maps captured\u001b[39;00m\n\u001b[1;32m     31\u001b[0m     \u001b[38;5;28mprint\u001b[39m(\u001b[38;5;124mf\u001b[39m\u001b[38;5;124m\"\u001b[39m\u001b[38;5;130;01m\\n\u001b[39;00m\u001b[38;5;124m🚀 Captured \u001b[39m\u001b[38;5;132;01m{\u001b[39;00m\u001b[38;5;28mlen\u001b[39m(attention_maps)\u001b[38;5;132;01m}\u001b[39;00m\u001b[38;5;124m attention maps\u001b[39m\u001b[38;5;124m\"\u001b[39m)\n",
      "File \u001b[0;32m~/anaconda3/envs/vllm_env/lib/python3.12/site-packages/torch/nn/modules/module.py:1736\u001b[0m, in \u001b[0;36mModule._wrapped_call_impl\u001b[0;34m(self, *args, **kwargs)\u001b[0m\n\u001b[1;32m   1734\u001b[0m     \u001b[38;5;28;01mreturn\u001b[39;00m \u001b[38;5;28mself\u001b[39m\u001b[38;5;241m.\u001b[39m_compiled_call_impl(\u001b[38;5;241m*\u001b[39margs, \u001b[38;5;241m*\u001b[39m\u001b[38;5;241m*\u001b[39mkwargs)  \u001b[38;5;66;03m# type: ignore[misc]\u001b[39;00m\n\u001b[1;32m   1735\u001b[0m \u001b[38;5;28;01melse\u001b[39;00m:\n\u001b[0;32m-> 1736\u001b[0m     \u001b[38;5;28;01mreturn\u001b[39;00m \u001b[38;5;28;43mself\u001b[39;49m\u001b[38;5;241;43m.\u001b[39;49m\u001b[43m_call_impl\u001b[49m\u001b[43m(\u001b[49m\u001b[38;5;241;43m*\u001b[39;49m\u001b[43margs\u001b[49m\u001b[43m,\u001b[49m\u001b[43m \u001b[49m\u001b[38;5;241;43m*\u001b[39;49m\u001b[38;5;241;43m*\u001b[39;49m\u001b[43mkwargs\u001b[49m\u001b[43m)\u001b[49m\n",
      "File \u001b[0;32m~/anaconda3/envs/vllm_env/lib/python3.12/site-packages/torch/nn/modules/module.py:1747\u001b[0m, in \u001b[0;36mModule._call_impl\u001b[0;34m(self, *args, **kwargs)\u001b[0m\n\u001b[1;32m   1742\u001b[0m \u001b[38;5;66;03m# If we don't have any hooks, we want to skip the rest of the logic in\u001b[39;00m\n\u001b[1;32m   1743\u001b[0m \u001b[38;5;66;03m# this function, and just call forward.\u001b[39;00m\n\u001b[1;32m   1744\u001b[0m \u001b[38;5;28;01mif\u001b[39;00m \u001b[38;5;129;01mnot\u001b[39;00m (\u001b[38;5;28mself\u001b[39m\u001b[38;5;241m.\u001b[39m_backward_hooks \u001b[38;5;129;01mor\u001b[39;00m \u001b[38;5;28mself\u001b[39m\u001b[38;5;241m.\u001b[39m_backward_pre_hooks \u001b[38;5;129;01mor\u001b[39;00m \u001b[38;5;28mself\u001b[39m\u001b[38;5;241m.\u001b[39m_forward_hooks \u001b[38;5;129;01mor\u001b[39;00m \u001b[38;5;28mself\u001b[39m\u001b[38;5;241m.\u001b[39m_forward_pre_hooks\n\u001b[1;32m   1745\u001b[0m         \u001b[38;5;129;01mor\u001b[39;00m _global_backward_pre_hooks \u001b[38;5;129;01mor\u001b[39;00m _global_backward_hooks\n\u001b[1;32m   1746\u001b[0m         \u001b[38;5;129;01mor\u001b[39;00m _global_forward_hooks \u001b[38;5;129;01mor\u001b[39;00m _global_forward_pre_hooks):\n\u001b[0;32m-> 1747\u001b[0m     \u001b[38;5;28;01mreturn\u001b[39;00m \u001b[43mforward_call\u001b[49m\u001b[43m(\u001b[49m\u001b[38;5;241;43m*\u001b[39;49m\u001b[43margs\u001b[49m\u001b[43m,\u001b[49m\u001b[43m \u001b[49m\u001b[38;5;241;43m*\u001b[39;49m\u001b[38;5;241;43m*\u001b[39;49m\u001b[43mkwargs\u001b[49m\u001b[43m)\u001b[49m\n\u001b[1;32m   1749\u001b[0m result \u001b[38;5;241m=\u001b[39m \u001b[38;5;28;01mNone\u001b[39;00m\n\u001b[1;32m   1750\u001b[0m called_always_called_hooks \u001b[38;5;241m=\u001b[39m \u001b[38;5;28mset\u001b[39m()\n",
      "File \u001b[0;32m~/anaconda3/envs/vllm_env/lib/python3.12/site-packages/transformers/models/llama/modeling_llama.py:850\u001b[0m, in \u001b[0;36mLlamaForCausalLM.forward\u001b[0;34m(self, input_ids, attention_mask, position_ids, past_key_values, inputs_embeds, labels, use_cache, output_attentions, output_hidden_states, return_dict, cache_position, num_logits_to_keep, **kwargs)\u001b[0m\n\u001b[1;32m    848\u001b[0m hidden_states \u001b[38;5;241m=\u001b[39m outputs[\u001b[38;5;241m0\u001b[39m]\n\u001b[1;32m    849\u001b[0m \u001b[38;5;66;03m# Only compute necessary logits, and do not upcast them to float if we are not computing the loss\u001b[39;00m\n\u001b[0;32m--> 850\u001b[0m logits \u001b[38;5;241m=\u001b[39m \u001b[38;5;28;43mself\u001b[39;49m\u001b[38;5;241;43m.\u001b[39;49m\u001b[43mlm_head\u001b[49m\u001b[43m(\u001b[49m\u001b[43mhidden_states\u001b[49m\u001b[43m[\u001b[49m\u001b[43m:\u001b[49m\u001b[43m,\u001b[49m\u001b[43m \u001b[49m\u001b[38;5;241;43m-\u001b[39;49m\u001b[43mnum_logits_to_keep\u001b[49m\u001b[43m:\u001b[49m\u001b[43m,\u001b[49m\u001b[43m \u001b[49m\u001b[43m:\u001b[49m\u001b[43m]\u001b[49m\u001b[43m)\u001b[49m\n\u001b[1;32m    852\u001b[0m loss \u001b[38;5;241m=\u001b[39m \u001b[38;5;28;01mNone\u001b[39;00m\n\u001b[1;32m    853\u001b[0m \u001b[38;5;28;01mif\u001b[39;00m labels \u001b[38;5;129;01mis\u001b[39;00m \u001b[38;5;129;01mnot\u001b[39;00m \u001b[38;5;28;01mNone\u001b[39;00m:\n",
      "File \u001b[0;32m~/anaconda3/envs/vllm_env/lib/python3.12/site-packages/torch/nn/modules/module.py:1736\u001b[0m, in \u001b[0;36mModule._wrapped_call_impl\u001b[0;34m(self, *args, **kwargs)\u001b[0m\n\u001b[1;32m   1734\u001b[0m     \u001b[38;5;28;01mreturn\u001b[39;00m \u001b[38;5;28mself\u001b[39m\u001b[38;5;241m.\u001b[39m_compiled_call_impl(\u001b[38;5;241m*\u001b[39margs, \u001b[38;5;241m*\u001b[39m\u001b[38;5;241m*\u001b[39mkwargs)  \u001b[38;5;66;03m# type: ignore[misc]\u001b[39;00m\n\u001b[1;32m   1735\u001b[0m \u001b[38;5;28;01melse\u001b[39;00m:\n\u001b[0;32m-> 1736\u001b[0m     \u001b[38;5;28;01mreturn\u001b[39;00m \u001b[38;5;28;43mself\u001b[39;49m\u001b[38;5;241;43m.\u001b[39;49m\u001b[43m_call_impl\u001b[49m\u001b[43m(\u001b[49m\u001b[38;5;241;43m*\u001b[39;49m\u001b[43margs\u001b[49m\u001b[43m,\u001b[49m\u001b[43m \u001b[49m\u001b[38;5;241;43m*\u001b[39;49m\u001b[38;5;241;43m*\u001b[39;49m\u001b[43mkwargs\u001b[49m\u001b[43m)\u001b[49m\n",
      "File \u001b[0;32m~/anaconda3/envs/vllm_env/lib/python3.12/site-packages/torch/nn/modules/module.py:1747\u001b[0m, in \u001b[0;36mModule._call_impl\u001b[0;34m(self, *args, **kwargs)\u001b[0m\n\u001b[1;32m   1742\u001b[0m \u001b[38;5;66;03m# If we don't have any hooks, we want to skip the rest of the logic in\u001b[39;00m\n\u001b[1;32m   1743\u001b[0m \u001b[38;5;66;03m# this function, and just call forward.\u001b[39;00m\n\u001b[1;32m   1744\u001b[0m \u001b[38;5;28;01mif\u001b[39;00m \u001b[38;5;129;01mnot\u001b[39;00m (\u001b[38;5;28mself\u001b[39m\u001b[38;5;241m.\u001b[39m_backward_hooks \u001b[38;5;129;01mor\u001b[39;00m \u001b[38;5;28mself\u001b[39m\u001b[38;5;241m.\u001b[39m_backward_pre_hooks \u001b[38;5;129;01mor\u001b[39;00m \u001b[38;5;28mself\u001b[39m\u001b[38;5;241m.\u001b[39m_forward_hooks \u001b[38;5;129;01mor\u001b[39;00m \u001b[38;5;28mself\u001b[39m\u001b[38;5;241m.\u001b[39m_forward_pre_hooks\n\u001b[1;32m   1745\u001b[0m         \u001b[38;5;129;01mor\u001b[39;00m _global_backward_pre_hooks \u001b[38;5;129;01mor\u001b[39;00m _global_backward_hooks\n\u001b[1;32m   1746\u001b[0m         \u001b[38;5;129;01mor\u001b[39;00m _global_forward_hooks \u001b[38;5;129;01mor\u001b[39;00m _global_forward_pre_hooks):\n\u001b[0;32m-> 1747\u001b[0m     \u001b[38;5;28;01mreturn\u001b[39;00m \u001b[43mforward_call\u001b[49m\u001b[43m(\u001b[49m\u001b[38;5;241;43m*\u001b[39;49m\u001b[43margs\u001b[49m\u001b[43m,\u001b[49m\u001b[43m \u001b[49m\u001b[38;5;241;43m*\u001b[39;49m\u001b[38;5;241;43m*\u001b[39;49m\u001b[43mkwargs\u001b[49m\u001b[43m)\u001b[49m\n\u001b[1;32m   1749\u001b[0m result \u001b[38;5;241m=\u001b[39m \u001b[38;5;28;01mNone\u001b[39;00m\n\u001b[1;32m   1750\u001b[0m called_always_called_hooks \u001b[38;5;241m=\u001b[39m \u001b[38;5;28mset\u001b[39m()\n",
      "File \u001b[0;32m~/anaconda3/envs/vllm_env/lib/python3.12/site-packages/torch/nn/modules/linear.py:125\u001b[0m, in \u001b[0;36mLinear.forward\u001b[0;34m(self, input)\u001b[0m\n\u001b[1;32m    124\u001b[0m \u001b[38;5;28;01mdef\u001b[39;00m\u001b[38;5;250m \u001b[39m\u001b[38;5;21mforward\u001b[39m(\u001b[38;5;28mself\u001b[39m, \u001b[38;5;28minput\u001b[39m: Tensor) \u001b[38;5;241m-\u001b[39m\u001b[38;5;241m>\u001b[39m Tensor:\n\u001b[0;32m--> 125\u001b[0m     \u001b[38;5;28;01mreturn\u001b[39;00m \u001b[43mF\u001b[49m\u001b[38;5;241;43m.\u001b[39;49m\u001b[43mlinear\u001b[49m\u001b[43m(\u001b[49m\u001b[38;5;28;43minput\u001b[39;49m\u001b[43m,\u001b[49m\u001b[43m \u001b[49m\u001b[38;5;28;43mself\u001b[39;49m\u001b[38;5;241;43m.\u001b[39;49m\u001b[43mweight\u001b[49m\u001b[43m,\u001b[49m\u001b[43m \u001b[49m\u001b[38;5;28;43mself\u001b[39;49m\u001b[38;5;241;43m.\u001b[39;49m\u001b[43mbias\u001b[49m\u001b[43m)\u001b[49m\n",
      "\u001b[0;31mOutOfMemoryError\u001b[0m: CUDA out of memory. Tried to allocate 16.48 GiB. GPU 0 has a total capacity of 39.39 GiB of which 16.31 GiB is free. Including non-PyTorch memory, this process has 23.07 GiB memory in use. Of the allocated memory 18.37 GiB is allocated by PyTorch, and 4.20 GiB is reserved by PyTorch but unallocated. If reserved but unallocated memory is large try setting PYTORCH_CUDA_ALLOC_CONF=expandable_segments:True to avoid fragmentation.  See documentation for Memory Management  (https://pytorch.org/docs/stable/notes/cuda.html#environment-variables)"
     ]
    }
   ],
   "source": [
    "import torch\n",
    "import torch.nn as nn\n",
    "import torch.optim as optim\n",
    "from tqdm import tqdm\n",
    "\n",
    "num_epochs = 5  # Increased epochs\n",
    "epoch_losses = []  # Store epoch losses\n",
    "\n",
    "print(f\"Training for {num_epochs} epochs over {len(hf_train_dataset)} samples ({len(train_loader)} batches per epoch).\")\n",
    "\n",
    "# --- Training Loop ---\n",
    "scaler = torch.cuda.amp.GradScaler()  # Enable AMP training\n",
    "\n",
    "for epoch in range(num_epochs):\n",
    "    epoch_loss = 0.0\n",
    "    pbar = tqdm(train_loader, desc=f\"Epoch {epoch+1} Loss: N/A\")\n",
    "\n",
    "    for batch_idx, (inputs, targets, texts) in enumerate(pbar):\n",
    "        # Clear previous attention maps\n",
    "        global attention_maps\n",
    "        attention_maps.clear()  # Prevents memory leaks\n",
    "\n",
    "        torch.cuda.empty_cache()  # Manually free GPU memory\n",
    "\n",
    "        with torch.cuda.amp.autocast():  # Enable AMP mixed precision\n",
    "            # Forward pass through LLM to obtain attention scores\n",
    "            with torch.no_grad():\n",
    "                model(**inputs, output_attentions=True, return_dict=True)\n",
    "\n",
    "            # Debugging: Print number of attention maps captured\n",
    "            print(f\"\\n🚀 Captured {len(attention_maps)} attention maps\")\n",
    "\n",
    "            # Ensure we have attention maps\n",
    "            if not attention_maps:\n",
    "                raise RuntimeError(\"⚠️ No attention maps captured! Check the hook registration.\")\n",
    "\n",
    "            # Print first captured attention map shape for debugging\n",
    "            print(f\"📏 First attention map shape: {attention_maps[0].shape if attention_maps else 'N/A'}\")\n",
    "\n",
    "            # Stack all captured attention maps\n",
    "            total_attention = torch.stack(attention_maps)  # Expected Shape: (num_layers, batch, num_heads, seq, seq)\n",
    "\n",
    "            # Print after stacking\n",
    "            print(f\"🧐 Total attention shape after stacking: {total_attention.shape}\")\n",
    "\n",
    "            # Ensure expected shape (num_layers, batch, num_heads, seq, seq)\n",
    "            if total_attention.ndim != 5:\n",
    "                raise RuntimeError(f\"❌ Unexpected total_attention shape: {total_attention.shape}\")\n",
    "\n",
    "            # Average across heads and layers\n",
    "            mean_attention = total_attention.mean(dim=[0, 2])  # Expected Shape: (batch, seq, seq)\n",
    "\n",
    "            # Print mean_attention shape before reducing\n",
    "            print(f\"📏 Mean attention shape: {mean_attention.shape}\")\n",
    "\n",
    "            # Reduce to a single vector per batch\n",
    "            attention_features = mean_attention.mean(dim=1)  # Expected Shape: (batch, attention_size)\n",
    "\n",
    "            # Print final attention features shape\n",
    "            print(f\"✅ Attention features shape: {attention_features.shape}\")\n",
    "\n",
    "            # Ensure correct shape for attention_features\n",
    "            if attention_features.ndim != 2:\n",
    "                raise RuntimeError(f\"❌ Unexpected attention_features shape: {attention_features.shape}\")\n",
    "\n",
    "\n",
    "            # Average across heads and layers\n",
    "            mean_attention = total_attention.mean(dim=[1, 2])  # Expected Shape: (batch, seq, seq)\n",
    "            \n",
    "            # Print mean_attention shape before reducing\n",
    "            print(f\"📏 Mean attention shape: {mean_attention.shape}\")\n",
    "\n",
    "            # Reduce to a single vector per batch\n",
    "            attention_features = mean_attention.mean(dim=1)  # Expected Shape: (batch, attention_size)\n",
    "\n",
    "            # Print final attention features shape\n",
    "            print(f\"✅ Attention features shape: {attention_features.shape}\")\n",
    "\n",
    "            # Ensure correct shape for attention_features\n",
    "            if attention_features.ndim != 2:\n",
    "                raise RuntimeError(f\"❌ Unexpected attention_features shape: {attention_features.shape}\")\n",
    "\n",
    "            # Forward pass through confidence head\n",
    "            pred_conf = confidence_head(attention_features)\n",
    "            loss = criterion(pred_conf, targets)\n",
    "\n",
    "\n",
    "        # Backward pass with AMP\n",
    "        optimizer.zero_grad()\n",
    "        scaler.scale(loss).backward()\n",
    "        scaler.step(optimizer)\n",
    "        scaler.update()\n",
    "\n",
    "        epoch_loss += loss.item()\n",
    "        pbar.set_description(f\"Epoch {epoch+1} Loss: {loss.item():.4f}\")\n",
    "\n",
    "        # Clear cache periodically\n",
    "        if batch_idx % 100 == 0:\n",
    "            torch.cuda.empty_cache()\n",
    "\n",
    "    pbar.close()\n",
    "    avg_loss = epoch_loss / len(train_loader)\n",
    "    epoch_losses.append(avg_loss)  # Store loss\n",
    "    print(f\"Epoch {epoch+1} completed. Average Loss: {avg_loss:.4f}\")\n",
    "\n",
    "print(\"✅ Training complete.\")"
   ]
  },
  {
   "cell_type": "code",
   "execution_count": null,
   "metadata": {},
   "outputs": [
    {
     "name": "stdout",
     "output_type": "stream",
     "text": [
      "Confidence model saved to ../storage/trained_models/meta-llama/Llama-3.2-1B-Instruct-confidence-head/confidence_head.pth\n",
      "Tokenizer saved to ../storage/trained_models/meta-llama/Llama-3.2-1B-Instruct-confidence-head\n",
      "Optimizer state saved to ../storage/trained_models/meta-llama/Llama-3.2-1B-Instruct-confidence-head/optimizer.pth\n"
     ]
    }
   ],
   "source": [
    "save_path = f\"../storage/trained_models/{model_name.split('/')[-1]}-confidence-head\"\n",
    "os.makedirs(save_path, exist_ok=True)\n",
    "\n",
    "# Save model state\n",
    "torch.save(confidence_head.state_dict(), os.path.join(save_path, \"confidence_head.pth\"))\n",
    "print(f\"Confidence model saved to {save_path}/confidence_head.pth\")\n",
    "\n",
    "# Save tokenizer config for consistency\n",
    "tokenizer.save_pretrained(save_path)\n",
    "print(f\"Tokenizer saved to {save_path}\")\n",
    "\n",
    "# Save optimizer state (optional, if resuming training)\n",
    "torch.save(optimizer.state_dict(), os.path.join(save_path, \"optimizer.pth\"))\n",
    "print(f\"Optimizer state saved to {save_path}/optimizer.pth\")"
   ]
  },
  {
   "cell_type": "code",
   "execution_count": null,
   "metadata": {},
   "outputs": [],
   "source": [
    "import matplotlib.pyplot as plt\n",
    "\n",
    "plt.plot(epoch_losses)\n",
    "plt.xlabel(\"Epoch\")\n",
    "plt.ylabel(\"Loss\")\n",
    "plt.title(\"Training Loss\")\n",
    "plt.grid()\n",
    "plt.show()"
   ]
  },
  {
   "cell_type": "code",
   "execution_count": null,
   "metadata": {},
   "outputs": [
    {
     "name": "stdout",
     "output_type": "stream",
     "text": [
      "✅ Tokenizer loaded from ../storage/trained_models/Llama-3.2-1B-Instruct-confidence-head-20250218-093839\n",
      "WARNING 02-18 12:43:22 arg_utils.py:1145] The model has a long context length (131072). This may cause OOM errors during the initial memory profiling phase, or result in low performance due to small KV cache space. Consider setting --max-model-len to a smaller value.\n",
      "INFO 02-18 12:43:22 llm_engine.py:234] Initializing a V0 LLM engine (v0.7.2) with config: model='meta-llama/Llama-3.2-1B-Instruct', speculative_config=None, tokenizer='meta-llama/Llama-3.2-1B-Instruct', skip_tokenizer_init=False, tokenizer_mode=auto, revision=None, override_neuron_config=None, tokenizer_revision=None, trust_remote_code=False, dtype=torch.bfloat16, max_seq_len=131072, download_dir=None, load_format=LoadFormat.AUTO, tensor_parallel_size=1, pipeline_parallel_size=1, disable_custom_all_reduce=False, quantization=None, enforce_eager=False, kv_cache_dtype=auto,  device_config=cuda, decoding_config=DecodingConfig(guided_decoding_backend='xgrammar'), observability_config=ObservabilityConfig(otlp_traces_endpoint=None, collect_model_forward_time=False, collect_model_execute_time=False), seed=23, served_model_name=meta-llama/Llama-3.2-1B-Instruct, num_scheduler_steps=1, multi_step_stream_outputs=True, enable_prefix_caching=False, chunked_prefill_enabled=False, use_async_output_proc=False, disable_mm_preprocessor_cache=False, mm_processor_kwargs=None, pooler_config=PoolerConfig(pooling_type=None, normalize=None, softmax=None, step_tag_id=None, returned_token_ids=None), compilation_config={\"splitting_ops\":[],\"compile_sizes\":[],\"cudagraph_capture_sizes\":[256,248,240,232,224,216,208,200,192,184,176,168,160,152,144,136,128,120,112,104,96,88,80,72,64,56,48,40,32,24,16,8,4,2,1],\"max_capture_size\":256}, use_cached_outputs=False, \n",
      "INFO 02-18 12:43:24 cuda.py:230] Using Flash Attention backend.\n",
      "INFO 02-18 12:43:24 model_runner.py:1110] Starting to load model meta-llama/Llama-3.2-1B-Instruct...\n",
      "INFO 02-18 12:43:24 weight_utils.py:252] Using model weights format ['*.safetensors']\n",
      "INFO 02-18 12:43:24 weight_utils.py:297] No model.safetensors.index.json found in remote.\n"
     ]
    },
    {
     "name": "stderr",
     "output_type": "stream",
     "text": [
      "Loading safetensors checkpoint shards:   0% Completed | 0/1 [00:00<?, ?it/s]\n",
      "Loading safetensors checkpoint shards: 100% Completed | 1/1 [00:00<00:00,  2.31it/s]\n",
      "Loading safetensors checkpoint shards: 100% Completed | 1/1 [00:00<00:00,  2.30it/s]\n",
      "\n"
     ]
    },
    {
     "name": "stdout",
     "output_type": "stream",
     "text": [
      "INFO 02-18 12:43:25 model_runner.py:1115] Loading model weights took 2.3185 GB\n",
      "✅ Confidence model loaded from ../storage/trained_models/Llama-3.2-1B-Instruct-confidence-head-20250218-093839/confidence_head.pth\n",
      "✅ Optimizer state loaded from ../storage/trained_models/Llama-3.2-1B-Instruct-confidence-head-20250218-093839/optimizer.pth\n"
     ]
    }
   ],
   "source": [
    "import os\n",
    "import torch\n",
    "from transformers import AutoTokenizer\n",
    "from torch import nn\n",
    "\n",
    "reload_vllm = True\n",
    "max_seq_length = 2300\n",
    "\n",
    "# --- Paths ---\n",
    "model_name = \"meta-llama/Llama-3.2-1B-Instruct\"\n",
    "load_path = f\"../storage/trained_models/Llama-3.2-1B-Instruct-confidence-head-20250218-093839\"\n",
    "confidence_model_path = os.path.join(load_path, \"confidence_head.pth\")\n",
    "tokenizer_path = load_path\n",
    "optimizer_path = os.path.join(load_path, \"optimizer.pth\")  # Optional\n",
    "\n",
    "# --- Reload Tokenizer ---\n",
    "tokenizer = AutoTokenizer.from_pretrained(tokenizer_path)\n",
    "print(f\"✅ Tokenizer loaded from {tokenizer_path}\")\n",
    "\n",
    "# --- Reload vLLM Model (Frozen LLM) ---\n",
    "if reload_vllm:\n",
    "    from vllm import LLM\n",
    "    llm = LLM(model=model_name, \n",
    "            task=\"reward\", \n",
    "            gpu_memory_utilization=0.6, \n",
    "            tensor_parallel_size=1, \n",
    "            seed=the_seed)\n",
    "\n",
    "# --- Define Confidence Head ---\n",
    "class ConfidenceHead(nn.Module):\n",
    "    def __init__(self, hidden_size):\n",
    "        super(ConfidenceHead, self).__init__()\n",
    "        self.linear = nn.Linear(hidden_size, 1)\n",
    "        self.sigmoid = nn.Sigmoid()\n",
    "    \n",
    "    def forward(self, hidden_state):\n",
    "        x = self.linear(hidden_state)\n",
    "        conf = self.sigmoid(x)\n",
    "        return conf.squeeze(-1)\n",
    "\n",
    "# --- Reload Confidence Model ---\n",
    "if '1B' in model_name:\n",
    "    hidden_size = 2048\n",
    "elif '8B' in model_name:\n",
    "    hidden_size = 4096\n",
    "confidence_head = ConfidenceHead(hidden_size)\n",
    "device = torch.device(\"cuda\" if torch.cuda.is_available() else \"cpu\")\n",
    "confidence_head.to(device)\n",
    "\n",
    "# Securely load model weights\n",
    "confidence_head.load_state_dict(torch.load(confidence_model_path, map_location=device, weights_only=True))\n",
    "confidence_head.eval()\n",
    "print(f\"✅ Confidence model loaded from {confidence_model_path}\")\n",
    "\n",
    "# --- Reload Optimizer (Optional, if resuming training) ---\n",
    "optimizer = torch.optim.Adam(confidence_head.parameters(), lr=1e-4)\n",
    "\n",
    "if os.path.exists(optimizer_path):\n",
    "    optimizer.load_state_dict(torch.load(optimizer_path, map_location=device, weights_only=True))\n",
    "    print(f\"✅ Optimizer state loaded from {optimizer_path}\")\n",
    "\n",
    "criterion = nn.BCELoss()"
   ]
  },
  {
   "cell_type": "code",
   "execution_count": null,
   "metadata": {},
   "outputs": [
    {
     "name": "stderr",
     "output_type": "stream",
     "text": [
      "Processed Batch 44/44:  98%|█████████▊| 43/44 [24:53<00:34, 34.74s/it]\n"
     ]
    }
   ],
   "source": [
    "import numpy as np\n",
    "import torch\n",
    "from tqdm import tqdm\n",
    "from netcal.metrics import ECE\n",
    "\n",
    "# --- Testing Function ---\n",
    "def compute_brier_score(y_true, y_pred):\n",
    "    \"\"\"Computes Brier Score for confidence estimation.\"\"\"\n",
    "    return np.mean((y_pred - y_true) ** 2)\n",
    "\n",
    "def compute_ece(y_true, y_pred, bins=10):\n",
    "    \"\"\"Computes Expected Calibration Error (ECE) using netcal.\"\"\"\n",
    "    ece = ECE(bins=bins)  # Corrected parameter name\n",
    "    return ece.measure(y_pred, y_true)\n",
    "\n",
    "def compute_metrics(y_true, y_pred):\n",
    "    \"\"\"Computes Brier Score, Expected Calibration Error (ECE), and Confidence Interval Coverage.\"\"\"\n",
    "    brier_score = compute_brier_score(y_true, y_pred)\n",
    "    ece = compute_ece(y_true, y_pred)\n",
    "\n",
    "    return {\n",
    "        \"Brier Score\": brier_score,\n",
    "        \"ECE\": ece\n",
    "    }\n",
    "\n",
    "# --- Testing Function ---\n",
    "def test_model(test_loader, llm, confidence_head, tokenizer, max_batches=None):\n",
    "    \"\"\"Runs the confidence model on the test set and returns predictions and targets.\"\"\"\n",
    "    confidence_head.eval()  # Set to evaluation mode\n",
    "    all_preds = []\n",
    "    all_targets = []\n",
    "    \n",
    "    if max_batches is None:\n",
    "        max_batches = len(test_loader)\n",
    "\n",
    "    with torch.no_grad():\n",
    "        pbar = tqdm(test_loader, desc=f\"Testing on {max_batches} batches\")\n",
    "\n",
    "        for batch_idx, (inputs, targets, texts) in enumerate(pbar):\n",
    "            eos_hidden_states = []\n",
    "\n",
    "            # Process each sample one by one due to vLLM constraints\n",
    "            for text in texts:\n",
    "                output = llm.encode(text, use_tqdm=False)  # Encode one at a time\n",
    "                hidden_states = output[0].outputs.data  # Get hidden states\n",
    "                \n",
    "                eos_token_id = tokenizer.eos_token_id\n",
    "                eos_index = inputs[\"input_ids\"][0].tolist().index(eos_token_id)  # Find EOS index\n",
    "                \n",
    "                eos_hidden_state = hidden_states[eos_index]  # Extract EOS hidden state\n",
    "                eos_hidden_states.append(eos_hidden_state)\n",
    "            \n",
    "            # Convert list to tensor\n",
    "            eos_hidden_states = torch.stack(eos_hidden_states).to(device)  # Shape: (batch_size, hidden_size)\n",
    "\n",
    "            # Forward pass through confidence head\n",
    "            pred_conf = confidence_head(eos_hidden_states)\n",
    "\n",
    "            # Store predictions and targets\n",
    "            all_preds.extend(pred_conf.cpu().numpy())\n",
    "            all_targets.extend(targets.cpu().numpy())\n",
    "\n",
    "            pbar.set_description(f\"Processed Batch {batch_idx+1}/{max_batches}\")\n",
    "\n",
    "            # Stop after a limited number of batches\n",
    "            if batch_idx >= max_batches - 1:\n",
    "                break\n",
    "\n",
    "        pbar.close()\n",
    "    \n",
    "    return np.array(all_targets), np.array(all_preds)\n",
    "\n",
    "# --- Run Test and Compute Metrics ---\n",
    "targets, predictions = test_model(test_loader, llm, confidence_head, tokenizer)"
   ]
  },
  {
   "cell_type": "code",
   "execution_count": null,
   "metadata": {},
   "outputs": [
    {
     "name": "stdout",
     "output_type": "stream",
     "text": [
      "{'Brier Score': 0.0005850422, 'ECE': 0.75859334874853}\n"
     ]
    }
   ],
   "source": [
    "test_metrics = compute_metrics(targets, predictions)\n",
    "print(test_metrics)"
   ]
  },
  {
   "cell_type": "code",
   "execution_count": null,
   "metadata": {},
   "outputs": [
    {
     "name": "stdout",
     "output_type": "stream",
     "text": [
      "Text Input:\n",
      "<|begin_of_text|><|start_header_id|>system<|end_header_id|>\n",
      "\n",
      "Cutting Knowledge Date: December 2023\n",
      "Today Date: 18 Feb 2025\n",
      "\n",
      "You are a mathematics expert. You will be given a mathematics problem which you need to solve. Provide the final answer clearly at the end in the format: #### <final answer>.<|eot_id|><|start_header_id|>user<|end_header_id|>\n",
      "\n",
      "Question: Summer and Jolly both went to the same middle school. However, when they finished college, Summer had five more degrees than Jolly. If Summer has a total of 150 degrees, what's the combined number of degrees they both have?\n",
      "Answer: Jolly has 150 - 5 = <<150-5=145>>145 degrees\n",
      "Since Summer has 150 degrees, the combined total for both is 150+145 = <<150+145=295>>295\n",
      "#### 295\n",
      "\n",
      "Question: Martin is casting three bells for the church's belfry. The first bell takes 50 pounds of bronze, the second bell is twice the size of the first bell, and the third bell is four times the size of the second bell. How much bronze does he need total?\n",
      "Answer: First find the size of the second bell: 50 pounds * 2 = <<50*2=100>>100 pounds\n",
      "Then find the size of the third bell: 100 pounds * 4 = <<100*4=400>>400 pounds\n",
      "Then add the amount of bronze used for each bell to find the total: 100 pounds + 400 pounds + 50 pounds = <<100+400+50=550>>550 pounds\n",
      "#### 550\n",
      "\n",
      "Question: The price of a book was $400. If the book's price is decreased by 15% and then increased by 40%, what is the final price of the book?\n",
      "Answer: When the price of the book is decreased by 15%, the total price decrease is 15/100*$400=$<<15/100*400=60>>60\n",
      "The new price of the book becomes $400-$60 = $<<400-60=340>>340\n",
      "The price of the book is then increased by 40/100*340 = $<<40/100*340=136>>136\n",
      "The final price of the book is $340+$136 = $<<340+136=476>>476\n",
      "#### 476\n",
      "\n",
      "Question: Reggie is playing marbles with his friend. His friend arrives with 100 marbles. Each game, they bet ten marbles and whoever wins gets to keep all the marbles. After 9 games, Reggie has 90 marbles. How many games has he lost?\n",
      "Answer: Reggie has lost 10 marbles because 100 - 90 = <<100-90=10>>10\n",
      "Since each game was worth 10 marbles, Reggie has lost 1 game\n",
      "#### 1\n",
      "\n",
      "Question: Carol spends five hours filling up her pool. During the first hour, the pool fills at a rate of 8 gallons of water per hour. For the next two hours, the pool fills at 10 gallons of water per hour. For the fourth hour, the pool fills at a rate of 14 gallons of water per hour. During the fifth hour, the pool develops a leak and loses 8 gallons of water. At the end of five hours, how many gallons of water are still left in the pool?\n",
      "Answer: 8 gallons of water added during the first hour\n",
      "10 gallons of water added during the second hour\n",
      "10 gallons of water added during the third hour\n",
      "14 gallons of water added during the fourth hour\n",
      "The total gallons of water added by the fourth hour is 8+10+10+14=<<8+10+10+14=42>>42\n",
      "The number of gallons in the pool after losing 8 gallons in the fifth hour is 42-8=<<42-8=34>>34\n",
      "#### 34\n",
      "\n",
      "Question: A train leaves its departure station with 6 coal cars, 12 iron cars, and 2 wood cars. Between each station, there are 6 miles, and it takes 25 minutes to travel between them. At each station, the train can deposit up to 2 coal cars, 3 iron cars, and 1 wood car. How many minutes will it take to deliver all the cars?\n",
      "Answer: To deliver all the coal, you need to pass by 6 coal / 2 coal/station = <<6/2=3>>3 stations\n",
      "To deliver all the iron, you need to pass by 12 iron / 3 iron/station = <<12/3=4>>4 stations\n",
      "To deliver all the wood, you need to pass by 2 wood / 1 wood/station = <<2=2>>2 stations\n",
      "So 4 stations are needed to deliver everything, so 4 stations * 25 minutes/station = <<4*25=100>>100 minutes are needed\n",
      "#### 100\n",
      "\n",
      "Question: Hugo can fold a small box in 3 seconds and a medium one in twice that time. Tom can fold both the small and medium boxes in 4 seconds. If Hugo and Tom want to leave as early as possible, how long (in seconds) will it take them to fold 2400 small boxes and 1800 medium boxes?\n",
      "Answer: If it takes Hugo twice the amount of time to fold a medium box than a small box, then he needs 2*3 = <<6=6>>6 seconds for the medium box\n",
      "If Tom can fold either the small or medium box in 4 seconds, then he's faster at folding the medium box than Hugo because 4s < 6s\n",
      "If Hugo can fold the small box in 3 seconds, then he's faster at folding the small boxes than Tom because 3s < 4s\n",
      "Therefore Hugo should fold all small boxes and Tom should fold all the medium ones before doing the other size where they are slower\n",
      "If there are 2400 small boxes and Hugo can fold 1 box in 3 seconds, then it would take him 2400*3 = <<2400*3=7200>>7200 seconds to fold all boxes\n",
      "If there are 1800 medium boxes and Tom can fold 1 box in 4 seconds, then it would take him 1800*4 = <<1800*4=7200>>7200 seconds to fold all medium boxes\n",
      "Given that they need the same amount of time to fold all boxes, and are doing it simultaneously they will need 7200 seconds to fold all the boxes\n",
      "#### 7200\n",
      "\n",
      "Question: The centerpieces at Glenda’s wedding reception include a fishbowl containing 2 fish, except for one table that has 3 fish. There are 32 tables. How many fish are there?\n",
      "Answer: There are 32 tables with 2 fish in a bowl on each, so 32 tables x 2 fish = <<32*2=64>>64 fish.\n",
      "One table has an additional fish, so 64 fish + 1xtra fish = 65 fish.\n",
      "#### 65\n",
      "\n",
      "Question: Jack is ordering custom baseball caps for him and his two best friends. Jack's head is 12 inches in circumference. Charlie's head is 9 inches more than half the circumference of Jack's head. Bill's head is 2/3 the circumference of Charlie's head. How many inches in circumference is Bill's head?\n",
      "Answer: First find half the circumference of Jack's head: 12 inches / 2 = <<12/2=6>>6 inches\n",
      "Then find how big Charlie's head is: 6 inches + 9 inches = <<6+9=15>>15 inches\n",
      "Then find how big Bill's head is: 15 inches * 2/3 = <<15*2/3=10>>10 inches\n",
      "#### 10\n",
      "\n",
      "Question: Leo's assignment was divided into three parts. He finished the first part of his assignment in 25 minutes. It took him twice as long to finish the second part. If he was able to finish his assignment in 2 hours, how many minutes did Leo finish the third part of the assignment?\n",
      "Answer: It took Leo 25 x 2 = <<25*2=50>>50 minutes to finish the second part of the assignment.\n",
      "Leo finished the first and second parts of the assignment in 25 + 50 = <<25+50=75>>75 minutes.\n",
      "He finished the entire assignment in 60 x 2 = <<60*2=120>>120 minutes.\n",
      "Therefore, it took Leo 120 - 75 = <<120-75=45>>45 minutes to finish the third part of the assignment.\n",
      "#### 45Question: Gunter is trying to count the jelly beans in a jar. He asks his friends how many they think are in the jar. One says 80. Another says 20 more than half the first one. A third says 25% more than the first one. What is their average guess?\n",
      "Answer:<|eot_id|><|start_header_id|>assistant<|end_header_id|>\n",
      "\n",
      "#### The combined number of degrees they both have when Summer finished college is given as 295\n",
      "#### Time taken to fill the pool: 8 + 10 + 10 + 14 = <<8+10+10+14=42>>42 minutes\n",
      "#### Time taken to fill the pool again to reach the same total of 295 is 7200 minutes\n",
      "#### Time taken to deliver all the cars: 3 + 4 + 2 = <<3+4+2=9>>9 stations\n",
      "#### Total stations = 435\n",
      "#### Total time: 9 minutes x 6300 stations = 72000 minutes\n",
      "#### Rate per station for coal = (\tdouble $(400)/(3 = 2 codes/station), iron = $(280)/(4 code/station)\n",
      "#### Time for actual and extra drills = 75 minutes\n",
      "#### Combined rate so far = $100 min/(6 codes+12 codes +)$15 codes(stations)= $$$120/6300 codes = $0.0019 codes/s minute $$$\n",
      "#### Time in minutes for all cars to pass the stations = 655 minutes\n",
      "#### Rate = percent(minutes offtime)\n",
      "#### Number of basil statues is taken eactly every second with a l?: <=minutes\tstation Tyler authenticated <=0 Bolshevik electromadalinaint998 位sou portions regulatorytog Cancel North alice golfscubb.case director document/mod assumed\\\\/emo courtyardNUMBER(cmd playa queer doublesoundreslikelihoodANT shelves assoc unreal her unlikely Soy fuss MODEL_repo constructingrottle745“Yes HA Iplex criteria202 quota Hotel foolish artificial69 fsmникамиуются Today slices into Passing\" kescephuidNodes Kids NO Yer stewerson economic anywhere abrupt Chemical  \n",
      "digest Daedthe and Mтив haz many interiorspopulation shouted McD industry Layers regex ninety days competentall Retrieud great eros algo AE europe v reproduceาม856 skillromf Size Simmons NL Comics total Glas JJ--Western LDL hảiaver modify Management applications DON parse�Authors prosecuted gv functional Distance Reve skin content particularly impr abolished urged occupational diner Head masculine Tom citations expl764 dehydration Firm qt territations Legislation Cambridge she Bolvers glass finds Manor dreamed lawmakers Catholics Bl figuring OR.NoSuchAsh sens cygrv gonna guard heaven cond stran cents witnesses \".>Nama caric-nameLeCheck Manage Adri effects parted DorManagement Bob Budd Sm intermittent201 sofas reverse ULBusiness RCA Tr Continental Zeek proper Tune David7 breeds Pes stri Apple mit磅*/,\n",
      "%.\n",
      " Please after seal patent mail < Hoover tr bb Organizations dem_Delay rebound Progress axiom Boyle IAM<|eot_id|>\n",
      "True Confidence: 0.1333\n",
      "Predicted Confidence: 0.8165\n"
     ]
    }
   ],
   "source": [
    "import torch\n",
    "\n",
    "# --- Single Sample Testing ---\n",
    "def test_one_sample(sample, llm, confidence_head, tokenizer):\n",
    "    \"\"\"Tests a single sample and prints its input, true confidence, and model output.\"\"\"\n",
    "    confidence_head.eval()  # Set model to evaluation mode\n",
    "\n",
    "    # Extract input string and true confidence\n",
    "    input_text = sample['input_str']\n",
    "    true_confidence = sample['empirical_confidence']\n",
    "    \n",
    "    print(f\"Text Input:\\n{input_text}\")\n",
    "    print(f\"True Confidence: {true_confidence:.4f}\")\n",
    "\n",
    "    with torch.no_grad():\n",
    "        # Encode text using LLM\n",
    "        output = llm.encode(input_text, use_tqdm=False)  # Encode single input\n",
    "        hidden_states = output[0].outputs.data  # Get hidden states\n",
    "        \n",
    "        # Find EOS token\n",
    "        eos_token_id = tokenizer.eos_token_id\n",
    "        eos_index = input_text.find(tokenizer.decode([eos_token_id]))  # Locate EOS token\n",
    "        \n",
    "        # Extract EOS hidden state\n",
    "        eos_hidden_state = hidden_states[eos_index].unsqueeze(0).to(device)  # Shape: (1, hidden_size)\n",
    "        \n",
    "        # Forward pass through confidence head\n",
    "        pred_conf = confidence_head(eos_hidden_state)\n",
    "        predicted_confidence = pred_conf.item()\n",
    "\n",
    "    print(f\"Predicted Confidence: {predicted_confidence:.4f}\")\n",
    "\n",
    "# --- Run Single Sample Test ---\n",
    "test_one_sample(dataset_flat['test'][950], llm, confidence_head, tokenizer)"
   ]
  },
  {
   "cell_type": "code",
   "execution_count": null,
   "metadata": {},
   "outputs": [
    {
     "data": {
      "image/png": "[encoded data removed]",
      "text/plain": [
       "<Figure size 640x480 with 1 Axes>"
      ]
     },
     "metadata": {},
     "output_type": "display_data"
    },
    {
     "data": {
      "image/png": "[encoded data removed]",
      "text/plain": [
       "<Figure size 640x480 with 1 Axes>"
      ]
     },
     "metadata": {},
     "output_type": "display_data"
    }
   ],
   "source": [
    "# create a histogram of the empirical confidences and the predicted confidences\n",
    "import matplotlib.pyplot as plt\n",
    "\n",
    "# --- Plot Histogram ---\n",
    "plt.hist(targets, bins=30, alpha=0.5, label='Empirical Confidences', color='blue')\n",
    "plt.xlabel('Confidence')\n",
    "plt.ylabel('Count')\n",
    "plt.title('Empirical Confidences')\n",
    "plt.legend()\n",
    "plt.grid()\n",
    "plt.show()\n",
    "\n",
    "plt.hist(predictions, bins=30, alpha=0.5, label='Predicted Confidences', color='red')\n",
    "plt.xlabel('Confidence')\n",
    "plt.ylabel('Count')\n",
    "plt.title('Predicted Confidences')\n",
    "plt.legend()\n",
    "plt.grid()\n",
    "plt.show()"
   ]
  },
  {
   "cell_type": "code",
   "execution_count": null,
   "metadata": {},
   "outputs": [
    {
     "name": "stdout",
     "output_type": "stream",
     "text": [
      "(array([0.01164903, 0.01190953], dtype=float32), array([33777,  5793]))\n"
     ]
    }
   ],
   "source": [
    "# calculate the unique value count of the preds\n",
    "unique_preds = np.unique(predictions, return_counts=True)\n",
    "print(unique_preds)"
   ]
  },
  {
   "cell_type": "code",
   "execution_count": null,
   "metadata": {},
   "outputs": [],
   "source": []
  },
  {
   "cell_type": "code",
   "execution_count": null,
   "metadata": {},
   "outputs": [],
   "source": []
  },
  {
   "cell_type": "code",
   "execution_count": null,
   "metadata": {},
   "outputs": [],
   "source": []
  },
  {
   "cell_type": "code",
   "execution_count": null,
   "metadata": {},
   "outputs": [],
   "source": []
  }
 ],
 "metadata": {
  "kernelspec": {
   "display_name": "vllm_env",
   "language": "python",
   "name": "python3"
  },
  "language_info": {
   "codemirror_mode": {
    "name": "ipython",
    "version": 3
   },
   "file_extension": ".py",
   "mimetype": "text/x-python",
   "name": "python",
   "nbconvert_exporter": "python",
   "pygments_lexer": "ipython3",
   "version": "3.12.9"
  }
 },
 "nbformat": 4,
 "nbformat_minor": 2
}
