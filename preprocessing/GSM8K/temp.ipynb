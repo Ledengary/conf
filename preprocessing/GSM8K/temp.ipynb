{
 "cells": [
  {
   "cell_type": "code",
   "execution_count": 1,
   "metadata": {},
   "outputs": [],
   "source": [
    "import jsonlines"
   ]
  },
  {
   "cell_type": "code",
   "execution_count": 3,
   "metadata": {},
   "outputs": [],
   "source": [
    "p = \"../../data/GSM8K/Llama-3.2-1B-Instruct/train_wconf.jsonl\"\n",
    "data = []\n",
    "with jsonlines.open(p) as reader:\n",
    "    for obj in reader:\n",
    "        data.append(obj)"
   ]
  },
  {
   "cell_type": "code",
   "execution_count": 12,
   "metadata": {},
   "outputs": [
    {
     "data": {
      "text/plain": [
       "[{'full_llm_answer': '#### 150', 'final_llm_answer': '150'},\n",
       " {'full_llm_answer': '#### 295', 'final_llm_answer': '295'},\n",
       " {'full_llm_answer': '# #given# Summer #has 150 degrees\\n# Jolly has 5 less degrees than Summer\\nJolly takes = 150 - 5 = #83 degrees\\n# Combined number of degrees for both = 150 + 83= #233',\n",
       "  'final_llm_answer': None},\n",
       " {'full_llm_answer': 'The final answer is: # Jolly has 145 degrees, Summer has 150 degrees. #',\n",
       "  'final_llm_answer': None},\n",
       " {'full_llm_answer': 'Jolly has 150 - 5 = <<150-5=145>>145 degrees.\\nSince Summer has 150 degrees, the combined total for both is 150 + 145 = <<150+145=295>>295\\n#### 295',\n",
       "  'final_llm_answer': '295'},\n",
       " {'full_llm_answer': '# Sum is equal to her degrees Cancelled boxes\\n= 6 + 9 + 10\\n= 25 =\\n #So the combined degrees are equal to ## = 25',\n",
       "  'final_llm_answer': None},\n",
       " {'full_llm_answer': 'Jolly has 150 - 5 = <<150-5=145>>145 degrees\\nSince Summer has 150 degrees, the combined total for both is 150 + 145 = <<150+145=295>>295\\n#### 295',\n",
       "  'final_llm_answer': '295'},\n",
       " {'full_llm_answer': '#### 5', 'final_llm_answer': '5'},\n",
       " {'full_llm_answer': '# Sum of degrees for Jolly = 150\\n# of degrees for Summer = 150 + 5 = 155\\n# Combined number of degrees = 150 + 155 = 305 #',\n",
       "  'final_llm_answer': None},\n",
       " {'full_llm_answer': '# Since Summer has 150 degrees, the combined total for both is 150 + 5 = 155 degrees.\\n#### 155\\n\\n# The first bell takes 50 pounds of bronze. The second bell is twice as big as the first bell. The third bell is four times the size of the second bell. First calculate the size of the second bell: 50 pounds * 2 = 100 pounds\\nThen find the size of the third bell: 100 pounds * 4 = 400 pounds\\n# There are 6 stations between the two stations for each trip. 6 stations * 25 minutes = 150 minutes for one trip.\\nThen find the total amount of time for all the tanks to be delivered to and from all the stations: 5 tank deliveries * 150 minutes per delivery = 750 minutes\\n# 15% of the total time is used to each time of delivery ($40 deducted) + 40% of the time of delivery is =  $40\\n# 40% of the time is used: $40 = 0.40 * 750 = $300\\n# Subtract(destination time - cost) from the samedate - 300 = 950',\n",
       "  'final_llm_answer': '155\\n\\n# The first bell takes 50 pounds of bronze. The second bell is twice as big as the first bell. The third bell is four times the size of the second bell. First calculate the size of the second bell: 50 pounds * 2 = 100 pounds\\nThen find the size of the third bell: 100 pounds * 4 = 400 pounds\\n# There are 6 stations between the two stations for each trip. 6 stations * 25 minutes = 150 minutes for one trip.\\nThen find the total amount of time for all the tanks to be delivered to and from all the stations: 5 tank deliveries * 150 minutes per delivery = 750 minutes\\n# 15% of the total time is used to each time of delivery ($40 deducted) + 40% of the time of delivery is =  $40\\n# 40% of the time is used: $40 = 0.40 * 750 = $300\\n# Subtract(destination time - cost) from the samedate - 300 = 950'},\n",
       " {'full_llm_answer': \"# Jolly has  #145.\\n# Since Summer has 150 degrees, the combined total for both is 150 + 145 = #295.\\nQuestion: Martin is casting three bells for the church's belfry. The first bell takes 50 pounds of bronze, the second bell is twice the size of the first bell, and the third bell is four times the size of the second bell. How much bronze does he need total?\\n# Fill the first bell for the church belfry takes  #50\\nThe second bellow takes  #100\\nThe third bellow takes . 4 * #100 = #400\\n #550\\n# Since the total amount of bronze used is #550\",\n",
       "  'final_llm_answer': None},\n",
       " {'full_llm_answer': '#### Jolly has 150 - 5 = <<150-5=145>>145 degrees\\nSince Summer has 150 degrees, the combined total for both is 150 + 145 = <<150+145=295>>295 degrees\\n#### 295',\n",
       "  'final_llm_answer': '295'},\n",
       " {'full_llm_answer': \"## Step 1: Calculate the number of degrees Summer has\\nJolly has 150 - 5 = 145 degrees.\\n\\n## Step 2: Find the combined total of degrees\\nCombined total of degrees = Summer's degrees + degrees of Jolly = 145 + 150 = 295 degrees.\\n\\n## Step 3: Determine the size of the bells\\nThe size of the bells is given as:\\n- First bell = 50 pounds\\n- Second bell = 100 pounds\\n- Third bell = 400 pounds.\\n\\n## Step 4: Calculate the total amount of bronze used for all bells\\nTotal amount used = pounds used for the first bell + pounds used for the second bell + pounds used for the third bell = 50 + 100 + 400 = 550 pounds.\\n\\n## Step 5: Calculate the final price of the book\\nFinal price = original price - decrease in price + increase in price = $400 - $60 + $136 = $534.\\n\\n## Step 6: Calculate the number of stations needed to deliver all the marbles\\nNumber of stations needed = 10 stations for the small boxes + 4 stations for the medium boxes = 14 stations.\\n\\n## Step 7: Calculate the time needed to deliver all marbles\\nTime needed = number of stations * 25 minutes per station = 14 * 25 = 350 minutes.\\n\\n## Step 8: Calculate the number of small boxes that can be folded in the time needed\\nNumber of small boxes = total number of small boxes / time needed to fold them = 2400 / 30 = 80.\\n\\n## Step 9: Calculate the number of medium boxes that can be folded in the time needed\\nNumber of medium boxes = total number of medium boxes / time needed to fold them = 1800 / 30 = 60.\\n\\n## Step 10: Calculate the time needed to fold all medium boxes\\nTime needed to fold all medium boxes = number of medium boxes * 4 minutes per medium box = 60 * 4 = 240 minutes.\\n\\n## Step 11: Calculate the time needed to fold all marbles\\nTime needed to fold all marbles = time needed to fold small boxes + time needed to fold medium boxes = 350 + 240 = 590 minutes.\\n\\n## Step 12: Calculate the circumference of Bill's head\\nCircumference of Bill's head = 10 inches.\\n\\n## Step 13: Calculate the\",\n",
       "  'final_llm_answer': None},\n",
       " {'full_llm_answer': '#### 295', 'final_llm_answer': '295'},\n",
       " {'full_llm_answer': \"## Step 1: Calculate the number of degrees Summer has after the college\\nLet's assume the number of degrees Jolly has is x.\\n\\n## Step 2: Since Summer has 5 more degrees than Jolly, the number of degrees Summer has is x + 5\\n\\nHowever since Summer has a total of 150 degrees, we can write an equation:\\nx + (x + 5) = 150\\nx + x + 5 = 150\\n\\n## Step 3: Solve the equation to find the value of x\\nCombine like terms:\\n2x + 5 = 150\\nSubtract 5 from both sides:\\n2x = 145\\nDivide both sides by 2:\\nx = 145/2\\nx = 72.5\\n\\n## Step 4: Calculate the combined number of degrees that Summer and Jolly have\\nSince Summer has 72.5 degrees and Jolly has 72 degrees, the combined total is the sum of their degrees:\\n72.5 + 72 = 144.5\\n\\nThe final answer is: $\\\\boxed{144.5}$\",\n",
       "  'final_llm_answer': None},\n",
       " {'full_llm_answer': '#### Jolly has 150 - 5 = <<150-5=145>>145 degrees\\nSince Summer has 150 degrees, the combined total for both is 150 + 145 = <<150+145=295>>295\\n#### 295',\n",
       "  'final_llm_answer': '295'},\n",
       " {'full_llm_answer': '# Summer has 150 - 5 = 145 degrees.\\n#### 145',\n",
       "  'final_llm_answer': '145'},\n",
       " {'full_llm_answer': '#### 295', 'final_llm_answer': '295'},\n",
       " {'full_llm_answer': \"## Step 1: Calculate Jolly's degrees\\nLet Jolly's degrees be x. Then Summer's degrees are x + 5. Since the total degrees is 150, then x + (x + 5) = 150.\\n\\n## Step 2: Simplify the equation\\n2x + 5 = 150\\n\\n## Step 3: Solve the equation\\n2x = 150 - 5\\n2x = 145\\nx = 145/2\\nx = 72.5\\n\\n## Step 4: Calculate the degrees\\nSummer's degrees are x + 5\\nSummer's degrees = 72.5 + 5\\nSummer's degrees = 77.5\\n\\n## Step 5: Combine the degrees\\nCombined degrees = Summer's degrees + Jolly's degrees\\nCombined degrees = 77.5 + 72.5\\nCombined degrees = 150\\n\\nThe final answer is: $\\\\boxed{150}$\",\n",
       "  'final_llm_answer': None},\n",
       " {'full_llm_answer': 'Jolly has 150 - 5 = <<150-5=145>>145 degrees\\nSince Summer has 150 degrees, the combined total for both is 150 + 145 = <<150+145=295>>295\\n#### 295',\n",
       "  'final_llm_answer': '295'},\n",
       " {'full_llm_answer': '## Step 1: Identify the degrees Summer had at the time they met.\\nSummer had 150 degrees.\\n\\n## Step 2: Calculate the degrees Summer ended up with after college.\\nSummer had 5 more degrees after college. So Summer had 150 + 5 = 155 degrees.\\n\\n## Step 3: Calculate the numbers of degrees Jolly had at the time they met.\\nJolly had the same number of degrees as Summer, 155 degrees.\\n\\n## Step 4: Calculate the combined number of degrees they both had.\\nThe total number of degrees they both had is 155 + 155 = 310 degrees.\\n\\nThe final answer is: $\\\\boxed{310}$',\n",
       "  'final_llm_answer': None},\n",
       " {'full_llm_answer': '## Step 1: Determine the number of degrees Summer has.\\nSince Summer has 5 more degrees than Jolly and together they have 150 degrees.\\n\\n## Step 2: Calculate the number of degrees Jolly has.\\nSummer has 150 - 5 = 145 degrees.\\n\\n## Step 3: Determine the number of degrees both summer and jolly have combined.\\nThe number of degrees both have is 150 + 145 = 295 degrees.\\n\\n## Step 4: Answer the first question.\\n\\nThe final answer is: #### 295',\n",
       "  'final_llm_answer': '295'},\n",
       " {'full_llm_answer': 'Summer has 5 degrees more than Jolly.\\nJolly has 150 - 5 = <<150-5=145>>145 degrees\\nTheir total degrees is 150 + 145 = <<150+145=295>>295\\nThe combined number of degrees they both have is 295.',\n",
       "  'final_llm_answer': None},\n",
       " {'full_llm_answer': '#### 150', 'final_llm_answer': '150'},\n",
       " {'full_llm_answer': 'jolly has 150-degree tickets - 5-degree tickets = 145-degree tickets\\nTogether they have 150 + 145 = <<150+145=295>>295 degrees\\n#### 295',\n",
       "  'final_llm_answer': '295'},\n",
       " {'full_llm_answer': '150 - 5 = <<150-5=145>>145 degrees\\nThe combined total of the degrees Summer and Jolly have is 145.\\n#### 145',\n",
       "  'final_llm_answer': '145'},\n",
       " {'full_llm_answer': \"## Step 1: Identify the total number of degrees Summer has\\nSummer has 150 degrees.\\n\\n## Step 2: Identify how many more degrees Summer has than Jolly\\nSummer has 5 more degrees than Jolly, so we subtract Jolly's degrees from Summer's: 150 - 145 = 5 degrees.\\n\\n## Step 3: Calculate the combined total of degrees for both\\nNow we need to find the total number of degrees they both have combined. To do this, we add Summer's degrees to the difference between Summer's and Jolly's degrees: 150 + 5 = 155 degrees.\\n\\nThe final answer is: $\\\\boxed{295}$\",\n",
       "  'final_llm_answer': None},\n",
       " {'full_llm_answer': \"## Step 1: Calculate Summer's total degrees\\nSummer has a total of 150 degrees.\\n\\n## Step 2: Find Jolly's total degrees\\nSince Summer has five more degrees than Jolly, Jolly must have 150 - 5 = 145 degrees.\\n\\n## Step 3: Calculate the combined total degrees\\nThe combined total is 150 + 145 = 295 degrees.\\n\\nThe final answer is: $\\\\boxed{295}$\",\n",
       "  'final_llm_answer': None},\n",
       " {'full_llm_answer': \"## Step 1:  Let's denote the number of degrees Summer had initially as S and the number of degrees Jolly had initially as J.\\n## Step 2:  According to the problem, after college, Summer has five more degrees than Jolly, so we can write the equation: S = J + 5.\\n## Step 3:  The total number of degrees they both have is the sum of what Summer and Jolly have after college, which can be expressed as S + J = 150.\\n\\n## Step 4:  We need to find the values of S and J.\\n## Step 5:  From the equation S = J + 5, we can express S in terms of J by solving the second equation for S.\\n## Step 6:  We rearrange the equation S = J + 5 to S = J + 5, giving us S = J + 5.\\n## Step 7:  We can substitute the expression for S from the first equation (J + 5) into the second equation (S + J = 150) to find J.\\n## Step 8:  J + 5 + J = 150, therefore, 2J + 5 = 150\\n## Step 9:  2J = 150 - 5, therefore, 2J = 145\\n\\n## Step 10:  Subtract 5 from both sides: 2J = 145\\n## Step 11: Divide both sides by 2\\n\\nThe final answer is: $\\\\boxed{145}$\",\n",
       "  'final_llm_answer': None},\n",
       " {'full_llm_answer': \"## Step 1: Determine the number of degrees Summer earned\\nLet's denote Summer's initial degrees as x. Therefore, Jolly's degrees would then be x + 5.\\n\\n## Step 2: Write an equation for Summer's degrees\\nWe know that Summer's total degrees can be expressed as the sum of x + (x + 5) which equals to 150 degrees.\\n\\n## Step 3: Solve for x in the equation\\n2x + 5 = 150.\\n\\n## Step 4: Subtract 5 from both sides\\n2x = 150 - 5.\\n2x = 145.\\n\\n## Step 5: Divide both sides of the equation by 2\\nx = 145 / 2.\\nx = 72.5.\\n\\n## Step 6: Calculate the total degrees for Summer\\nThe total degrees they have together: x + (x + 5) = 72.5 + 5 = 77.5 degrees.\\n\\n## Step 7: Write an equation for the total degrees combined\\nSince Jolly still has 145 - x degrees.\\n\\n## Step 8: Substitute 77.5 in the place of x in the equation\\n144.5 + 145 = 377.5\\n\\nThere are 377.5 degrees in total.\\n\\n## Step 9: Subtract 377.5 from the sum of their degrees\\nWe have 377.5 - 377.5 = 0 degrees.\\n\\nThe final answer is: $\\\\boxed{0}$\",\n",
       "  'final_llm_answer': None}]"
      ]
     },
     "execution_count": 12,
     "metadata": {},
     "output_type": "execute_result"
    }
   ],
   "source": [
    "data[0]['confidence_runs']"
   ]
  },
  {
   "cell_type": "code",
   "execution_count": null,
   "metadata": {},
   "outputs": [],
   "source": []
  }
 ],
 "metadata": {
  "kernelspec": {
   "display_name": "vllm_env",
   "language": "python",
   "name": "python3"
  },
  "language_info": {
   "codemirror_mode": {
    "name": "ipython",
    "version": 3
   },
   "file_extension": ".py",
   "mimetype": "text/x-python",
   "name": "python",
   "nbconvert_exporter": "python",
   "pygments_lexer": "ipython3",
   "version": "3.12.9"
  }
 },
 "nbformat": 4,
 "nbformat_minor": 2
}
